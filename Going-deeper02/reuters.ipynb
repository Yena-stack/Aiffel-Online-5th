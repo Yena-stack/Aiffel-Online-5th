{
 "cells": [
  {
   "cell_type": "markdown",
   "id": "36a51348",
   "metadata": {},
   "source": [
    "# 뉴스 카테고리 다중분류 [프로젝트]\n",
    "## 프로젝트: Vocabulary Size를 변경해서 시도해보기"
   ]
  },
  {
   "cell_type": "code",
   "execution_count": 10,
   "id": "df2d14e2",
   "metadata": {},
   "outputs": [],
   "source": [
    "from tensorflow.keras.datasets import reuters\n",
    "import tensorflow\n",
    "import matplotlib.pyplot as plt\n",
    "import seaborn as sns\n",
    "import numpy as np\n",
    "import pandas as pd\n",
    "import warnings\n",
    "warnings.filterwarnings(\"ignore\")\n",
    "\n",
    "from sklearn.naive_bayes import MultinomialNB #다항분포 나이브 베이즈 모델\n",
    "from sklearn.linear_model import LogisticRegression, SGDClassifier\n",
    "from sklearn.naive_bayes import ComplementNB\n",
    "from sklearn.tree import DecisionTreeClassifier\n",
    "from sklearn.ensemble import RandomForestClassifier\n",
    "from sklearn.ensemble import GradientBoostingClassifier\n",
    "from sklearn.ensemble import VotingClassifier\n",
    "from sklearn.svm import LinearSVC\n",
    "from sklearn.metrics import accuracy_score, f1_score #정확도 계산\n",
    "from sklearn.metrics import classification_report\n",
    "from sklearn.metrics import confusion_matrix\n",
    "\n",
    "from sklearn.feature_extraction.text import CountVectorizer\n",
    "from sklearn.feature_extraction.text import TfidfTransformer\n",
    "\n",
    "import keras.backend as K"
   ]
  },
  {
   "cell_type": "markdown",
   "id": "b2befa40",
   "metadata": {},
   "source": [
    "## 준비"
   ]
  },
  {
   "cell_type": "markdown",
   "id": "a36484f3",
   "metadata": {},
   "source": [
    "### 모델 준비"
   ]
  },
  {
   "cell_type": "code",
   "execution_count": 11,
   "id": "9fd7acc1",
   "metadata": {},
   "outputs": [],
   "source": [
    "def train_model(xtrain, ytrain, xtest, ytest):\n",
    "    nb = MultinomialNB() # 나이브 베이즈 분류기\n",
    "    cb = ComplementNB() # 컴플리먼트 나이브 베이즈 분류기\n",
    "    lr = LogisticRegression(C=10000, penalty='l2', max_iter=3000) # 로지스틱 회귀\n",
    "    lsvc = LinearSVC(C=1000, penalty='l1', max_iter=3000, dual=False) # 선형 서포트 벡터 머신\n",
    "    tree = DecisionTreeClassifier(max_depth=10, random_state=0) # 결정 트리\n",
    "    forest = RandomForestClassifier(n_estimators=5, random_state=0) # 랜덤 포레스트\n",
    "    grbt = GradientBoostingClassifier(random_state=0) # 그래디언트 부스팅 트리\n",
    "    voting_classifier = VotingClassifier(estimators=[ # 보팅\n",
    "            ('lr', LogisticRegression(C=10000, penalty='l2', max_iter=3000)),\n",
    "            ('cb', ComplementNB()),\n",
    "            ('grbt', GradientBoostingClassifier(random_state=0))\n",
    "    ], voting='soft', n_jobs=-1)\n",
    "\n",
    "    model_list = [nb, cb, lr, lsvc, tree, forest, grbt, voting_classifier]\n",
    "\n",
    "    for model in model_list:\n",
    "        model.fit(xtrain, ytrain)\n",
    "        pred = model.predict(xtest)\n",
    "        print(f'{model} 모델 정확도: {accuracy_score(ytest, pred)}, f1-score: {f1_score(ytest, pred, average=\"weighted\")}')"
   ]
  },
  {
   "cell_type": "markdown",
   "id": "64ce438d",
   "metadata": {},
   "source": [
    "### 데이터 복원"
   ]
  },
  {
   "cell_type": "code",
   "execution_count": 12,
   "id": "a1afc86f",
   "metadata": {},
   "outputs": [],
   "source": [
    "word_index = reuters.get_word_index(path='reuters_word_index.json')\n",
    "index_to_word = { index + 3 : word for word, index in word_index.items()\n",
    "                }\n",
    "# index_to_word에 숫자 0은 <pad>, 숫자 1은 <sos>, 숫자 2는 <unk>를 넣어줍니다.\n",
    "for index, token in enumerate((\"<pad>\", \"<sos>\", \"<unk>\")):\n",
    "    index_to_word[index]=token\n",
    "\n",
    "def decode_data(x_train, x_test):\n",
    "    #train 데이터 복원\n",
    "    decoded_train = []\n",
    "    for i in range(len(x_train)):\n",
    "        tr = ' '.join([index_to_word[index] for index in x_train[i]])\n",
    "        decoded_train.append(tr)\n",
    "    x_train = decoded_train\n",
    "\n",
    "    # test 데이터 복원\n",
    "    decoded_test = []\n",
    "    for i in range(len(x_test)):\n",
    "        te = ' '.join([index_to_word[index] for index in x_test[i]])\n",
    "        decoded_test.append(te)\n",
    "    x_test = decoded_test\n",
    "\n",
    "    return x_train, x_test"
   ]
  },
  {
   "cell_type": "markdown",
   "id": "fe151c68",
   "metadata": {},
   "source": [
    "### 벡터화"
   ]
  },
  {
   "cell_type": "code",
   "execution_count": 13,
   "id": "d61c5e7a",
   "metadata": {},
   "outputs": [],
   "source": [
    "def vector(x_train, x_test):\n",
    "    dtmvector = CountVectorizer()  # DTM\n",
    "    tfidf_transformer = TfidfTransformer()  # TF-IDF\n",
    "\n",
    "    # train data\n",
    "    x_train_dtm = dtmvector.fit_transform(x_train)\n",
    "    tfidfv = tfidf_transformer.fit_transform(x_train_dtm)\n",
    "    print(x_train_dtm.shape)\n",
    "    print(tfidfv.shape)\n",
    "\n",
    "    # test data\n",
    "    x_test_dtm = dtmvector.transform(x_test) #테스트 데이터를 DTM으로 변환\n",
    "    tfidfv_test = tfidf_transformer.transform(x_test_dtm) #DTM을 TF-IDF 행렬로 변환\n",
    "\n",
    "    return tfidfv, tfidfv_test"
   ]
  },
  {
   "cell_type": "markdown",
   "id": "670fb16f",
   "metadata": {},
   "source": [
    "## 1. 모든 단어 사용"
   ]
  },
  {
   "cell_type": "markdown",
   "id": "3f8eebc5",
   "metadata": {},
   "source": [
    "### 데이터 로드"
   ]
  },
  {
   "cell_type": "code",
   "execution_count": 47,
   "id": "7595c599",
   "metadata": {},
   "outputs": [],
   "source": [
    "(x_train, y_train), (x_test, y_test) = reuters.load_data(num_words=None, test_split=0.2)"
   ]
  },
  {
   "cell_type": "code",
   "execution_count": 48,
   "id": "8b95d042",
   "metadata": {},
   "outputs": [
    {
     "name": "stdout",
     "output_type": "stream",
     "text": [
      "train data:  8982\n",
      "test data:  2246\n",
      "\n",
      "\n",
      "[1, 27595, 28842, 8, 43, 10, 447, 5, 25, 207, 270, 5, 3095, 111, 16, 369, 186, 90, 67, 7, 89, 5, 19, 102, 6, 19, 124, 15, 90, 67, 84, 22, 482, 26, 7, 48, 4, 49, 8, 864, 39, 209, 154, 6, 151, 6, 83, 11, 15, 22, 155, 11, 15, 7, 48, 9, 4579, 1005, 504, 6, 258, 6, 272, 11, 15, 22, 134, 44, 11, 15, 16, 8, 197, 1245, 90, 67, 52, 29, 209, 30, 32, 132, 6, 109, 15, 17, 12]\n",
      "[1, 4, 1378, 2025, 9, 697, 4622, 111, 8, 25, 109, 29, 3650, 11, 150, 244, 364, 33, 30, 30, 1398, 333, 6, 18292, 159, 9, 1084, 363, 13, 19231, 71, 9, 16273, 71, 117, 4, 225, 78, 206, 10, 9, 1214, 8, 4, 270, 5, 16273, 7, 748, 48, 9, 19231, 7, 207, 1451, 966, 1864, 793, 97, 133, 336, 7, 4, 493, 98, 273, 104, 284, 25, 39, 338, 22, 905, 220, 3465, 644, 59, 20, 6, 119, 61, 11, 15, 58, 579, 26, 10, 67, 7, 4, 738, 98, 43, 88, 333, 722, 12, 20, 6, 19, 746, 35, 15, 10, 9, 1214, 855, 129, 783, 21, 4, 2280, 244, 364, 51, 16, 299, 452, 16, 515, 4, 99, 29, 5, 4, 364, 281, 48, 10, 9, 1214, 23, 644, 47, 20, 324, 27, 56, 23406, 28185, 5, 192, 510, 17, 12]\n"
     ]
    }
   ],
   "source": [
    "print('train data: ', len(x_train))\n",
    "print('test data: ', len(x_test))\n",
    "\n",
    "print('\\n')\n",
    "print(x_train[0])\n",
    "print(x_test[0])"
   ]
  },
  {
   "cell_type": "code",
   "execution_count": 49,
   "id": "5e7863ef",
   "metadata": {},
   "outputs": [
    {
     "name": "stdout",
     "output_type": "stream",
     "text": [
      "3\n",
      "3\n"
     ]
    }
   ],
   "source": [
    "print(y_train[0])\n",
    "print(y_test[0])"
   ]
  },
  {
   "cell_type": "code",
   "execution_count": 50,
   "id": "c7b4c2fd",
   "metadata": {},
   "outputs": [
    {
     "name": "stdout",
     "output_type": "stream",
     "text": [
      "클래스의 수:  46\n"
     ]
    }
   ],
   "source": [
    "num_classes = max(y_train) + 1\n",
    "print('클래스의 수: ', num_classes)"
   ]
  },
  {
   "cell_type": "markdown",
   "id": "216939a5",
   "metadata": {},
   "source": [
    "### 데이터 분포 확인"
   ]
  },
  {
   "cell_type": "code",
   "execution_count": 51,
   "id": "022c7d07",
   "metadata": {},
   "outputs": [
    {
     "name": "stdout",
     "output_type": "stream",
     "text": [
      "훈련용 뉴스의 최대 길이 :2376\n",
      "훈련용 뉴스의 평균 길이 :145.5398574927633\n"
     ]
    },
    {
     "data": {
      "image/png": "[encoded data removed]",
      "text/plain": [
       "<Figure size 640x480 with 1 Axes>"
      ]
     },
     "metadata": {},
     "output_type": "display_data"
    }
   ],
   "source": [
    "print('훈련용 뉴스의 최대 길이 :{}'.format(max(len(l) for l in x_train)))\n",
    "print('훈련용 뉴스의 평균 길이 :{}'.format(sum(map(len, x_train))/len(x_train)))\n",
    "\n",
    "plt.hist([len(s) for s in x_train], bins=50)\n",
    "plt.xlabel('length of samples')\n",
    "plt.ylabel('number of samples')\n",
    "plt.show()"
   ]
  },
  {
   "cell_type": "code",
   "execution_count": 52,
   "id": "98e235cf",
   "metadata": {},
   "outputs": [
    {
     "data": {
      "image/png": "[encoded data removed]",
      "text/plain": [
       "<Figure size 1100x500 with 1 Axes>"
      ]
     },
     "metadata": {},
     "output_type": "display_data"
    }
   ],
   "source": [
    "fig, axe = plt.subplots(ncols=1)\n",
    "fig.set_size_inches(11,5)\n",
    "sns.countplot(x=y_train)\n",
    "plt.show()"
   ]
  },
  {
   "cell_type": "code",
   "execution_count": 53,
   "id": "12e78ac2",
   "metadata": {},
   "outputs": [
    {
     "name": "stdout",
     "output_type": "stream",
     "text": [
      "각 클래스 빈도수:\n",
      "[[   0    1    2    3    4    5    6    7    8    9   10   11   12   13\n",
      "    14   15   16   17   18   19   20   21   22   23   24   25   26   27\n",
      "    28   29   30   31   32   33   34   35   36   37   38   39   40   41\n",
      "    42   43   44   45]\n",
      " [  55  432   74 3159 1949   17   48   16  139  101  124  390   49  172\n",
      "    26   20  444   39   66  549  269  100   15   41   62   92   24   15\n",
      "    48   19   45   39   32   11   50   10   49   19   19   24   36   30\n",
      "    13   21   12   18]]\n"
     ]
    }
   ],
   "source": [
    "unique_elements, counts_elements = np.unique(y_train, return_counts=True)\n",
    "print(\"각 클래스 빈도수:\")\n",
    "print(np.asarray((unique_elements, counts_elements)))"
   ]
  },
  {
   "cell_type": "markdown",
   "id": "14a62fb2",
   "metadata": {},
   "source": [
    "### 데이터 복원"
   ]
  },
  {
   "cell_type": "code",
   "execution_count": 54,
   "id": "f87c67c1",
   "metadata": {},
   "outputs": [],
   "source": [
    "x_train, x_test = decode_data(x_train, x_test)"
   ]
  },
  {
   "cell_type": "code",
   "execution_count": 55,
   "id": "9275b007",
   "metadata": {},
   "outputs": [
    {
     "name": "stdout",
     "output_type": "stream",
     "text": [
      "<sos> mcgrath rentcorp said as a result of its december acquisition of space co it expects earnings per share in 1987 of 1 15 to 1 30 dlrs per share up from 70 cts in 1986 the company said pretax net should rise to nine to 10 mln dlrs from six mln dlrs in 1986 and rental operation revenues to 19 to 22 mln dlrs from 12 5 mln dlrs it said cash flow per share this year should be 2 50 to three dlrs reuter 3\n",
      "\n",
      "\n",
      "<sos> the great atlantic and pacific tea co said its three year 345 mln dlr capital program will be be substantially increased to accommodate growth and expansion plans for waldbaum inc and shopwell inc over the next two years a and p said the acquisition of shopwell in august 1986 and waldbaum in december helped us achieve better than expected results in the fourth quarter ended february 28 its net income from continuing operations jumped 52 6 pct to 20 7 mln dlrs or 55 cts a share in the latest quarter as sales increased 48 3 pct to 1 58 billion dlrs a and p gave no details on the expanded capital program but it did say it completed the first year of the program during 1986 a and p is 52 4 pct owned by lt tengelmann warenhandelsgesellschaft of west germany reuter 3\n"
     ]
    }
   ],
   "source": [
    "print(x_train[0])\n",
    "print('\\n')\n",
    "print(x_test[0])"
   ]
  },
  {
   "cell_type": "markdown",
   "id": "d46a4701",
   "metadata": {},
   "source": [
    "### 벡터화"
   ]
  },
  {
   "cell_type": "code",
   "execution_count": 56,
   "id": "ad3a6afc",
   "metadata": {},
   "outputs": [],
   "source": [
    "from sklearn.feature_extraction.text import CountVectorizer\n",
    "from sklearn.feature_extraction.text import TfidfTransformer"
   ]
  },
  {
   "cell_type": "code",
   "execution_count": 57,
   "id": "334f039e",
   "metadata": {},
   "outputs": [
    {
     "name": "stdout",
     "output_type": "stream",
     "text": [
      "(8982, 26506)\n",
      "(8982, 26506)\n"
     ]
    }
   ],
   "source": [
    "tfidfv, tfidfv_test = vector(x_train, x_test)"
   ]
  },
  {
   "cell_type": "markdown",
   "id": "3321b58c",
   "metadata": {},
   "source": [
    "### 모델 학습"
   ]
  },
  {
   "cell_type": "code",
   "execution_count": 60,
   "id": "55115725",
   "metadata": {},
   "outputs": [
    {
     "name": "stdout",
     "output_type": "stream",
     "text": [
      "MultinomialNB() 모델 정확도: 0.5997328584149599, f1-score: 0.5045670886188423\n",
      "ComplementNB() 모델 정확도: 0.7649154051647373, f1-score: 0.7346534179503126\n",
      "LogisticRegression(C=10000, max_iter=3000) 모델 정확도: 0.8165627782724845, f1-score: 0.8111155027654025\n",
      "LinearSVC(C=1000, dual=False, max_iter=3000, penalty='l1') 모델 정확도: 0.786286731967943, f1-score: 0.782191053529955\n",
      "DecisionTreeClassifier(max_depth=10, random_state=0) 모델 정확도: 0.6211041852181657, f1-score: 0.5769283128518846\n",
      "RandomForestClassifier(n_estimators=5, random_state=0) 모델 정확도: 0.6544968833481746, f1-score: 0.6225909375608356\n",
      "GradientBoostingClassifier(random_state=0) 모델 정확도: 0.7707034728406055, f1-score: 0.7647864978004083\n",
      "VotingClassifier(estimators=[('lr', LogisticRegression(C=10000, max_iter=3000)),\n",
      "                             ('cb', ComplementNB()),\n",
      "                             ('grbt',\n",
      "                              GradientBoostingClassifier(random_state=0))],\n",
      "                 n_jobs=-1, voting='soft') 모델 정확도: 0.8156723063223509, f1-score: 0.8117561034163696\n"
     ]
    }
   ],
   "source": [
    "train_model(tfidfv, y_train, tfidfv_test, y_test)"
   ]
  },
  {
   "cell_type": "markdown",
   "id": "29921250",
   "metadata": {},
   "source": [
    "## 2. 빈도수 상위 5,000개의 단어만 사용"
   ]
  },
  {
   "cell_type": "code",
   "execution_count": 71,
   "id": "2e39a3a0",
   "metadata": {},
   "outputs": [],
   "source": [
    "K.clear_session()"
   ]
  },
  {
   "cell_type": "code",
   "execution_count": 72,
   "id": "e7749112",
   "metadata": {},
   "outputs": [],
   "source": [
    "(x_train, y_train), (x_test, y_test) = reuters.load_data(num_words=5000, test_split=0.2)"
   ]
  },
  {
   "cell_type": "code",
   "execution_count": 73,
   "id": "11ae18e7",
   "metadata": {},
   "outputs": [
    {
     "name": "stdout",
     "output_type": "stream",
     "text": [
      "train data:  8982\n",
      "test data:  2246\n",
      "\n",
      "\n",
      "[1, 2, 2, 8, 43, 10, 447, 5, 25, 207, 270, 5, 3095, 111, 16, 369, 186, 90, 67, 7, 89, 5, 19, 102, 6, 19, 124, 15, 90, 67, 84, 22, 482, 26, 7, 48, 4, 49, 8, 864, 39, 209, 154, 6, 151, 6, 83, 11, 15, 22, 155, 11, 15, 7, 48, 9, 4579, 1005, 504, 6, 258, 6, 272, 11, 15, 22, 134, 44, 11, 15, 16, 8, 197, 1245, 90, 67, 52, 29, 209, 30, 32, 132, 6, 109, 15, 17, 12]\n",
      "[1, 4, 1378, 2025, 9, 697, 4622, 111, 8, 25, 109, 29, 3650, 11, 150, 244, 364, 33, 30, 30, 1398, 333, 6, 2, 159, 9, 1084, 363, 13, 2, 71, 9, 2, 71, 117, 4, 225, 78, 206, 10, 9, 1214, 8, 4, 270, 5, 2, 7, 748, 48, 9, 2, 7, 207, 1451, 966, 1864, 793, 97, 133, 336, 7, 4, 493, 98, 273, 104, 284, 25, 39, 338, 22, 905, 220, 3465, 644, 59, 20, 6, 119, 61, 11, 15, 58, 579, 26, 10, 67, 7, 4, 738, 98, 43, 88, 333, 722, 12, 20, 6, 19, 746, 35, 15, 10, 9, 1214, 855, 129, 783, 21, 4, 2280, 244, 364, 51, 16, 299, 452, 16, 515, 4, 99, 29, 5, 4, 364, 281, 48, 10, 9, 1214, 23, 644, 47, 20, 324, 27, 56, 2, 2, 5, 192, 510, 17, 12]\n"
     ]
    }
   ],
   "source": [
    "print('train data: ', len(x_train))\n",
    "print('test data: ', len(x_test))\n",
    "\n",
    "print('\\n')\n",
    "print(x_train[0])\n",
    "print(x_test[0])"
   ]
  },
  {
   "cell_type": "code",
   "execution_count": 74,
   "id": "95d0cc73",
   "metadata": {},
   "outputs": [],
   "source": [
    "x_train, x_test = decode_data(x_train, x_test)"
   ]
  },
  {
   "cell_type": "code",
   "execution_count": 75,
   "id": "b7fcd6a5",
   "metadata": {},
   "outputs": [
    {
     "name": "stdout",
     "output_type": "stream",
     "text": [
      "(8982, 4867)\n",
      "(8982, 4867)\n"
     ]
    }
   ],
   "source": [
    "tfidfv, tfidfv_test = vector(x_train, x_test)"
   ]
  },
  {
   "cell_type": "code",
   "execution_count": 76,
   "id": "2e4f3847",
   "metadata": {},
   "outputs": [
    {
     "name": "stdout",
     "output_type": "stream",
     "text": [
      "MultinomialNB() 모델 정확도: 0.6731967943009796, f1-score: 0.6012501291711391\n",
      "ComplementNB() 모델 정확도: 0.7707034728406055, f1-score: 0.7458990404916549\n",
      "LogisticRegression(C=10000, max_iter=3000) 모델 정확도: 0.8036509349955476, f1-score: 0.7985473379456164\n",
      "LinearSVC(C=1000, dual=False, max_iter=3000, penalty='l1') 모델 정확도: 0.7756010685663401, f1-score: 0.7722155920025688\n",
      "DecisionTreeClassifier(max_depth=10, random_state=0) 모델 정확도: 0.6179875333926982, f1-score: 0.5729970881280324\n",
      "RandomForestClassifier(n_estimators=5, random_state=0) 모델 정확도: 0.6999109528049866, f1-score: 0.6756757143753163\n",
      "GradientBoostingClassifier(random_state=0) 모델 정확도: 0.7684772929652716, f1-score: 0.7671578930104616\n",
      "VotingClassifier(estimators=[('lr', LogisticRegression(C=10000, max_iter=3000)),\n",
      "                             ('cb', ComplementNB()),\n",
      "                             ('grbt',\n",
      "                              GradientBoostingClassifier(random_state=0))],\n",
      "                 n_jobs=-1, voting='soft') 모델 정확도: 0.8103294746215495, f1-score: 0.8076179204267383\n"
     ]
    }
   ],
   "source": [
    "train_model(tfidfv, y_train, tfidfv_test, y_test)"
   ]
  },
  {
   "cell_type": "markdown",
   "id": "13b36263",
   "metadata": {},
   "source": [
    "## 3. 직접 단어 개수를 설정해서 사용"
   ]
  },
  {
   "cell_type": "code",
   "execution_count": 83,
   "id": "dd3ce049",
   "metadata": {},
   "outputs": [],
   "source": [
    "K.clear_session()"
   ]
  },
  {
   "cell_type": "markdown",
   "id": "1ac652ab",
   "metadata": {},
   "source": [
    "### 3-1. num_words = 10000"
   ]
  },
  {
   "cell_type": "code",
   "execution_count": 78,
   "id": "ce6f58e8",
   "metadata": {},
   "outputs": [],
   "source": [
    "(x_train, y_train), (x_test, y_test) = reuters.load_data(num_words=10000, test_split=0.2) # data load"
   ]
  },
  {
   "cell_type": "code",
   "execution_count": 79,
   "id": "ee89cf64",
   "metadata": {},
   "outputs": [
    {
     "name": "stdout",
     "output_type": "stream",
     "text": [
      "train data:  8982\n",
      "test data:  2246\n",
      "\n",
      "\n",
      "[1, 2, 2, 8, 43, 10, 447, 5, 25, 207, 270, 5, 3095, 111, 16, 369, 186, 90, 67, 7, 89, 5, 19, 102, 6, 19, 124, 15, 90, 67, 84, 22, 482, 26, 7, 48, 4, 49, 8, 864, 39, 209, 154, 6, 151, 6, 83, 11, 15, 22, 155, 11, 15, 7, 48, 9, 4579, 1005, 504, 6, 258, 6, 272, 11, 15, 22, 134, 44, 11, 15, 16, 8, 197, 1245, 90, 67, 52, 29, 209, 30, 32, 132, 6, 109, 15, 17, 12]\n",
      "[1, 4, 1378, 2025, 9, 697, 4622, 111, 8, 25, 109, 29, 3650, 11, 150, 244, 364, 33, 30, 30, 1398, 333, 6, 2, 159, 9, 1084, 363, 13, 2, 71, 9, 2, 71, 117, 4, 225, 78, 206, 10, 9, 1214, 8, 4, 270, 5, 2, 7, 748, 48, 9, 2, 7, 207, 1451, 966, 1864, 793, 97, 133, 336, 7, 4, 493, 98, 273, 104, 284, 25, 39, 338, 22, 905, 220, 3465, 644, 59, 20, 6, 119, 61, 11, 15, 58, 579, 26, 10, 67, 7, 4, 738, 98, 43, 88, 333, 722, 12, 20, 6, 19, 746, 35, 15, 10, 9, 1214, 855, 129, 783, 21, 4, 2280, 244, 364, 51, 16, 299, 452, 16, 515, 4, 99, 29, 5, 4, 364, 281, 48, 10, 9, 1214, 23, 644, 47, 20, 324, 27, 56, 2, 2, 5, 192, 510, 17, 12]\n"
     ]
    }
   ],
   "source": [
    "print('train data: ', len(x_train))\n",
    "print('test data: ', len(x_test))\n",
    "\n",
    "print('\\n')\n",
    "print(x_train[0])\n",
    "print(x_test[0])"
   ]
  },
  {
   "cell_type": "code",
   "execution_count": 80,
   "id": "144f5b62",
   "metadata": {},
   "outputs": [],
   "source": [
    "x_train, x_test = decode_data(x_train, x_test) # 데이터 복원"
   ]
  },
  {
   "cell_type": "code",
   "execution_count": 81,
   "id": "3ecc98d3",
   "metadata": {},
   "outputs": [
    {
     "name": "stdout",
     "output_type": "stream",
     "text": [
      "(8982, 9670)\n",
      "(8982, 9670)\n"
     ]
    }
   ],
   "source": [
    "tfidfv, tfidfv_test = vector(x_train, x_test) # 벡터화"
   ]
  },
  {
   "cell_type": "code",
   "execution_count": 82,
   "id": "ca5f0415",
   "metadata": {},
   "outputs": [
    {
     "name": "stdout",
     "output_type": "stream",
     "text": [
      "MultinomialNB() 모델 정확도: 0.6567230632235085, f1-score: 0.5764467518778252\n",
      "ComplementNB() 모델 정확도: 0.7707034728406055, f1-score: 0.7456682614453047\n",
      "LogisticRegression(C=10000, max_iter=3000) 모델 정확도: 0.8098842386464826, f1-score: 0.8049045165492067\n",
      "LinearSVC(C=1000, dual=False, max_iter=3000, penalty='l1') 모델 정확도: 0.7867319679430098, f1-score: 0.7828355760670743\n",
      "DecisionTreeClassifier(max_depth=10, random_state=0) 모델 정확도: 0.6202137132680321, f1-score: 0.5776398779280149\n",
      "RandomForestClassifier(n_estimators=5, random_state=0) 모델 정확도: 0.674087266251113, f1-score: 0.6429484177284822\n",
      "GradientBoostingClassifier(random_state=0) 모델 정확도: 0.7693677649154052, f1-score: 0.7657116922370131\n",
      "VotingClassifier(estimators=[('lr', LogisticRegression(C=10000, max_iter=3000)),\n",
      "                             ('cb', ComplementNB()),\n",
      "                             ('grbt',\n",
      "                              GradientBoostingClassifier(random_state=0))],\n",
      "                 n_jobs=-1, voting='soft') 모델 정확도: 0.8156723063223509, f1-score: 0.81258610417105\n"
     ]
    }
   ],
   "source": [
    "train_model(tfidfv, y_train, tfidfv_test, y_test) # 모델 학습"
   ]
  },
  {
   "cell_type": "markdown",
   "id": "bac3ba40",
   "metadata": {},
   "source": [
    "### 3-2. num_words = 3000"
   ]
  },
  {
   "cell_type": "code",
   "execution_count": 62,
   "id": "61328068",
   "metadata": {},
   "outputs": [],
   "source": [
    "(x_train, y_train), (x_test, y_test) = reuters.load_data(num_words=3000, test_split=0.2) # data load"
   ]
  },
  {
   "cell_type": "code",
   "execution_count": 63,
   "id": "0fa2260f",
   "metadata": {},
   "outputs": [
    {
     "name": "stdout",
     "output_type": "stream",
     "text": [
      "train data:  8982\n",
      "test data:  2246\n",
      "\n",
      "\n",
      "[1, 2, 2, 8, 43, 10, 447, 5, 25, 207, 270, 5, 2, 111, 16, 369, 186, 90, 67, 7, 89, 5, 19, 102, 6, 19, 124, 15, 90, 67, 84, 22, 482, 26, 7, 48, 4, 49, 8, 864, 39, 209, 154, 6, 151, 6, 83, 11, 15, 22, 155, 11, 15, 7, 48, 9, 2, 1005, 504, 6, 258, 6, 272, 11, 15, 22, 134, 44, 11, 15, 16, 8, 197, 1245, 90, 67, 52, 29, 209, 30, 32, 132, 6, 109, 15, 17, 12]\n",
      "[1, 4, 1378, 2025, 9, 697, 2, 111, 8, 25, 109, 29, 2, 11, 150, 244, 364, 33, 30, 30, 1398, 333, 6, 2, 159, 9, 1084, 363, 13, 2, 71, 9, 2, 71, 117, 4, 225, 78, 206, 10, 9, 1214, 8, 4, 270, 5, 2, 7, 748, 48, 9, 2, 7, 207, 1451, 966, 1864, 793, 97, 133, 336, 7, 4, 493, 98, 273, 104, 284, 25, 39, 338, 22, 905, 220, 2, 644, 59, 20, 6, 119, 61, 11, 15, 58, 579, 26, 10, 67, 7, 4, 738, 98, 43, 88, 333, 722, 12, 20, 6, 19, 746, 35, 15, 10, 9, 1214, 855, 129, 783, 21, 4, 2280, 244, 364, 51, 16, 299, 452, 16, 515, 4, 99, 29, 5, 4, 364, 281, 48, 10, 9, 1214, 23, 644, 47, 20, 324, 27, 56, 2, 2, 5, 192, 510, 17, 12]\n"
     ]
    }
   ],
   "source": [
    "print('train data: ', len(x_train))\n",
    "print('test data: ', len(x_test))\n",
    "\n",
    "print('\\n')\n",
    "print(x_train[0])\n",
    "print(x_test[0])"
   ]
  },
  {
   "cell_type": "code",
   "execution_count": 64,
   "id": "a4f0f9b2",
   "metadata": {},
   "outputs": [],
   "source": [
    "x_train, x_test = decode_data(x_train, x_test) # 데이터 복원"
   ]
  },
  {
   "cell_type": "code",
   "execution_count": 65,
   "id": "5fd1dd16",
   "metadata": {},
   "outputs": [
    {
     "name": "stdout",
     "output_type": "stream",
     "text": [
      "(8982, 2919)\n",
      "(8982, 2919)\n"
     ]
    }
   ],
   "source": [
    "tfidfv, tfidfv_test = vector(x_train, x_test) # 벡터화"
   ]
  },
  {
   "cell_type": "code",
   "execution_count": 66,
   "id": "4f90fab5",
   "metadata": {},
   "outputs": [
    {
     "name": "stdout",
     "output_type": "stream",
     "text": [
      "MultinomialNB() 모델 정확도: 0.6874443455031166, f1-score: 0.6266168450864102\n",
      "ComplementNB() 모델 정확도: 0.7644701691896705, f1-score: 0.7369718160654114\n",
      "LogisticRegression(C=10000, max_iter=3000) 모델 정확도: 0.7880676758682101, f1-score: 0.783784564292078\n",
      "LinearSVC(C=1000, dual=False, max_iter=3000, penalty='l1') 모델 정확도: 0.7586821015138023, f1-score: 0.7559792625098161\n",
      "DecisionTreeClassifier(max_depth=10, random_state=0) 모델 정확도: 0.6260017809439002, f1-score: 0.580006731123168\n",
      "RandomForestClassifier(n_estimators=5, random_state=0) 모델 정확도: 0.684772929652716, f1-score: 0.6580696173126419\n",
      "GradientBoostingClassifier(random_state=0) 모델 정확도: 0.776046304541407, f1-score: 0.7724238105009631\n",
      "VotingClassifier(estimators=[('lr', LogisticRegression(C=10000, max_iter=3000)),\n",
      "                             ('cb', ComplementNB()),\n",
      "                             ('grbt',\n",
      "                              GradientBoostingClassifier(random_state=0))],\n",
      "                 n_jobs=-1, voting='soft') 모델 정확도: 0.802760463045414, f1-score: 0.7986106703286536\n"
     ]
    }
   ],
   "source": [
    "train_model(tfidfv, y_train, tfidfv_test, y_test) # 모델 학습"
   ]
  },
  {
   "cell_type": "markdown",
   "id": "a77f8186",
   "metadata": {},
   "source": [
    "### 3-3. num_words = 15000"
   ]
  },
  {
   "cell_type": "code",
   "execution_count": 84,
   "id": "af5ca8b7",
   "metadata": {},
   "outputs": [],
   "source": [
    "(x_train, y_train), (x_test, y_test) = reuters.load_data(num_words=15000, test_split=0.2) # data load"
   ]
  },
  {
   "cell_type": "code",
   "execution_count": 85,
   "id": "98e4381f",
   "metadata": {},
   "outputs": [
    {
     "name": "stdout",
     "output_type": "stream",
     "text": [
      "train data:  8982\n",
      "test data:  2246\n",
      "\n",
      "\n",
      "[1, 2, 2, 8, 43, 10, 447, 5, 25, 207, 270, 5, 3095, 111, 16, 369, 186, 90, 67, 7, 89, 5, 19, 102, 6, 19, 124, 15, 90, 67, 84, 22, 482, 26, 7, 48, 4, 49, 8, 864, 39, 209, 154, 6, 151, 6, 83, 11, 15, 22, 155, 11, 15, 7, 48, 9, 4579, 1005, 504, 6, 258, 6, 272, 11, 15, 22, 134, 44, 11, 15, 16, 8, 197, 1245, 90, 67, 52, 29, 209, 30, 32, 132, 6, 109, 15, 17, 12]\n",
      "[1, 4, 1378, 2025, 9, 697, 4622, 111, 8, 25, 109, 29, 3650, 11, 150, 244, 364, 33, 30, 30, 1398, 333, 6, 2, 159, 9, 1084, 363, 13, 2, 71, 9, 2, 71, 117, 4, 225, 78, 206, 10, 9, 1214, 8, 4, 270, 5, 2, 7, 748, 48, 9, 2, 7, 207, 1451, 966, 1864, 793, 97, 133, 336, 7, 4, 493, 98, 273, 104, 284, 25, 39, 338, 22, 905, 220, 3465, 644, 59, 20, 6, 119, 61, 11, 15, 58, 579, 26, 10, 67, 7, 4, 738, 98, 43, 88, 333, 722, 12, 20, 6, 19, 746, 35, 15, 10, 9, 1214, 855, 129, 783, 21, 4, 2280, 244, 364, 51, 16, 299, 452, 16, 515, 4, 99, 29, 5, 4, 364, 281, 48, 10, 9, 1214, 23, 644, 47, 20, 324, 27, 56, 2, 2, 5, 192, 510, 17, 12]\n"
     ]
    }
   ],
   "source": [
    "print('train data: ', len(x_train))\n",
    "print('test data: ', len(x_test))\n",
    "\n",
    "print('\\n')\n",
    "print(x_train[0])\n",
    "print(x_test[0])"
   ]
  },
  {
   "cell_type": "code",
   "execution_count": 86,
   "id": "4e8e7cf1",
   "metadata": {},
   "outputs": [],
   "source": [
    "x_train, x_test = decode_data(x_train, x_test) # 데이터 복원"
   ]
  },
  {
   "cell_type": "code",
   "execution_count": 87,
   "id": "17b6e5e4",
   "metadata": {},
   "outputs": [
    {
     "name": "stdout",
     "output_type": "stream",
     "text": [
      "(8982, 14227)\n",
      "(8982, 14227)\n"
     ]
    }
   ],
   "source": [
    "tfidfv, tfidfv_test = vector(x_train, x_test) # 벡터화"
   ]
  },
  {
   "cell_type": "code",
   "execution_count": 88,
   "id": "d3ad8586",
   "metadata": {},
   "outputs": [
    {
     "name": "stdout",
     "output_type": "stream",
     "text": [
      "MultinomialNB() 모델 정확도: 0.6331255565449688, f1-score: 0.5498212868794679\n",
      "ComplementNB() 모델 정확도: 0.7720391807658059, f1-score: 0.7448186439256785\n",
      "LogisticRegression(C=10000, max_iter=3000) 모델 정확도: 0.8143365983971504, f1-score: 0.8094584042596985\n",
      "LinearSVC(C=1000, dual=False, max_iter=3000, penalty='l1') 모델 정확도: 0.790293855743544, f1-score: 0.7862851650381546\n",
      "DecisionTreeClassifier(max_depth=10, random_state=0) 모델 정확도: 0.6188780053428317, f1-score: 0.5751559040653084\n",
      "RandomForestClassifier(n_estimators=5, random_state=0) 모델 정확도: 0.6714158504007124, f1-score: 0.6406930098492383\n",
      "GradientBoostingClassifier(random_state=0) 모델 정확도: 0.7702582368655387, f1-score: 0.7672496737326034\n",
      "VotingClassifier(estimators=[('lr', LogisticRegression(C=10000, max_iter=3000)),\n",
      "                             ('cb', ComplementNB()),\n",
      "                             ('grbt',\n",
      "                              GradientBoostingClassifier(random_state=0))],\n",
      "                 n_jobs=-1, voting='soft') 모델 정확도: 0.8147818343722173, f1-score: 0.8127379752993176\n"
     ]
    }
   ],
   "source": [
    "train_model(tfidfv, y_train, tfidfv_test, y_test) # 모델 학습"
   ]
  },
  {
   "cell_type": "markdown",
   "id": "05c4efa8",
   "metadata": {},
   "source": [
    "|모델/num_words|all|3000|5000|10000|15000|\n",
    "|:---:|:---:|:---:|:---:|:---:|:---:|\n",
    "|나이브 베이즈 분류기|0.600|**0.687**|0.673|0.657|0.633|\n",
    "|컴플리먼트 나이브 베이즈 분류기|0.765|0.764|0.771|0.771|**0.772**|\n",
    "|로지스틱 회귀|<span style=\"color:red\">0.817</span>|0.788|0.804|0.810|0.814|\n",
    "|선형 서포트 벡터 머신|0.788|0.756|0.777|0.785|**0.793**|\n",
    "|결정 트리|0.621|**0.626**|0.618|0.620|0.619|\n",
    "|랜덤 포레스트|0.654|0.685|**0.700**|0.674|0.671|\n",
    "|그래디언트 부스팅 트리|0.771|**0.776**|0.768|0.769|0.770|\n",
    "|보팅|**0.816**|0.803|0.810|**0.816**|0.815|"
   ]
  },
  {
   "cell_type": "markdown",
   "id": "84144869",
   "metadata": {},
   "source": [
    "## 4. RNN\n",
    "위 모델들에서 가장 성능이 좋았던 모든 데이터에 대해 LSTM 적용"
   ]
  },
  {
   "cell_type": "code",
   "execution_count": 14,
   "id": "bd6bec1d",
   "metadata": {},
   "outputs": [
    {
     "name": "stdout",
     "output_type": "stream",
     "text": [
      "8982 2246\n",
      "max_len :  2376\n"
     ]
    }
   ],
   "source": [
    "(x_train, y_train), (x_test, y_test) = reuters.load_data(num_words=None, test_split=0.2)\n",
    "print(len(x_train), len(x_test))\n",
    "max_len = max(len(l) for l in np.concatenate((x_train, x_test), axis=0))\n",
    "print('max_len : ', max_len)"
   ]
  },
  {
   "cell_type": "code",
   "execution_count": 15,
   "id": "807b55ff",
   "metadata": {},
   "outputs": [],
   "source": [
    "from tensorflow import keras\n",
    "from tensorflow.keras.preprocessing.sequence import pad_sequences\n",
    "from tensorflow.keras.utils import to_categorical\n",
    "from tensorflow.keras.callbacks import EarlyStopping, ModelCheckpoint\n",
    "from tensorflow.keras.models import load_model\n",
    "\n",
    "x_train = pad_sequences(x_train, maxlen=max_len)\n",
    "x_test = pad_sequences(x_test, maxlen=max_len)"
   ]
  },
  {
   "cell_type": "code",
   "execution_count": 16,
   "id": "e707122e",
   "metadata": {},
   "outputs": [
    {
     "name": "stdout",
     "output_type": "stream",
     "text": [
      "Epoch 1/100\n",
      "99/99 [==============================] - 13s 114ms/step - loss: 2.5418 - accuracy: 0.3552 - val_loss: 2.0485 - val_accuracy: 0.4835\n",
      "Epoch 2/100\n",
      "99/99 [==============================] - 11s 113ms/step - loss: 1.9006 - accuracy: 0.4967 - val_loss: 1.8349 - val_accuracy: 0.5124\n",
      "Epoch 3/100\n",
      "99/99 [==============================] - 11s 114ms/step - loss: 1.6897 - accuracy: 0.5526 - val_loss: 1.7409 - val_accuracy: 0.5340\n",
      "Epoch 4/100\n",
      "99/99 [==============================] - 11s 116ms/step - loss: 1.6117 - accuracy: 0.5783 - val_loss: 1.7038 - val_accuracy: 0.5647\n",
      "Epoch 5/100\n",
      "99/99 [==============================] - 12s 118ms/step - loss: 1.3806 - accuracy: 0.6386 - val_loss: 1.5810 - val_accuracy: 0.6093\n",
      "Epoch 6/100\n",
      "99/99 [==============================] - 12s 118ms/step - loss: 1.1259 - accuracy: 0.7010 - val_loss: 1.4673 - val_accuracy: 0.6423\n",
      "Epoch 7/100\n",
      "99/99 [==============================] - 12s 117ms/step - loss: 0.9348 - accuracy: 0.7528 - val_loss: 1.4850 - val_accuracy: 0.6542\n",
      "Epoch 8/100\n",
      "99/99 [==============================] - 11s 116ms/step - loss: 0.7580 - accuracy: 0.7991 - val_loss: 1.5136 - val_accuracy: 0.6438\n",
      "Epoch 9/100\n",
      "99/99 [==============================] - 11s 115ms/step - loss: 0.6333 - accuracy: 0.8308 - val_loss: 1.5312 - val_accuracy: 0.6668\n",
      "Epoch 10/100\n",
      "99/99 [==============================] - 11s 114ms/step - loss: 0.5078 - accuracy: 0.8673 - val_loss: 1.5787 - val_accuracy: 0.6709\n",
      "Epoch 11/100\n",
      "99/99 [==============================] - 11s 115ms/step - loss: 0.4207 - accuracy: 0.8944 - val_loss: 1.7980 - val_accuracy: 0.6360\n",
      "Epoch 00011: early stopping\n"
     ]
    }
   ],
   "source": [
    "vocab_size = len(index_to_word)\n",
    "word_vector_dim = 128\n",
    "\n",
    "model = keras.Sequential()\n",
    "model.add(keras.layers.Embedding(vocab_size, word_vector_dim))\n",
    "model.add(keras.layers.LSTM(128))\n",
    "model.add(keras.layers.Dense(46, activation='softmax'))\n",
    "\n",
    "mc = ModelCheckpoint(\"reuters.h5\",monitor='val_accuracy', save_best_only=True)\n",
    "es = EarlyStopping(monitor='val_loss', mode='min', verbose=1, patience=5)\n",
    "model.compile(optimizer='adam', loss='sparse_categorical_crossentropy', metrics=['accuracy'])\n",
    "\n",
    "history = model.fit(x_train, y_train, epochs=100, callbacks=[es, mc], batch_size=64, validation_split=0.3, verbose=1)"
   ]
  },
  {
   "cell_type": "code",
   "execution_count": 27,
   "id": "7e97a533",
   "metadata": {},
   "outputs": [
    {
     "name": "stdout",
     "output_type": "stream",
     "text": [
      "71/71 [==============================] - 2s 31ms/step - loss: 1.8498 - accuracy: 0.6278\n"
     ]
    },
    {
     "data": {
      "text/plain": [
       "[1.8498387336730957, 0.6277827024459839]"
      ]
     },
     "execution_count": 27,
     "metadata": {},
     "output_type": "execute_result"
    }
   ],
   "source": [
    "model = load_model('reuters.h5')\n",
    "model.evaluate(x_test, y_test)"
   ]
  },
  {
   "cell_type": "markdown",
   "id": "5ba9fa8e",
   "metadata": {},
   "source": [
    "## 5. 결론"
   ]
  },
  {
   "cell_type": "markdown",
   "id": "9df4feae",
   "metadata": {},
   "source": [
    "### 루브릭\n",
    "\n",
    "|평가문항|상세기준|\n",
    "|:---|:---|\n",
    "|1. 분류 모델의 accuracy가 기준 이상 높게 나왔는가?|3가지 단어 개수에 대해 8가지 머신러닝 기법을 적용하여 그중 최적의 솔루션을 도출하였다.|\n",
    "|2. 분류 모델의 F1 score가 기준 이상 높게 나왔는가?\t|Vocabulary size에 따른 각 머신러닝 모델의 성능변화 추이를 살피고, 해당 머신러닝 알고리즘의 특성에 근거해 원인을 분석하였다.|\n",
    "|3. 딥러닝 모델을 활용해 성능이 비교 및 확인되었는가?|동일한 데이터셋과 전처리 조건으로 딥러닝 모델의 성능과 비교하여 결과에 따른 원인을 분석하였다.|\n",
    "\n"
   ]
  },
  {
   "cell_type": "markdown",
   "id": "c6c44113",
   "metadata": {},
   "source": [
    "### 고찰"
   ]
  },
  {
   "cell_type": "markdown",
   "id": "38c331d6",
   "metadata": {},
   "source": [
    "<span style=\"color:blue\">같은 모델 중 가장 높은 정확도</span>  \n",
    "<span style=\"color:green\">같은 num_words 중 가장 높은 정확도</span>  \n",
    "<span style=\"color:red\">같은 모델과 num_words에서 가장 높은 정확도</span>\n",
    "\n",
    "|accuracy|all|3000|5000|10000|15000|\n",
    "|:---:|:---:|:---:|:---:|:---:|:---:|\n",
    "|나이브 베이즈 분류기|0.600|<span style=\"color:blue\">0.687</span>|0.673|0.657|0.633|\n",
    "|컴플리먼트 나이브 베이즈 분류기|0.765|0.764|0.771|0.771|<span style=\"color:blue\">0.772</span>|\n",
    "|로지스틱 회귀|<span style=\"color:red\">0.817</span>|0.788|0.804|0.810|0.814|\n",
    "|선형 서포트 벡터 머신|0.788|0.756|0.777|0.785|<span style=\"color:blue\">0.793</span>|\n",
    "|결정 트리|0.621|<span style=\"color:blue\">0.626</span>|0.618|0.620|0.619|\n",
    "|랜덤 포레스트|0.654|0.685|<span style=\"color:blue\">0.700</span>|0.674|0.671|\n",
    "|그래디언트 부스팅 트리|0.771|<span style=\"color:blue\">0.776</span>|0.768|0.769|0.770|\n",
    "|보팅|<span style=\"color:blue\">0.816</span>|<span style=\"color:green\">0.803</span>|<span style=\"color:green\">0.810</span>|<span style=\"color:red\">0.816</span>|<span style=\"color:green\">0.815</span>|"
   ]
  },
  {
   "cell_type": "markdown",
   "id": "43f8c0d7",
   "metadata": {},
   "source": [
    "accuracy에서,\n",
    "- 나이브 베이즈 분류기: 데이터가 적을수록(중요도 높은 단어만 사용했을 경우) 성능이 가장 높았다. 나이브 베이즈 분류기가 베이즈 정리를 바탕으로 한 통계적 분류 기법이기 때문인 것 같다.\n",
    "- 다른 모델에서는 num_words 개수의 영향을 크게 받지 않은 것으로 보인다.\n",
    "- 트리 기반 모델은 희소 고차원 데이터(가령, 지금의 텍스트 데이터 같은)에는 적합하지 않아 좋은 성능을 내지 못했다.\n",
    "- 로지스틱 회귀와 보팅에서 num_words에 관게없이 좋은 성능을 보였다. \n",
    "- 가장 좋은 성능을 낸 모델은 로지스틱 회귀 모델이었지만 앙상블 학습의 특성상, 보팅이 다양한 조건에서 유연성을 보여주었다."
   ]
  },
  {
   "cell_type": "markdown",
   "id": "5e96e443",
   "metadata": {},
   "source": [
    "<span style=\"color:blue\">같은 모델 중 가장 높은 f1 score</span>  \n",
    "<span style=\"color:green\">같은 num_words 중 가장 높은 f1 score</span>  \n",
    "<span style=\"color:red\">같은 모델과 num_words에서 가장 높은 f1 score</span>\n",
    "\n",
    "|f1-score|all|3000|5000|10000|15000|\n",
    "|:---:|:---:|:---:|:---:|:---:|:---:|\n",
    "|나이브 베이즈 분류기|0.505|<span style=\"color:blue\">0.627</span>|0.601|0.576|0.550|\n",
    "|컴플리먼트 나이브 베이즈 분류기|0.735|0.737|<span style=\"color:blue\">0.746</span>|<span style=\"color:blue\">0.746</span>|0.745|\n",
    "|로지스틱 회귀|<span style=\"color:blue\">0.811</span>|0.784|0.799|0.805|0.809|\n",
    "|선형 서포트 벡터 머신|0.782|0.756|0.772|0.783|<span style=\"color:blue\">0.786</span>|\n",
    "|결정 트리|0.577|<span style=\"color:blue\">0.580</span>|0.573|0.578|0.575|\n",
    "|랜덤 포레스트|0.623|0.658|<span style=\"color:blue\">0.676</span>|0.643|0.641|\n",
    "|그래디언트 부스팅 트리|0.765|<span style=\"color:blue\">0.772</span>|0.767|0.766|0.767|\n",
    "|보팅|<span style=\"color:green\">0.812</span>|<span style=\"color:green\">0.799</span>|<span style=\"color:green\">0.808</span>|<span style=\"color:red\">0.813</span>|<span style=\"color:red\">0.813</span>|"
   ]
  },
  {
   "cell_type": "markdown",
   "id": "ac75776d",
   "metadata": {},
   "source": [
    "f1 score에서,\n",
    "- 모든 num_words에서 보팅의 성능이 가장 높았다.\n",
    "- f1 score에서도 나이브 베이즈 분류기를 제외하면 num_words 개수에 큰 영향을 받지 않았다.\n",
    "- 전체적으로 accuracy와 f1 score가 비슷한 값을 보였다.\n",
    "- accuracy에서와 같이 보팅이 다른 조건에서도 비슷한 성능을 보였다."
   ]
  },
  {
   "cell_type": "markdown",
   "id": "a5568543",
   "metadata": {},
   "source": [
    "|모델|모든 데이터|\n",
    "|:---:|:---:|\n",
    "|로지스틱 회귀|**0.817**|\n",
    "|LSTM|0.628|"
   ]
  },
  {
   "cell_type": "markdown",
   "id": "6232a313",
   "metadata": {},
   "source": [
    "가장 정확도가 높았던 로지스틱 회귀와 LSTM 모델을 비교했을 때, 로지스틱 회귀의 성능이 더 높았다. LSTM의 성능이 생각보다 낮았는데, 사전 임베딩 사용, 정규화, BoW 방식으로 변경하는 등의 방법으로 성능을 개선시킬 수 있을 것 같다. 같은 조건 하에서는 일반적인 로지스틱 회귀가 더 좋은 방법인 것 같다."
   ]
  },
  {
   "cell_type": "markdown",
   "id": "0c7638ea",
   "metadata": {},
   "source": [
    "### 회고"
   ]
  },
  {
   "cell_type": "markdown",
   "id": "125f6cb8",
   "metadata": {},
   "source": [
    "|KPT|내용|\n",
    "|:---|:---|\n",
    "|keep|다양한 조건에서 모델의 정확도를 알아보았고, 비교하였다.|\n",
    "|problem|모델 특성에 기반한 깊이 있는 원인 분석이 부족했던 것 같다.|\n",
    "|try|각 모델에 대해 더 알아보기|"
   ]
  }
 ],
 "metadata": {
  "kernelspec": {
   "display_name": "Python 3 (ipykernel)",
   "language": "python",
   "name": "python3"
  },
  "language_info": {
   "codemirror_mode": {
    "name": "ipython",
    "version": 3
   },
   "file_extension": ".py",
   "mimetype": "text/x-python",
   "name": "python",
   "nbconvert_exporter": "python",
   "pygments_lexer": "ipython3",
   "version": "3.9.7"
  }
 },
 "nbformat": 4,
 "nbformat_minor": 5
}
