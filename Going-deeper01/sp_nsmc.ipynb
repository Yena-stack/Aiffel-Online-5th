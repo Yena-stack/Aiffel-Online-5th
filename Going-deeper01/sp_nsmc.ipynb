{
 "cells": [
  {
   "cell_type": "code",
   "execution_count": 1,
   "id": "05eaf5ce",
   "metadata": {},
   "outputs": [],
   "source": [
    "import tensorflow as tf\n",
    "import numpy as np\n",
    "import matplotlib.pyplot as plt\n",
    "import konlpy\n",
    "import pandas as pd\n",
    "import warnings\n",
    "warnings.filterwarnings(\"ignore\")\n",
    "\n",
    "%matplotlib inline"
   ]
  },
  {
   "cell_type": "markdown",
   "id": "e6128a82",
   "metadata": {},
   "source": [
    "## step 1. SentencePiece 설치하기\n",
    "#### SentencePiece\n",
    "- Google에서 제공하는 오픈소스 기반 Sentence Tokenizer/Detokenizer\n",
    "- BPE와 unigram, 2가지 subword 토크나이징 모델 중 선택해서 사용할 수 있도록 패키징"
   ]
  },
  {
   "cell_type": "code",
   "execution_count": 2,
   "id": "c2d714d3",
   "metadata": {},
   "outputs": [
    {
     "name": "stdout",
     "output_type": "stream",
     "text": [
      "Requirement already satisfied: sentencepiece in /opt/conda/lib/python3.9/site-packages (0.1.96)\n",
      "\u001b[33mWARNING: Running pip as the 'root' user can result in broken permissions and conflicting behaviour with the system package manager. It is recommended to use a virtual environment instead: https://pip.pypa.io/warnings/venv\u001b[0m\n"
     ]
    }
   ],
   "source": [
    "!pip install sentencepiece"
   ]
  },
  {
   "cell_type": "markdown",
   "id": "8adc0efd",
   "metadata": {},
   "source": [
    "## Step 2. SentencePiece 모델 학습"
   ]
  },
  {
   "cell_type": "code",
   "execution_count": 3,
   "id": "87417b2a",
   "metadata": {
    "scrolled": true
   },
   "outputs": [
    {
     "name": "stdout",
     "output_type": "stream",
     "text": [
      "Data Size: 94123\n",
      "Example:\n",
      ">> 개인용 컴퓨터 사용의 상당 부분은 \"이것보다 뛰어날 수 있느냐?\"\n",
      ">> 북한의 핵무기 계획을 포기하도록 하려는 압력이 거세지고 있는 가운데, 일본과 북한의 외교관들이 외교 관계를 정상화하려는 회담을 재개했다.\n",
      ">> \"경호 로보트가 침입자나 화재를 탐지하기 위해서 개인적으로, 그리고 전문적으로 사용되고 있습니다.\"\n",
      ">> 수자원부 당국은 논란이 되고 있고, 막대한 비용이 드는 이 사업에 대해 내년에 건설을 시작할 계획이다.\n",
      ">> 또한 근력 운동은 활발하게 걷는 것이나 최소한 20분 동안 뛰는 것과 같은 유산소 활동에서 얻는 운동 효과를 심장과 폐에 주지 않기 때문에, 연구학자들은 근력 운동이 심장에 큰 영향을 미치는지 여부에 대해 논쟁을 해왔다.\n"
     ]
    }
   ],
   "source": [
    "import os\n",
    "path_to_file = os.getenv('HOME')+'/aiffel/sp_tokenizer/data/korean-english-park.train.ko'\n",
    "\n",
    "with open(path_to_file, \"r\") as f:\n",
    "    raw = f.read().splitlines()\n",
    "\n",
    "print(\"Data Size:\", len(raw))\n",
    "\n",
    "print(\"Example:\")\n",
    "for sen in raw[0:100][::20]: print(\">>\", sen)"
   ]
  },
  {
   "cell_type": "code",
   "execution_count": 4,
   "id": "a8c74c98",
   "metadata": {},
   "outputs": [
    {
     "name": "stdout",
     "output_type": "stream",
     "text": [
      "문장의 최단 길이: 1\n",
      "문장의 최장 길이: 377\n",
      "문장의 평균 길이: 60\n"
     ]
    },
    {
     "data": {
      "image/png": "[encoded data removed]",
      "text/plain": [
       "<Figure size 432x288 with 1 Axes>"
      ]
     },
     "metadata": {
      "needs_background": "light"
     },
     "output_type": "display_data"
    }
   ],
   "source": [
    "min_len = 999\n",
    "max_len = 0\n",
    "sum_len = 0\n",
    "\n",
    "for sen in raw:\n",
    "    length = len(sen)\n",
    "    if min_len > length: min_len = length\n",
    "    if max_len < length: max_len = length\n",
    "    sum_len += length\n",
    "\n",
    "print(\"문장의 최단 길이:\", min_len)\n",
    "print(\"문장의 최장 길이:\", max_len)\n",
    "print(\"문장의 평균 길이:\", sum_len // len(raw))\n",
    "\n",
    "sentence_length = np.zeros((max_len), dtype=int)\n",
    "\n",
    "for sen in raw:\n",
    "    sentence_length[len(sen)-1] += 1\n",
    "\n",
    "plt.bar(range(max_len), sentence_length, width=1.0)\n",
    "plt.title(\"Sentence Length Distribution\")\n",
    "plt.show()"
   ]
  },
  {
   "cell_type": "code",
   "execution_count": 5,
   "id": "3edc415d",
   "metadata": {},
   "outputs": [
    {
     "name": "stdout",
     "output_type": "stream",
     "text": [
      "’\n"
     ]
    }
   ],
   "source": [
    "def check_sentence_with_length(raw, length):\n",
    "    count = 0\n",
    "    \n",
    "    for sen in raw:\n",
    "        if len(sen) == length:\n",
    "            print(sen)\n",
    "            count += 1\n",
    "            if count > 100: return\n",
    "\n",
    "check_sentence_with_length(raw, 1)"
   ]
  },
  {
   "cell_type": "code",
   "execution_count": 6,
   "id": "b7fb7e00",
   "metadata": {},
   "outputs": [
    {
     "name": "stdout",
     "output_type": "stream",
     "text": [
      "Outlier Index: 11\n",
      "Outlier Index: 19\n",
      "Outlier Index: 21\n"
     ]
    }
   ],
   "source": [
    "for idx, _sum in enumerate(sentence_length):\n",
    "    # 문장의 수가 1500을 초과하는 문장 길이를 추출합니다.\n",
    "    if _sum > 1500:\n",
    "        print(\"Outlier Index:\", idx+1)"
   ]
  },
  {
   "cell_type": "code",
   "execution_count": 7,
   "id": "1c07c8d1",
   "metadata": {},
   "outputs": [
    {
     "name": "stdout",
     "output_type": "stream",
     "text": [
      "라고 조던이 말했다.\n",
      "- 모르고 있습니다.\n",
      "- 네, 보이는군요.\n",
      "디즈니사만이 아니다.\n",
      "큰 파티는 아니지요.\n",
      "의자는 비어 있었다.\n",
      "이 일은 계속됩니다.\n",
      "나는 크게 실망했다.\n",
      "그 이유는 간단하다.\n",
      "이력서와 자기 소개서\n",
      "시대가 변하고 있다.\n",
      "는 돌발질문을 했다.\n",
      "9. 몇 분간의 명상\n",
      "하와이, 빅 아일랜드\n",
      "키스를 잘 하는 방법\n",
      "키스를 잘 하는 방법\n",
      "스피어스가 뚱뚱한가?\n",
      "산 위를 나는 느낌.\n",
      "세 시간쯤 걸었을까?\n",
      "(아직 읽고있습니까?\n",
      "처음에는 장난이었다.\n",
      "우리는 운이 좋았다.\n",
      "아기가 숨을 멈출 때\n",
      "건물 전체 무너져내려\n",
      "그녀의 아름다운 눈.\n",
      "대답은 다음과 같다.\n",
      "\"사과할 것이 없다.\n",
      "폭탄테러가 공포 유발\n",
      "그는 \"잘 모르겠다.\n",
      "그는 \"잘 모르겠다.\n",
      "그는 \"잘 모르겠다.\n",
      "그는 \"잘 모르겠다.\n",
      "그는 \"잘 모르겠다.\n",
      "그는 \"잘 모르겠다.\n",
      "그는 \"잘 모르겠다.\n",
      "그는 \"잘 모르겠다.\n",
      "그는 \"잘 모르겠다.\n",
      "케냐 야생동물 고아원\n",
      "경유 1200원대로…\n",
      "더 내려야 하는 이유\n",
      "케냐 야생동물 고아원\n",
      "경유 1200원대로…\n",
      "더 내려야 하는 이유\n",
      "케냐 야생동물 고아원\n",
      "경유 1200원대로…\n",
      "더 내려야 하는 이유\n",
      "케냐 야생동물 고아원\n",
      "경유 1200원대로…\n",
      "더 내려야 하는 이유\n",
      "케냐 야생동물 고아원\n",
      "경유 1200원대로…\n",
      "더 내려야 하는 이유\n",
      "케냐 야생동물 고아원\n",
      "경유 1200원대로…\n",
      "더 내려야 하는 이유\n",
      "케냐 야생동물 고아원\n",
      "경유 1200원대로…\n",
      "더 내려야 하는 이유\n",
      "케냐 야생동물 고아원\n",
      "경유 1200원대로…\n",
      "더 내려야 하는 이유\n",
      "케냐 야생동물 고아원\n",
      "경유 1200원대로…\n",
      "더 내려야 하는 이유\n",
      "케냐 야생동물 고아원\n",
      "경유 1200원대로…\n",
      "더 내려야 하는 이유\n",
      "케냐 야생동물 고아원\n",
      "경유 1200원대로…\n",
      "더 내려야 하는 이유\n",
      "케냐 야생동물 고아원\n",
      "경유 1200원대로…\n",
      "더 내려야 하는 이유\n",
      "케냐 야생동물 고아원\n",
      "경유 1200원대로…\n",
      "더 내려야 하는 이유\n",
      "케냐 야생동물 고아원\n",
      "경유 1200원대로…\n",
      "더 내려야 하는 이유\n",
      "케냐 야생동물 고아원\n",
      "경유 1200원대로…\n",
      "더 내려야 하는 이유\n",
      "케냐 야생동물 고아원\n",
      "경유 1200원대로…\n",
      "더 내려야 하는 이유\n",
      "케냐 야생동물 고아원\n",
      "경유 1200원대로…\n",
      "더 내려야 하는 이유\n",
      "케냐 야생동물 고아원\n",
      "경유 1200원대로…\n",
      "더 내려야 하는 이유\n",
      "케냐 야생동물 고아원\n",
      "경유 1200원대로…\n",
      "더 내려야 하는 이유\n",
      "케냐 야생동물 고아원\n",
      "경유 1200원대로…\n",
      "더 내려야 하는 이유\n",
      "조금은 새침한 샬롯？\n",
      "조금은 새침한 샬롯？\n",
      "케냐 야생동물 고아원\n",
      "경유 1200원대로…\n"
     ]
    }
   ],
   "source": [
    "check_sentence_with_length(raw, 11)"
   ]
  },
  {
   "cell_type": "code",
   "execution_count": 8,
   "id": "8d25f2cd",
   "metadata": {},
   "outputs": [
    {
     "name": "stdout",
     "output_type": "stream",
     "text": [
      "Data Size: 77591\n",
      "문장의 최단 길이: 1\n",
      "문장의 최장 길이: 377\n",
      "문장의 평균 길이: 64\n"
     ]
    },
    {
     "data": {
      "image/png": "[encoded data removed]",
      "text/plain": [
       "<Figure size 432x288 with 1 Axes>"
      ]
     },
     "metadata": {
      "needs_background": "light"
     },
     "output_type": "display_data"
    }
   ],
   "source": [
    "min_len = 999\n",
    "max_len = 0\n",
    "sum_len = 0\n",
    "\n",
    "cleaned_corpus = list(set(raw))  # set를 사용해서 중복을 제거합니다.\n",
    "print(\"Data Size:\", len(cleaned_corpus))\n",
    "\n",
    "for sen in cleaned_corpus:\n",
    "    length = len(sen)\n",
    "    if min_len > length: min_len = length\n",
    "    if max_len < length: max_len = length\n",
    "    sum_len += length\n",
    "\n",
    "print(\"문장의 최단 길이:\", min_len)\n",
    "print(\"문장의 최장 길이:\", max_len)\n",
    "print(\"문장의 평균 길이:\", sum_len // len(cleaned_corpus))\n",
    "\n",
    "sentence_length = np.zeros((max_len), dtype=int)\n",
    "\n",
    "for sen in cleaned_corpus:   # 중복이 제거된 코퍼스 기준\n",
    "    sentence_length[len(sen)-1] += 1\n",
    "\n",
    "plt.bar(range(max_len), sentence_length, width=1.0)\n",
    "plt.title(\"Sentence Length Distribution\")\n",
    "plt.show()"
   ]
  },
  {
   "cell_type": "code",
   "execution_count": 9,
   "id": "923bfd4f",
   "metadata": {},
   "outputs": [
    {
     "data": {
      "image/png": "[encoded data removed]",
      "text/plain": [
       "<Figure size 432x288 with 1 Axes>"
      ]
     },
     "metadata": {
      "needs_background": "light"
     },
     "output_type": "display_data"
    }
   ],
   "source": [
    "max_len = 150\n",
    "min_len = 10\n",
    "\n",
    "# 길이 조건에 맞는 문장만 선택합니다.\n",
    "filtered_corpus = [s for s in cleaned_corpus if (len(s) < max_len) & (len(s) >= min_len)]\n",
    "\n",
    "# 분포도를 다시 그려봅니다.\n",
    "sentence_length = np.zeros((max_len), dtype=int)\n",
    "\n",
    "for sen in filtered_corpus:\n",
    "    sentence_length[len(sen)-1] += 1\n",
    "\n",
    "plt.bar(range(max_len), sentence_length, width=1.0)\n",
    "plt.title(\"Sentence Length Distribution\")\n",
    "plt.show()"
   ]
  },
  {
   "cell_type": "code",
   "execution_count": 10,
   "id": "07d4ff33",
   "metadata": {},
   "outputs": [
    {
     "name": "stderr",
     "output_type": "stream",
     "text": [
      "sentencepiece_trainer.cc(177) LOG(INFO) Running command: --input=/aiffel/aiffel/sp_tokenizer/data/korean-english-park.train.ko.temp --model_prefix=korean_spm --vocab_size=8000\n",
      "sentencepiece_trainer.cc(77) LOG(INFO) Starts training with : \n",
      "trainer_spec {\n",
      "  input: /aiffel/aiffel/sp_tokenizer/data/korean-english-park.train.ko.temp\n",
      "  input_format: \n",
      "  model_prefix: korean_spm\n",
      "  model_type: UNIGRAM\n",
      "  vocab_size: 8000\n",
      "  self_test_sample_size: 0\n",
      "  character_coverage: 0.9995\n",
      "  input_sentence_size: 0\n",
      "  shuffle_input_sentence: 1\n",
      "  seed_sentencepiece_size: 1000000\n",
      "  shrinking_factor: 0.75\n",
      "  max_sentence_length: 4192\n",
      "  num_threads: 16\n",
      "  num_sub_iterations: 2\n",
      "  max_sentencepiece_length: 16\n",
      "  split_by_unicode_script: 1\n",
      "  split_by_number: 1\n",
      "  split_by_whitespace: 1\n",
      "  split_digits: 0\n",
      "  treat_whitespace_as_suffix: 0\n",
      "  allow_whitespace_only_pieces: 0\n",
      "  required_chars: \n",
      "  byte_fallback: 0\n",
      "  vocabulary_output_piece_score: 1\n",
      "  train_extremely_large_corpus: 0\n",
      "  hard_vocab_limit: 1\n",
      "  use_all_vocab: 0\n",
      "  unk_id: 0\n",
      "  bos_id: 1\n",
      "  eos_id: 2\n",
      "  pad_id: -1\n",
      "  unk_piece: <unk>\n",
      "  bos_piece: <s>\n",
      "  eos_piece: </s>\n",
      "  pad_piece: <pad>\n",
      "  unk_surface:  ⁇ \n",
      "}\n",
      "normalizer_spec {\n",
      "  name: nmt_nfkc\n",
      "  add_dummy_prefix: 1\n",
      "  remove_extra_whitespaces: 1\n",
      "  escape_whitespaces: 1\n",
      "  normalization_rule_tsv: \n",
      "}\n",
      "denormalizer_spec {}\n",
      "trainer_interface.cc(329) LOG(INFO) SentenceIterator is not specified. Using MultiFileSentenceIterator.\n",
      "trainer_interface.cc(178) LOG(INFO) Loading corpus: /aiffel/aiffel/sp_tokenizer/data/korean-english-park.train.ko.temp\n",
      "trainer_interface.cc(385) LOG(INFO) Loaded all 76908 sentences\n",
      "trainer_interface.cc(400) LOG(INFO) Adding meta_piece: <unk>\n",
      "trainer_interface.cc(400) LOG(INFO) Adding meta_piece: <s>\n",
      "trainer_interface.cc(400) LOG(INFO) Adding meta_piece: </s>\n",
      "trainer_interface.cc(405) LOG(INFO) Normalizing sentences...\n",
      "trainer_interface.cc(466) LOG(INFO) all chars count=4996369\n",
      "trainer_interface.cc(477) LOG(INFO) Done: 99.95% characters are covered.\n",
      "trainer_interface.cc(487) LOG(INFO) Alphabet size=1317\n",
      "trainer_interface.cc(488) LOG(INFO) Final character coverage=0.9995\n",
      "trainer_interface.cc(520) LOG(INFO) Done! preprocessed 76908 sentences.\n",
      "unigram_model_trainer.cc(139) LOG(INFO) Making suffix array...\n",
      "unigram_model_trainer.cc(143) LOG(INFO) Extracting frequent sub strings...\n",
      "unigram_model_trainer.cc(194) LOG(INFO) Initialized 174340 seed sentencepieces\n",
      "trainer_interface.cc(526) LOG(INFO) Tokenizing input sentences with whitespace: 76908\n",
      "trainer_interface.cc(537) LOG(INFO) Done! 237965\n",
      "unigram_model_trainer.cc(489) LOG(INFO) Using 237965 sentences for EM training\n",
      "unigram_model_trainer.cc(505) LOG(INFO) EM sub_iter=0 size=92555 obj=14.853 num_tokens=523272 num_tokens/piece=5.65363\n",
      "unigram_model_trainer.cc(505) LOG(INFO) EM sub_iter=1 size=82083 obj=13.516 num_tokens=525776 num_tokens/piece=6.40542\n",
      "unigram_model_trainer.cc(505) LOG(INFO) EM sub_iter=0 size=61555 obj=13.5533 num_tokens=546907 num_tokens/piece=8.88485\n",
      "unigram_model_trainer.cc(505) LOG(INFO) EM sub_iter=1 size=61506 obj=13.5101 num_tokens=547350 num_tokens/piece=8.89913\n",
      "unigram_model_trainer.cc(505) LOG(INFO) EM sub_iter=0 size=46126 obj=13.6926 num_tokens=575369 num_tokens/piece=12.4739\n",
      "unigram_model_trainer.cc(505) LOG(INFO) EM sub_iter=1 size=46126 obj=13.6493 num_tokens=575466 num_tokens/piece=12.476\n",
      "unigram_model_trainer.cc(505) LOG(INFO) EM sub_iter=0 size=34594 obj=13.8894 num_tokens=606014 num_tokens/piece=17.5179\n",
      "unigram_model_trainer.cc(505) LOG(INFO) EM sub_iter=1 size=34594 obj=13.8387 num_tokens=606012 num_tokens/piece=17.5178\n",
      "unigram_model_trainer.cc(505) LOG(INFO) EM sub_iter=0 size=25945 obj=14.1301 num_tokens=637532 num_tokens/piece=24.5724\n",
      "unigram_model_trainer.cc(505) LOG(INFO) EM sub_iter=1 size=25945 obj=14.0747 num_tokens=637568 num_tokens/piece=24.5738\n",
      "unigram_model_trainer.cc(505) LOG(INFO) EM sub_iter=0 size=19458 obj=14.4091 num_tokens=670960 num_tokens/piece=34.4825\n",
      "unigram_model_trainer.cc(505) LOG(INFO) EM sub_iter=1 size=19458 obj=14.3468 num_tokens=670999 num_tokens/piece=34.4845\n",
      "unigram_model_trainer.cc(505) LOG(INFO) EM sub_iter=0 size=14593 obj=14.7196 num_tokens=705636 num_tokens/piece=48.3544\n",
      "unigram_model_trainer.cc(505) LOG(INFO) EM sub_iter=1 size=14593 obj=14.648 num_tokens=705645 num_tokens/piece=48.355\n",
      "unigram_model_trainer.cc(505) LOG(INFO) EM sub_iter=0 size=10944 obj=15.0875 num_tokens=741620 num_tokens/piece=67.765\n",
      "unigram_model_trainer.cc(505) LOG(INFO) EM sub_iter=1 size=10944 obj=15.007 num_tokens=741624 num_tokens/piece=67.7654\n",
      "unigram_model_trainer.cc(505) LOG(INFO) EM sub_iter=0 size=8800 obj=15.3757 num_tokens=769363 num_tokens/piece=87.4276\n",
      "unigram_model_trainer.cc(505) LOG(INFO) EM sub_iter=1 size=8800 obj=15.307 num_tokens=769367 num_tokens/piece=87.4281\n",
      "trainer_interface.cc(615) LOG(INFO) Saving model: korean_spm.model\n",
      "trainer_interface.cc(626) LOG(INFO) Saving vocabs: korean_spm.vocab\n"
     ]
    },
    {
     "name": "stdout",
     "output_type": "stream",
     "text": [
      "-rw-r--r-- 1 root root 376816 Aug 16 05:33 korean_spm.model\r\n",
      "-rw-r--r-- 1 root root 146213 Aug 16 05:33 korean_spm.vocab\r\n"
     ]
    }
   ],
   "source": [
    "import sentencepiece as spm\n",
    "\n",
    "temp_file = os.getenv('HOME')+'/aiffel/sp_tokenizer/data/korean-english-park.train.ko.temp'\n",
    "\n",
    "vocab_size = 8000\n",
    "\n",
    "with open(temp_file, 'w') as f:\n",
    "    for row in filtered_corpus:   # 이전에 나왔던 정제했던 corpus를 활용해서 진행해야 합니다.\n",
    "        f.write(str(row) + '\\n')\n",
    "\n",
    "spm.SentencePieceTrainer.Train(\n",
    "    '--input={} --model_prefix=korean_spm --vocab_size={}'.format(temp_file, vocab_size)    \n",
    ")\n",
    "#위 Train에서  --model_type = unigram이 디폴트 적용되어 있습니다. --model_type = bpe로 옵션을 주어 변경할 수 있습니다.\n",
    "\n",
    "!ls -l korean_spm*"
   ]
  },
  {
   "cell_type": "code",
   "execution_count": 11,
   "id": "2b742d20",
   "metadata": {},
   "outputs": [
    {
     "name": "stdout",
     "output_type": "stream",
     "text": [
      "[1243, 11, 302, 7, 3608, 11, 287, 38, 3]\n",
      "['▁아버지', '가', '방', '에', '들어', '가', '신', '다', '.']\n",
      "아버지가방에들어가신다.\n"
     ]
    }
   ],
   "source": [
    "s = spm.SentencePieceProcessor()\n",
    "s.Load('korean_spm.model')\n",
    "\n",
    "# SentencePiece를 활용한 sentence -> encoding\n",
    "tokensIDs = s.EncodeAsIds('아버지가방에들어가신다.')\n",
    "print(tokensIDs)\n",
    "\n",
    "# SentencePiece를 활용한 sentence -> encoded pieces\n",
    "print(s.SampleEncodeAsPieces('아버지가방에들어가신다.',1, 0.0))\n",
    "\n",
    "# SentencePiece를 활용한 encoding -> sentence 복원\n",
    "print(s.DecodeIds(tokensIDs))"
   ]
  },
  {
   "cell_type": "markdown",
   "id": "f62eaa18",
   "metadata": {},
   "source": [
    "## Step 3. Tokenizer 함수 작성"
   ]
  },
  {
   "cell_type": "code",
   "execution_count": 12,
   "id": "dbcfa897",
   "metadata": {},
   "outputs": [],
   "source": [
    "def sp_tokenize(s, corpus): \n",
    "\n",
    "    tensor = []\n",
    "\n",
    "    for sen in corpus:\n",
    "        tensor.append(s.EncodeAsIds(sen))\n",
    "\n",
    "    with open(\"./korean_spm.vocab\", 'r') as f:\n",
    "        vocab = f.readlines()\n",
    "\n",
    "    word_index = {}\n",
    "    index_word = {}\n",
    "\n",
    "    for idx, line in enumerate(vocab):\n",
    "        word = line.split(\"\\t\")[0]\n",
    "\n",
    "        word_index.update({word:idx})\n",
    "        index_word.update({idx:word})\n",
    "\n",
    "    tensor = tf.keras.preprocessing.sequence.pad_sequences(tensor, padding='post')\n",
    "\n",
    "    return tensor, word_index, index_word"
   ]
  },
  {
   "cell_type": "markdown",
   "id": "ce936f73",
   "metadata": {},
   "source": [
    "## Step 4. 네이버 영화리뷰 감정 분석 문제에 SentencePiece 적용해 보기\n",
    "- 네이버 영화리뷰 감정 분석 코퍼스에 SentencePiece를 적용시킨 모델 학습하기\n",
    "- 학습된 모델로 sp_tokenize() 메소드 구현하기\n",
    "- 구현된 토크나이저를 적용하여 네이버 영화리뷰 감정 분석 모델을 재학습하기\n",
    "- KoNLPy 형태소 분석기를 사용한 모델과 성능 비교하기\n",
    "- SentencePiece 모델의 model_type, vocab_size 등을 변경해 가면서 성능 개선 여부 확인하기"
   ]
  },
  {
   "cell_type": "markdown",
   "id": "71d204be",
   "metadata": {},
   "source": [
    "### 데이터 준비"
   ]
  },
  {
   "cell_type": "code",
   "execution_count": 13,
   "id": "5d66c164",
   "metadata": {},
   "outputs": [
    {
     "name": "stdout",
     "output_type": "stream",
     "text": [
      "--2023-08-16 05:33:53--  https://raw.githubusercontent.com/e9t/nsmc/master/ratings_train.txt\n",
      "Resolving raw.githubusercontent.com (raw.githubusercontent.com)... 185.199.108.133, 185.199.109.133, 185.199.110.133, ...\n",
      "Connecting to raw.githubusercontent.com (raw.githubusercontent.com)|185.199.108.133|:443... connected.\n",
      "HTTP request sent, awaiting response... 200 OK\n",
      "Length: 14628807 (14M) [text/plain]\n",
      "Saving to: ‘ratings_train.txt.7’\n",
      "\n",
      "ratings_train.txt.7 100%[===================>]  13.95M  --.-KB/s    in 0.09s   \n",
      "\n",
      "2023-08-16 05:33:53 (148 MB/s) - ‘ratings_train.txt.7’ saved [14628807/14628807]\n",
      "\n",
      "--2023-08-16 05:33:54--  https://raw.githubusercontent.com/e9t/nsmc/master/ratings_test.txt\n",
      "Resolving raw.githubusercontent.com (raw.githubusercontent.com)... 185.199.111.133, 185.199.109.133, 185.199.108.133, ...\n",
      "Connecting to raw.githubusercontent.com (raw.githubusercontent.com)|185.199.111.133|:443... connected.\n",
      "HTTP request sent, awaiting response... 200 OK\n",
      "Length: 4893335 (4.7M) [text/plain]\n",
      "Saving to: ‘ratings_test.txt.7’\n",
      "\n",
      "ratings_test.txt.7  100%[===================>]   4.67M  --.-KB/s    in 0.05s   \n",
      "\n",
      "2023-08-16 05:33:54 (99.4 MB/s) - ‘ratings_test.txt.7’ saved [4893335/4893335]\n",
      "\n"
     ]
    }
   ],
   "source": [
    "! wget https://raw.githubusercontent.com/e9t/nsmc/master/ratings_train.txt\n",
    "! wget https://raw.githubusercontent.com/e9t/nsmc/master/ratings_test.txt"
   ]
  },
  {
   "cell_type": "code",
   "execution_count": 14,
   "id": "eb7b5083",
   "metadata": {},
   "outputs": [],
   "source": [
    "train = pd.read_table('./ratings_train.txt')\n",
    "test = pd.read_table('./ratings_test.txt')"
   ]
  },
  {
   "cell_type": "code",
   "execution_count": 15,
   "id": "e86c3957",
   "metadata": {},
   "outputs": [
    {
     "data": {
      "text/html": [
       "<div>\n",
       "<style scoped>\n",
       "    .dataframe tbody tr th:only-of-type {\n",
       "        vertical-align: middle;\n",
       "    }\n",
       "\n",
       "    .dataframe tbody tr th {\n",
       "        vertical-align: top;\n",
       "    }\n",
       "\n",
       "    .dataframe thead th {\n",
       "        text-align: right;\n",
       "    }\n",
       "</style>\n",
       "<table border=\"1\" class=\"dataframe\">\n",
       "  <thead>\n",
       "    <tr style=\"text-align: right;\">\n",
       "      <th></th>\n",
       "      <th>id</th>\n",
       "      <th>document</th>\n",
       "      <th>label</th>\n",
       "    </tr>\n",
       "  </thead>\n",
       "  <tbody>\n",
       "    <tr>\n",
       "      <th>0</th>\n",
       "      <td>9976970</td>\n",
       "      <td>아 더빙.. 진짜 짜증나네요 목소리</td>\n",
       "      <td>0</td>\n",
       "    </tr>\n",
       "    <tr>\n",
       "      <th>1</th>\n",
       "      <td>3819312</td>\n",
       "      <td>흠...포스터보고 초딩영화줄....오버연기조차 가볍지 않구나</td>\n",
       "      <td>1</td>\n",
       "    </tr>\n",
       "    <tr>\n",
       "      <th>2</th>\n",
       "      <td>10265843</td>\n",
       "      <td>너무재밓었다그래서보는것을추천한다</td>\n",
       "      <td>0</td>\n",
       "    </tr>\n",
       "    <tr>\n",
       "      <th>3</th>\n",
       "      <td>9045019</td>\n",
       "      <td>교도소 이야기구먼 ..솔직히 재미는 없다..평점 조정</td>\n",
       "      <td>0</td>\n",
       "    </tr>\n",
       "    <tr>\n",
       "      <th>4</th>\n",
       "      <td>6483659</td>\n",
       "      <td>사이몬페그의 익살스런 연기가 돋보였던 영화!스파이더맨에서 늙어보이기만 했던 커스틴 ...</td>\n",
       "      <td>1</td>\n",
       "    </tr>\n",
       "  </tbody>\n",
       "</table>\n",
       "</div>"
      ],
      "text/plain": [
       "         id                                           document  label\n",
       "0   9976970                                아 더빙.. 진짜 짜증나네요 목소리      0\n",
       "1   3819312                  흠...포스터보고 초딩영화줄....오버연기조차 가볍지 않구나      1\n",
       "2  10265843                                  너무재밓었다그래서보는것을추천한다      0\n",
       "3   9045019                      교도소 이야기구먼 ..솔직히 재미는 없다..평점 조정      0\n",
       "4   6483659  사이몬페그의 익살스런 연기가 돋보였던 영화!스파이더맨에서 늙어보이기만 했던 커스틴 ...      1"
      ]
     },
     "execution_count": 15,
     "metadata": {},
     "output_type": "execute_result"
    }
   ],
   "source": [
    "train.head()"
   ]
  },
  {
   "cell_type": "code",
   "execution_count": 16,
   "id": "e293f2e4",
   "metadata": {},
   "outputs": [
    {
     "data": {
      "text/html": [
       "<div>\n",
       "<style scoped>\n",
       "    .dataframe tbody tr th:only-of-type {\n",
       "        vertical-align: middle;\n",
       "    }\n",
       "\n",
       "    .dataframe tbody tr th {\n",
       "        vertical-align: top;\n",
       "    }\n",
       "\n",
       "    .dataframe thead th {\n",
       "        text-align: right;\n",
       "    }\n",
       "</style>\n",
       "<table border=\"1\" class=\"dataframe\">\n",
       "  <thead>\n",
       "    <tr style=\"text-align: right;\">\n",
       "      <th></th>\n",
       "      <th>id</th>\n",
       "      <th>document</th>\n",
       "      <th>label</th>\n",
       "    </tr>\n",
       "  </thead>\n",
       "  <tbody>\n",
       "    <tr>\n",
       "      <th>0</th>\n",
       "      <td>6270596</td>\n",
       "      <td>굳 ㅋ</td>\n",
       "      <td>1</td>\n",
       "    </tr>\n",
       "    <tr>\n",
       "      <th>1</th>\n",
       "      <td>9274899</td>\n",
       "      <td>GDNTOPCLASSINTHECLUB</td>\n",
       "      <td>0</td>\n",
       "    </tr>\n",
       "    <tr>\n",
       "      <th>2</th>\n",
       "      <td>8544678</td>\n",
       "      <td>뭐야 이 평점들은.... 나쁘진 않지만 10점 짜리는 더더욱 아니잖아</td>\n",
       "      <td>0</td>\n",
       "    </tr>\n",
       "    <tr>\n",
       "      <th>3</th>\n",
       "      <td>6825595</td>\n",
       "      <td>지루하지는 않은데 완전 막장임... 돈주고 보기에는....</td>\n",
       "      <td>0</td>\n",
       "    </tr>\n",
       "    <tr>\n",
       "      <th>4</th>\n",
       "      <td>6723715</td>\n",
       "      <td>3D만 아니었어도 별 다섯 개 줬을텐데.. 왜 3D로 나와서 제 심기를 불편하게 하죠??</td>\n",
       "      <td>0</td>\n",
       "    </tr>\n",
       "  </tbody>\n",
       "</table>\n",
       "</div>"
      ],
      "text/plain": [
       "        id                                           document  label\n",
       "0  6270596                                                굳 ㅋ      1\n",
       "1  9274899                               GDNTOPCLASSINTHECLUB      0\n",
       "2  8544678             뭐야 이 평점들은.... 나쁘진 않지만 10점 짜리는 더더욱 아니잖아      0\n",
       "3  6825595                   지루하지는 않은데 완전 막장임... 돈주고 보기에는....      0\n",
       "4  6723715  3D만 아니었어도 별 다섯 개 줬을텐데.. 왜 3D로 나와서 제 심기를 불편하게 하죠??      0"
      ]
     },
     "execution_count": 16,
     "metadata": {},
     "output_type": "execute_result"
    }
   ],
   "source": [
    "test.head()"
   ]
  },
  {
   "cell_type": "code",
   "execution_count": 17,
   "id": "584db00f",
   "metadata": {},
   "outputs": [
    {
     "name": "stdout",
     "output_type": "stream",
     "text": [
      "150000 50000\n"
     ]
    }
   ],
   "source": [
    "print(len(train), len(test))"
   ]
  },
  {
   "cell_type": "markdown",
   "id": "0760a5c1",
   "metadata": {},
   "source": [
    "### 데이터 전처리"
   ]
  },
  {
   "cell_type": "code",
   "execution_count": 18,
   "id": "3347f86a",
   "metadata": {},
   "outputs": [],
   "source": [
    "# 중복 처리\n",
    "train.drop_duplicates('document', inplace=True)\n",
    "test.drop_duplicates('document', inplace=True)"
   ]
  },
  {
   "cell_type": "code",
   "execution_count": 19,
   "id": "198dd1f0",
   "metadata": {},
   "outputs": [],
   "source": [
    "# 결측치 처리\n",
    "train = train.dropna()\n",
    "test = test.dropna()"
   ]
  },
  {
   "cell_type": "code",
   "execution_count": 20,
   "id": "4b878722",
   "metadata": {},
   "outputs": [
    {
     "name": "stdout",
     "output_type": "stream",
     "text": [
      "146182 49157\n"
     ]
    }
   ],
   "source": [
    "print(len(train), len(test))"
   ]
  },
  {
   "cell_type": "code",
   "execution_count": 21,
   "id": "bce62cea",
   "metadata": {},
   "outputs": [
    {
     "data": {
      "text/plain": [
       "label\n",
       "0    73342\n",
       "1    72840\n",
       "dtype: int64"
      ]
     },
     "execution_count": 21,
     "metadata": {},
     "output_type": "execute_result"
    }
   ],
   "source": [
    "train.groupby('label').size()"
   ]
  },
  {
   "cell_type": "code",
   "execution_count": 22,
   "id": "51ebe22b",
   "metadata": {},
   "outputs": [
    {
     "data": {
      "text/plain": [
       "1    흠...포스터보고 초딩영화줄....오버연기조차 가볍지 않구나\n",
       "Name: document, dtype: object"
      ]
     },
     "execution_count": 22,
     "metadata": {},
     "output_type": "execute_result"
    }
   ],
   "source": [
    "train.loc[train.id == 3819312]['document']"
   ]
  },
  {
   "cell_type": "code",
   "execution_count": 23,
   "id": "a6e4a846",
   "metadata": {},
   "outputs": [],
   "source": [
    "# 한글, 영문, 공백 제외하고 제거\n",
    "train['document'] = train['document'].str.replace('[^ㄱ-ㅎㅏ-ㅣ가-힣A-Za-z]', ' ', regex=True)\n",
    "test['document'] = test['document'].str.replace('[^ㄱ-ㅎㅏ-ㅣ가-힣A-Za-z]', ' ', regex=True)"
   ]
  },
  {
   "cell_type": "code",
   "execution_count": 24,
   "id": "b0a75669",
   "metadata": {},
   "outputs": [
    {
     "data": {
      "text/plain": [
       "1    흠   포스터보고 초딩영화줄    오버연기조차 가볍지 않구나\n",
       "Name: document, dtype: object"
      ]
     },
     "execution_count": 24,
     "metadata": {},
     "output_type": "execute_result"
    }
   ],
   "source": [
    "train.loc[train.id == 3819312]['document']"
   ]
  },
  {
   "cell_type": "code",
   "execution_count": 25,
   "id": "d6f5360f",
   "metadata": {},
   "outputs": [],
   "source": [
    "# 공백 여러개인 부분 처리\n",
    "train['document'] = train['document'].str.replace(' +', ' ', regex=True)\n",
    "test['document'] = test['document'].str.replace(' +', ' ', regex=True)"
   ]
  },
  {
   "cell_type": "code",
   "execution_count": 26,
   "id": "5935c295",
   "metadata": {},
   "outputs": [
    {
     "data": {
      "text/plain": [
       "1    흠 포스터보고 초딩영화줄 오버연기조차 가볍지 않구나\n",
       "Name: document, dtype: object"
      ]
     },
     "execution_count": 26,
     "metadata": {},
     "output_type": "execute_result"
    }
   ],
   "source": [
    "train.loc[train.id == 3819312]['document']"
   ]
  },
  {
   "cell_type": "code",
   "execution_count": 27,
   "id": "97daf7ee",
   "metadata": {},
   "outputs": [],
   "source": [
    "# 중복, 결측치 다시 처리\n",
    "train.drop_duplicates('document', inplace=True)\n",
    "test.drop_duplicates('document', inplace=True)\n",
    "\n",
    "train = train.dropna()\n",
    "test = test.dropna()"
   ]
  },
  {
   "cell_type": "code",
   "execution_count": 28,
   "id": "a877550c",
   "metadata": {},
   "outputs": [
    {
     "name": "stdout",
     "output_type": "stream",
     "text": [
      "144871 48792\n"
     ]
    }
   ],
   "source": [
    "print(len(train), len(test))"
   ]
  },
  {
   "cell_type": "markdown",
   "id": "71e0ac36",
   "metadata": {},
   "source": [
    "### SentencePiece 학습"
   ]
  },
  {
   "cell_type": "code",
   "execution_count": 29,
   "id": "059baa7a",
   "metadata": {},
   "outputs": [],
   "source": [
    "train['document'].to_csv('./nsmctxt.csv', index=False, header=False)"
   ]
  },
  {
   "cell_type": "code",
   "execution_count": 30,
   "id": "94b4584f",
   "metadata": {},
   "outputs": [
    {
     "name": "stderr",
     "output_type": "stream",
     "text": [
      "sentencepiece_trainer.cc("
     ]
    }
   ],
   "source": [
    "vocab_size = 8000\n",
    "model_prefix = 'naver_spm'\n",
    "\n",
    "spm.SentencePieceTrainer.Train(f'--input=\"./nsmctxt.csv\" --model_prefix={model_prefix} --vocab_size={vocab_size}')"
   ]
  },
  {
   "cell_type": "markdown",
   "id": "9324929a",
   "metadata": {},
   "source": [
    "### sp_tokenize() 메소드 구현"
   ]
  },
  {
   "cell_type": "code",
   "execution_count": 31,
   "id": "92647a56",
   "metadata": {},
   "outputs": [],
   "source": [
    "def sp_tokenize(s, corpus, model_prefix):\n",
    "    tensor = []\n",
    "    for sen in corpus:\n",
    "        tensor.append(s.EncodeAsIds(sen))\n",
    "        \n",
    "    with open(f'./{model_prefix}.vocab', 'r') as f:\n",
    "        vocab = f.readlines()\n",
    "        \n",
    "    word_index = {}\n",
    "    index_word = {}\n",
    "    \n",
    "    for idx, line in enumerate(vocab):\n",
    "        word = line.split('\\t')[0]\n",
    "        word_index.update({word:idx})\n",
    "        index_word.update({idx:word})\n",
    "\n",
    "    return tensor, word_index, index_word"
   ]
  },
  {
   "cell_type": "code",
   "execution_count": 32,
   "id": "240110cc",
   "metadata": {},
   "outputs": [],
   "source": [
    "s = spm.SentencePieceProcessor()\n",
    "s.Load(f'{model_prefix}.model')\n",
    "\n",
    "x_train, word_index, index_word = sp_tokenize(s, train['document'], model_prefix)"
   ]
  },
  {
   "cell_type": "code",
   "execution_count": 33,
   "id": "384c0626",
   "metadata": {},
   "outputs": [
    {
     "data": {
      "text/plain": [
       "[51, 766, 24, 1918, 53, 1645]"
      ]
     },
     "execution_count": 33,
     "metadata": {},
     "output_type": "execute_result"
    }
   ],
   "source": [
    "x_train[0]"
   ]
  },
  {
   "cell_type": "code",
   "execution_count": 34,
   "id": "41588086",
   "metadata": {},
   "outputs": [],
   "source": [
    "x_test = [s.EncodeAsIds(x) for x in test['document']]"
   ]
  },
  {
   "cell_type": "code",
   "execution_count": 35,
   "id": "28788ebe",
   "metadata": {},
   "outputs": [
    {
     "data": {
      "text/plain": [
       "[2643, 166]"
      ]
     },
     "execution_count": 35,
     "metadata": {},
     "output_type": "execute_result"
    }
   ],
   "source": [
    "x_test[0]"
   ]
  },
  {
   "cell_type": "code",
   "execution_count": 36,
   "id": "f3cfc8c8",
   "metadata": {},
   "outputs": [
    {
     "name": "stdout",
     "output_type": "stream",
     "text": [
      "144871 48792\n"
     ]
    }
   ],
   "source": [
    "print(len(train), len(test))"
   ]
  },
  {
   "cell_type": "code",
   "execution_count": 37,
   "id": "d655ecdf",
   "metadata": {},
   "outputs": [],
   "source": [
    "y_train = np.array(train['label'])\n",
    "y_test = np.array(test['label'])"
   ]
  },
  {
   "cell_type": "code",
   "execution_count": 38,
   "id": "bdf230ec",
   "metadata": {},
   "outputs": [
    {
     "name": "stdout",
     "output_type": "stream",
     "text": [
      "144871 48792\n"
     ]
    }
   ],
   "source": [
    "print(len(y_train), len(y_test))"
   ]
  },
  {
   "cell_type": "code",
   "execution_count": 39,
   "id": "13fa83d5",
   "metadata": {},
   "outputs": [
    {
     "name": "stdout",
     "output_type": "stream",
     "text": [
      "193663\n"
     ]
    }
   ],
   "source": [
    "x_data = x_train + x_test\n",
    "print(len(x_data))\n",
    "num_tokens = [len(token) for token in x_data]"
   ]
  },
  {
   "cell_type": "code",
   "execution_count": 40,
   "id": "aab751fd",
   "metadata": {},
   "outputs": [
    {
     "name": "stdout",
     "output_type": "stream",
     "text": [
      "max len:  132\n",
      "min len:  0\n",
      "mean:  15.433175154779178\n",
      "std:  13.477683788527823\n"
     ]
    }
   ],
   "source": [
    "print('max len: ', np.max(num_tokens))\n",
    "print('min len: ', np.min(num_tokens))\n",
    "print('mean: ', np.mean(num_tokens))\n",
    "print('std: ', np.std(num_tokens))"
   ]
  },
  {
   "cell_type": "code",
   "execution_count": 41,
   "id": "95809449",
   "metadata": {},
   "outputs": [
    {
     "name": "stdout",
     "output_type": "stream",
     "text": [
      "maxlen:  42\n",
      "maxlen에 포함되는 문장:  93.75874586265833 %\n"
     ]
    }
   ],
   "source": [
    "max_tokens = np.mean(num_tokens) + 2 * np.std(num_tokens) # maxlength 42로 제한\n",
    "maxlen = int(max_tokens)\n",
    "\n",
    "print('maxlen: ', maxlen)\n",
    "print('maxlen에 포함되는 문장: ', np.sum(num_tokens < max_tokens) / len(num_tokens) * 100, '%')"
   ]
  },
  {
   "cell_type": "code",
   "execution_count": 42,
   "id": "91b80c29",
   "metadata": {},
   "outputs": [],
   "source": [
    "xtemp, ytemp = [], []\n",
    "\n",
    "for i in range(len(x_train)):\n",
    "    if 0 < len(x_train[i]) < maxlen:\n",
    "        xtemp.append(x_train[i])\n",
    "        ytemp.append(y_train[i])\n",
    "        \n",
    "x_train, y_train = xtemp, ytemp"
   ]
  },
  {
   "cell_type": "code",
   "execution_count": 43,
   "id": "4dd56c45",
   "metadata": {},
   "outputs": [
    {
     "name": "stdout",
     "output_type": "stream",
     "text": [
      "135363 48792\n",
      "135363 48792\n"
     ]
    }
   ],
   "source": [
    "print(len(x_train), len(x_test))\n",
    "print(len(y_train), len(y_test))"
   ]
  },
  {
   "cell_type": "code",
   "execution_count": 44,
   "id": "40e078f6",
   "metadata": {},
   "outputs": [],
   "source": [
    "# padding\n",
    "x_train = tf.keras.preprocessing.sequence.pad_sequences(x_train, padding='post')\n",
    "x_test = tf.keras.preprocessing.sequence.pad_sequences(x_test, padding='post')"
   ]
  },
  {
   "cell_type": "code",
   "execution_count": 45,
   "id": "83c791d5",
   "metadata": {},
   "outputs": [
    {
     "name": "stdout",
     "output_type": "stream",
     "text": [
      "<class 'numpy.ndarray'> <class 'numpy.ndarray'> <class 'list'> <class 'numpy.ndarray'>\n"
     ]
    }
   ],
   "source": [
    "print(type(x_train), type(x_test), type(y_train), type(y_test))"
   ]
  },
  {
   "cell_type": "code",
   "execution_count": 46,
   "id": "6719b663",
   "metadata": {},
   "outputs": [],
   "source": [
    "y_train = np.array(y_train)"
   ]
  },
  {
   "cell_type": "code",
   "execution_count": 47,
   "id": "7fb149d8",
   "metadata": {},
   "outputs": [
    {
     "name": "stdout",
     "output_type": "stream",
     "text": [
      "<class 'numpy.ndarray'> <class 'numpy.ndarray'> <class 'numpy.ndarray'> <class 'numpy.ndarray'>\n"
     ]
    }
   ],
   "source": [
    "print(type(x_train), type(x_test), type(y_train), type(y_test))"
   ]
  },
  {
   "cell_type": "markdown",
   "id": "33c0a855",
   "metadata": {},
   "source": [
    "### 네이버 영화리뷰 감정 분석 모델 재학습"
   ]
  },
  {
   "cell_type": "code",
   "execution_count": 48,
   "id": "8ab80ed2",
   "metadata": {},
   "outputs": [
    {
     "name": "stdout",
     "output_type": "stream",
     "text": [
      "Model: \"sequential\"\n",
      "_________________________________________________________________\n",
      "Layer (type)                 Output Shape              Param #   \n",
      "=================================================================\n",
      "embedding (Embedding)        (None, None, 16)          128000    \n",
      "_________________________________________________________________\n",
      "lstm (LSTM)                  (None, 8)                 800       \n",
      "_________________________________________________________________\n",
      "dense (Dense)                (None, 8)                 72        \n",
      "_________________________________________________________________\n",
      "dense_1 (Dense)              (None, 1)                 9         \n",
      "=================================================================\n",
      "Total params: 128,881\n",
      "Trainable params: 128,881\n",
      "Non-trainable params: 0\n",
      "_________________________________________________________________\n"
     ]
    }
   ],
   "source": [
    "from tensorflow import keras\n",
    "from keras.callbacks import ModelCheckpoint\n",
    "\n",
    "word_vector_dim = 16\n",
    "\n",
    "model = keras.Sequential([\n",
    "    keras.layers.Embedding(vocab_size, word_vector_dim, input_shape=(None,)),\n",
    "    keras.layers.LSTM(8), # LSTM 사용\n",
    "    keras.layers.Dense(8, activation='relu'),\n",
    "    keras.layers.Dense(1, activation='sigmoid')\n",
    "])\n",
    "\n",
    "model.summary()"
   ]
  },
  {
   "cell_type": "code",
   "execution_count": 49,
   "id": "d2c829e2",
   "metadata": {},
   "outputs": [
    {
     "name": "stdout",
     "output_type": "stream",
     "text": [
      "Epoch 1/20\n",
      "212/212 [==============================] - 5s 8ms/step - loss: 0.6695 - accuracy: 0.5492 - val_loss: 0.4883 - val_accuracy: 0.7929\n",
      "Epoch 2/20\n",
      "212/212 [==============================] - 1s 5ms/step - loss: 0.3852 - accuracy: 0.8331 - val_loss: 0.3569 - val_accuracy: 0.8421\n",
      "Epoch 3/20\n",
      "212/212 [==============================] - 1s 6ms/step - loss: 0.3250 - accuracy: 0.8602 - val_loss: 0.3628 - val_accuracy: 0.8362\n",
      "Epoch 4/20\n",
      "212/212 [==============================] - 1s 6ms/step - loss: 0.3078 - accuracy: 0.8665 - val_loss: 0.3517 - val_accuracy: 0.8451\n",
      "Epoch 5/20\n",
      "212/212 [==============================] - 1s 5ms/step - loss: 0.2943 - accuracy: 0.8699 - val_loss: 0.3561 - val_accuracy: 0.8472\n",
      "Epoch 6/20\n",
      "212/212 [==============================] - 1s 5ms/step - loss: 0.2813 - accuracy: 0.8732 - val_loss: 0.3734 - val_accuracy: 0.8459\n",
      "Epoch 7/20\n",
      "212/212 [==============================] - 1s 5ms/step - loss: 0.2715 - accuracy: 0.8755 - val_loss: 0.3796 - val_accuracy: 0.8436\n",
      "Epoch 8/20\n",
      "212/212 [==============================] - 1s 6ms/step - loss: 0.2637 - accuracy: 0.8779 - val_loss: 0.3922 - val_accuracy: 0.8393\n",
      "Epoch 9/20\n",
      "212/212 [==============================] - 1s 6ms/step - loss: 0.2563 - accuracy: 0.8790 - val_loss: 0.4202 - val_accuracy: 0.8417\n",
      "Epoch 10/20\n",
      "212/212 [==============================] - 1s 6ms/step - loss: 0.2491 - accuracy: 0.8806 - val_loss: 0.4116 - val_accuracy: 0.8407\n",
      "Epoch 11/20\n",
      "212/212 [==============================] - 1s 6ms/step - loss: 0.2448 - accuracy: 0.8814 - val_loss: 0.4217 - val_accuracy: 0.8382\n",
      "Epoch 12/20\n",
      "212/212 [==============================] - 1s 6ms/step - loss: 0.2379 - accuracy: 0.8837 - val_loss: 0.4213 - val_accuracy: 0.8371\n",
      "Epoch 13/20\n",
      "212/212 [==============================] - 1s 6ms/step - loss: 0.2334 - accuracy: 0.8850 - val_loss: 0.4481 - val_accuracy: 0.8358\n",
      "Epoch 14/20\n",
      "212/212 [==============================] - 1s 5ms/step - loss: 0.2264 - accuracy: 0.8871 - val_loss: 0.4680 - val_accuracy: 0.8313\n",
      "Epoch 15/20\n",
      "212/212 [==============================] - 1s 5ms/step - loss: 0.2241 - accuracy: 0.8881 - val_loss: 0.4568 - val_accuracy: 0.8354\n",
      "Epoch 16/20\n",
      "212/212 [==============================] - 1s 6ms/step - loss: 0.2175 - accuracy: 0.8924 - val_loss: 0.4692 - val_accuracy: 0.8228\n",
      "Epoch 17/20\n",
      "212/212 [==============================] - 1s 6ms/step - loss: 0.2134 - accuracy: 0.8950 - val_loss: 0.4632 - val_accuracy: 0.8190\n",
      "Epoch 18/20\n",
      "212/212 [==============================] - 1s 6ms/step - loss: 0.2080 - accuracy: 0.9002 - val_loss: 0.4809 - val_accuracy: 0.8179\n",
      "Epoch 19/20\n",
      "212/212 [==============================] - 1s 6ms/step - loss: 0.2024 - accuracy: 0.9051 - val_loss: 0.4827 - val_accuracy: 0.8226\n",
      "Epoch 20/20\n",
      "212/212 [==============================] - 1s 6ms/step - loss: 0.1955 - accuracy: 0.9100 - val_loss: 0.5018 - val_accuracy: 0.8189\n"
     ]
    }
   ],
   "source": [
    "mc = ModelCheckpoint(\"splstm.h5\", monitor='val_accuracy',save_best_only=True)\n",
    "\n",
    "model.compile(optimizer='adam',\n",
    "             loss='binary_crossentropy',\n",
    "             metrics=['accuracy'])\n",
    "\n",
    "history = model.fit(x_train, y_train, epochs=20, batch_size=512, validation_split=0.2, verbose=1, callbacks=[mc])"
   ]
  },
  {
   "cell_type": "code",
   "execution_count": 50,
   "id": "63b3937c",
   "metadata": {},
   "outputs": [
    {
     "name": "stdout",
     "output_type": "stream",
     "text": [
      "1525/1525 - 4s - loss: 0.6975 - accuracy: 0.8305\n"
     ]
    }
   ],
   "source": [
    "from tensorflow.keras.models import load_model\n",
    "\n",
    "model = load_model('splstm.h5')\n",
    "results = model.evaluate(x_test, y_test, verbose=2)"
   ]
  },
  {
   "cell_type": "markdown",
   "id": "fdab5650",
   "metadata": {},
   "source": [
    "### KoNLPy"
   ]
  },
  {
   "cell_type": "code",
   "execution_count": 51,
   "id": "04307baf",
   "metadata": {},
   "outputs": [
    {
     "name": "stdout",
     "output_type": "stream",
     "text": [
      "144871 48792\n"
     ]
    }
   ],
   "source": [
    "print(len(train), len(test))"
   ]
  },
  {
   "cell_type": "code",
   "execution_count": 52,
   "id": "fe2a80f6",
   "metadata": {},
   "outputs": [
    {
     "data": {
      "text/html": [
       "<div>\n",
       "<style scoped>\n",
       "    .dataframe tbody tr th:only-of-type {\n",
       "        vertical-align: middle;\n",
       "    }\n",
       "\n",
       "    .dataframe tbody tr th {\n",
       "        vertical-align: top;\n",
       "    }\n",
       "\n",
       "    .dataframe thead th {\n",
       "        text-align: right;\n",
       "    }\n",
       "</style>\n",
       "<table border=\"1\" class=\"dataframe\">\n",
       "  <thead>\n",
       "    <tr style=\"text-align: right;\">\n",
       "      <th></th>\n",
       "      <th>id</th>\n",
       "      <th>document</th>\n",
       "      <th>label</th>\n",
       "    </tr>\n",
       "  </thead>\n",
       "  <tbody>\n",
       "    <tr>\n",
       "      <th>0</th>\n",
       "      <td>9976970</td>\n",
       "      <td>아 더빙 진짜 짜증나네요 목소리</td>\n",
       "      <td>0</td>\n",
       "    </tr>\n",
       "    <tr>\n",
       "      <th>1</th>\n",
       "      <td>3819312</td>\n",
       "      <td>흠 포스터보고 초딩영화줄 오버연기조차 가볍지 않구나</td>\n",
       "      <td>1</td>\n",
       "    </tr>\n",
       "    <tr>\n",
       "      <th>2</th>\n",
       "      <td>10265843</td>\n",
       "      <td>너무재밓었다그래서보는것을추천한다</td>\n",
       "      <td>0</td>\n",
       "    </tr>\n",
       "    <tr>\n",
       "      <th>3</th>\n",
       "      <td>9045019</td>\n",
       "      <td>교도소 이야기구먼 솔직히 재미는 없다 평점 조정</td>\n",
       "      <td>0</td>\n",
       "    </tr>\n",
       "    <tr>\n",
       "      <th>4</th>\n",
       "      <td>6483659</td>\n",
       "      <td>사이몬페그의 익살스런 연기가 돋보였던 영화 스파이더맨에서 늙어보이기만 했던 커스틴 ...</td>\n",
       "      <td>1</td>\n",
       "    </tr>\n",
       "  </tbody>\n",
       "</table>\n",
       "</div>"
      ],
      "text/plain": [
       "         id                                           document  label\n",
       "0   9976970                                  아 더빙 진짜 짜증나네요 목소리      0\n",
       "1   3819312                       흠 포스터보고 초딩영화줄 오버연기조차 가볍지 않구나      1\n",
       "2  10265843                                  너무재밓었다그래서보는것을추천한다      0\n",
       "3   9045019                         교도소 이야기구먼 솔직히 재미는 없다 평점 조정      0\n",
       "4   6483659  사이몬페그의 익살스런 연기가 돋보였던 영화 스파이더맨에서 늙어보이기만 했던 커스틴 ...      1"
      ]
     },
     "execution_count": 52,
     "metadata": {},
     "output_type": "execute_result"
    }
   ],
   "source": [
    "train.head()"
   ]
  },
  {
   "cell_type": "code",
   "execution_count": 53,
   "id": "30acfbc7",
   "metadata": {},
   "outputs": [],
   "source": [
    "from konlpy.tag import Mecab\n",
    "\n",
    "mecab = Mecab()"
   ]
  },
  {
   "cell_type": "code",
   "execution_count": 54,
   "id": "1e4e37b2",
   "metadata": {},
   "outputs": [],
   "source": [
    "def mecab_split(sentence):\n",
    "    return mecab.morphs(sentence)\n",
    "\n",
    "mecab_corpus = []\n",
    "\n",
    "for sen in train['document']:\n",
    "    mecab_corpus.append(mecab_split(sen))"
   ]
  },
  {
   "cell_type": "code",
   "execution_count": 55,
   "id": "ce19083b",
   "metadata": {},
   "outputs": [
    {
     "data": {
      "text/plain": [
       "[['아', '더', '빙', '진짜', '짜증', '나', '네요', '목소리'],\n",
       " ['흠', '포스터', '보고', '초딩', '영화', '줄', '오버', '연기', '조차', '가볍', '지', '않', '구나'],\n",
       " ['너무', '재', '밓었다그래서보는것을추천한다'],\n",
       " ['교도소', '이야기', '구먼', '솔직히', '재미', '는', '없', '다', '평점', '조정']]"
      ]
     },
     "execution_count": 55,
     "metadata": {},
     "output_type": "execute_result"
    }
   ],
   "source": [
    "mecab_corpus[:4]"
   ]
  },
  {
   "cell_type": "code",
   "execution_count": 56,
   "id": "e88818f0",
   "metadata": {},
   "outputs": [
    {
     "name": "stdout",
     "output_type": "stream",
     "text": [
      "193663\n"
     ]
    }
   ],
   "source": [
    "mecab_train_len = [len(token) for token in mecab_corpus]\n",
    "mecab_test_len = [len(token) for token in x_test]\n",
    "mecab_num_tokens = mecab_train_len + mecab_test_len\n",
    "print(len(mecab_num_tokens))"
   ]
  },
  {
   "cell_type": "code",
   "execution_count": 57,
   "id": "4c00b957",
   "metadata": {},
   "outputs": [
    {
     "name": "stdout",
     "output_type": "stream",
     "text": [
      "max len:  114\n",
      "min len:  0\n",
      "mean:  41.23041055854758\n",
      "std:  43.93287026108354\n"
     ]
    }
   ],
   "source": [
    "print('max len: ', np.max(mecab_num_tokens))\n",
    "print('min len: ', np.min(mecab_num_tokens))\n",
    "print('mean: ', np.mean(mecab_num_tokens))\n",
    "print('std: ', np.std(mecab_num_tokens))"
   ]
  },
  {
   "cell_type": "code",
   "execution_count": 58,
   "id": "40b36915",
   "metadata": {},
   "outputs": [
    {
     "name": "stdout",
     "output_type": "stream",
     "text": [
      "maxlen:  111\n",
      "maxlen에 포함되는 문장:  74.80571921327254 %\n"
     ]
    }
   ],
   "source": [
    "mecab_max_tokens = np.mean(mecab_num_tokens) + 70 # max length 111로 제한\n",
    "mecab_maxlen = int(mecab_max_tokens)\n",
    "print('maxlen: ', mecab_maxlen)\n",
    "print('maxlen에 포함되는 문장: ', np.sum(mecab_num_tokens < mecab_max_tokens) / len(mecab_num_tokens) * 100, '%')"
   ]
  },
  {
   "cell_type": "code",
   "execution_count": 59,
   "id": "f4da71ed",
   "metadata": {},
   "outputs": [],
   "source": [
    "def tokenize(corpus):\n",
    "    tokenizer = tf.keras.preprocessing.text.Tokenizer(filters='')\n",
    "    tokenizer.fit_on_texts(corpus)\n",
    "    \n",
    "    tensor = tokenizer.texts_to_sequences(corpus)\n",
    "    tensor = tf.keras.preprocessing.sequence.pad_sequences(tensor, padding='post')\n",
    "    \n",
    "    return tensor, tokenizer"
   ]
  },
  {
   "cell_type": "code",
   "execution_count": 60,
   "id": "8114a376",
   "metadata": {},
   "outputs": [
    {
     "name": "stdout",
     "output_type": "stream",
     "text": [
      "size:  51210\n"
     ]
    }
   ],
   "source": [
    "mecab_tensor, mecab_tokenizer = tokenize(mecab_corpus)\n",
    "print('size: ', len(mecab_tokenizer.index_word))"
   ]
  },
  {
   "cell_type": "code",
   "execution_count": 61,
   "id": "3e554895",
   "metadata": {},
   "outputs": [
    {
     "data": {
      "text/plain": [
       "144871"
      ]
     },
     "execution_count": 61,
     "metadata": {},
     "output_type": "execute_result"
    }
   ],
   "source": [
    "len(mecab_tensor)"
   ]
  },
  {
   "cell_type": "code",
   "execution_count": 62,
   "id": "264ea071",
   "metadata": {},
   "outputs": [
    {
     "data": {
      "text/plain": [
       "array([ 35,  78, 923,  41, 227,  22,  36, 721,   0,   0,   0,   0,   0,\n",
       "         0,   0,   0,   0,   0,   0,   0,   0,   0,   0,   0,   0,   0,\n",
       "         0,   0,   0,   0,   0,   0,   0,   0,   0,   0,   0,   0,   0,\n",
       "         0,   0,   0,   0,   0,   0,   0,   0,   0,   0,   0,   0,   0,\n",
       "         0,   0,   0,   0,   0,   0,   0,   0,   0,   0,   0,   0,   0,\n",
       "         0,   0,   0,   0,   0,   0,   0,   0,   0,   0,   0,   0,   0,\n",
       "         0,   0,   0,   0,   0,   0,   0,   0,   0,   0,   0,   0,   0,\n",
       "         0,   0,   0,   0], dtype=int32)"
      ]
     },
     "execution_count": 62,
     "metadata": {},
     "output_type": "execute_result"
    }
   ],
   "source": [
    "mecab_tensor[0]"
   ]
  },
  {
   "cell_type": "code",
   "execution_count": 63,
   "id": "840799ae",
   "metadata": {},
   "outputs": [],
   "source": [
    "xtemp = mecab_tokenizer.texts_to_sequences(test['document'])\n",
    "xtemp = tf.keras.preprocessing.sequence.pad_sequences(xtemp, padding='post')"
   ]
  },
  {
   "cell_type": "code",
   "execution_count": 64,
   "id": "87c58b45",
   "metadata": {},
   "outputs": [
    {
     "data": {
      "text/plain": [
       "array([809, 132,   0,   0,   0,   0,   0,   0,   0,   0,   0,   0,   0,\n",
       "         0,   0,   0,   0,   0,   0,   0,   0,   0,   0,   0,   0,   0,\n",
       "         0,   0,   0,   0,   0,   0,   0], dtype=int32)"
      ]
     },
     "execution_count": 64,
     "metadata": {},
     "output_type": "execute_result"
    }
   ],
   "source": [
    "xtemp[0]"
   ]
  },
  {
   "cell_type": "code",
   "execution_count": 65,
   "id": "377857c4",
   "metadata": {},
   "outputs": [],
   "source": [
    "mecab_xtrain = mecab_tensor\n",
    "mecab_ytrain = np.array(train['label'])\n",
    "mecab_xtest = xtemp\n",
    "mecab_ytest = np.array(test['label'])"
   ]
  },
  {
   "cell_type": "code",
   "execution_count": 66,
   "id": "e48ea76a",
   "metadata": {},
   "outputs": [
    {
     "name": "stdout",
     "output_type": "stream",
     "text": [
      "144871 48792\n",
      "144871 48792\n"
     ]
    }
   ],
   "source": [
    "print(len(mecab_xtrain), len(mecab_xtest))\n",
    "print(len(mecab_ytrain), len(mecab_ytest))"
   ]
  },
  {
   "cell_type": "code",
   "execution_count": 67,
   "id": "cf6c7672",
   "metadata": {},
   "outputs": [
    {
     "name": "stdout",
     "output_type": "stream",
     "text": [
      "<class 'numpy.ndarray'> <class 'numpy.ndarray'> <class 'numpy.ndarray'> <class 'numpy.ndarray'>\n"
     ]
    }
   ],
   "source": [
    "print(type(mecab_xtrain), type(mecab_xtest), type(mecab_ytrain), type(mecab_ytest))"
   ]
  },
  {
   "cell_type": "code",
   "execution_count": 68,
   "id": "aa402ae2",
   "metadata": {},
   "outputs": [
    {
     "name": "stdout",
     "output_type": "stream",
     "text": [
      "51210\n"
     ]
    }
   ],
   "source": [
    "# check\n",
    "ch_max = 0\n",
    "for x in mecab_xtrain:\n",
    "    tmp = max(x)\n",
    "    if tmp > ch_max:\n",
    "        ch_max = tmp\n",
    "print(ch_max)"
   ]
  },
  {
   "cell_type": "code",
   "execution_count": 69,
   "id": "c64c76ac",
   "metadata": {},
   "outputs": [
    {
     "name": "stdout",
     "output_type": "stream",
     "text": [
      "Model: \"sequential_1\"\n",
      "_________________________________________________________________\n",
      "Layer (type)                 Output Shape              Param #   \n",
      "=================================================================\n",
      "embedding_1 (Embedding)      (None, None, 16)          819376    \n",
      "_________________________________________________________________\n",
      "lstm_1 (LSTM)                (None, 8)                 800       \n",
      "_________________________________________________________________\n",
      "dense_2 (Dense)              (None, 8)                 72        \n",
      "_________________________________________________________________\n",
      "dense_3 (Dense)              (None, 1)                 9         \n",
      "=================================================================\n",
      "Total params: 820,257\n",
      "Trainable params: 820,257\n",
      "Non-trainable params: 0\n",
      "_________________________________________________________________\n"
     ]
    }
   ],
   "source": [
    "# 모델\n",
    "word_vector_dim = 16\n",
    "\n",
    "model2 = keras.Sequential([\n",
    "    keras.layers.Embedding(ch_max+1, word_vector_dim, input_shape=(None, )),\n",
    "    keras.layers.LSTM(8), # LSTM 사용\n",
    "    keras.layers.Dense(8, activation='relu'),\n",
    "    keras.layers.Dense(1, activation='sigmoid')\n",
    "])\n",
    "\n",
    "model2.summary()"
   ]
  },
  {
   "cell_type": "code",
   "execution_count": 70,
   "id": "503755b4",
   "metadata": {},
   "outputs": [
    {
     "name": "stdout",
     "output_type": "stream",
     "text": [
      "Epoch 1/20\n",
      "227/227 [==============================] - 4s 10ms/step - loss: 0.6932 - accuracy: 0.4975 - val_loss: 0.6931 - val_accuracy: 0.5040\n",
      "Epoch 2/20\n",
      "227/227 [==============================] - 2s 7ms/step - loss: 0.6932 - accuracy: 0.5012 - val_loss: 0.6931 - val_accuracy: 0.5040\n",
      "Epoch 3/20\n",
      "227/227 [==============================] - 2s 8ms/step - loss: 0.6931 - accuracy: 0.5013 - val_loss: 0.6931 - val_accuracy: 0.5040\n",
      "Epoch 4/20\n",
      "227/227 [==============================] - 2s 7ms/step - loss: 0.6931 - accuracy: 0.4999 - val_loss: 0.6931 - val_accuracy: 0.5040\n",
      "Epoch 5/20\n",
      "227/227 [==============================] - 2s 8ms/step - loss: 0.6932 - accuracy: 0.5013 - val_loss: 0.6931 - val_accuracy: 0.5040\n",
      "Epoch 6/20\n",
      "227/227 [==============================] - 2s 8ms/step - loss: 0.6932 - accuracy: 0.5004 - val_loss: 0.6931 - val_accuracy: 0.5040\n",
      "Epoch 7/20\n",
      "227/227 [==============================] - 2s 8ms/step - loss: 0.6931 - accuracy: 0.5008 - val_loss: 0.6931 - val_accuracy: 0.5040\n",
      "Epoch 8/20\n",
      "227/227 [==============================] - 2s 7ms/step - loss: 0.6391 - accuracy: 0.6306 - val_loss: 0.5787 - val_accuracy: 0.7360\n",
      "Epoch 9/20\n",
      "227/227 [==============================] - 2s 8ms/step - loss: 0.6248 - accuracy: 0.6480 - val_loss: 0.6290 - val_accuracy: 0.6340\n",
      "Epoch 10/20\n",
      "227/227 [==============================] - 2s 8ms/step - loss: 0.6231 - accuracy: 0.6416 - val_loss: 0.6305 - val_accuracy: 0.6316\n",
      "Epoch 11/20\n",
      "227/227 [==============================] - 2s 8ms/step - loss: 0.6235 - accuracy: 0.6409 - val_loss: 0.6300 - val_accuracy: 0.6317\n",
      "Epoch 12/20\n",
      "227/227 [==============================] - 2s 8ms/step - loss: 0.6234 - accuracy: 0.6410 - val_loss: 0.6300 - val_accuracy: 0.6317\n",
      "Epoch 13/20\n",
      "227/227 [==============================] - 2s 8ms/step - loss: 0.6232 - accuracy: 0.6411 - val_loss: 0.6301 - val_accuracy: 0.6318\n",
      "Epoch 14/20\n",
      "227/227 [==============================] - 2s 7ms/step - loss: 0.6231 - accuracy: 0.6412 - val_loss: 0.6297 - val_accuracy: 0.6321\n",
      "Epoch 15/20\n",
      "227/227 [==============================] - 2s 7ms/step - loss: 0.6228 - accuracy: 0.6417 - val_loss: 0.6295 - val_accuracy: 0.6326\n",
      "Epoch 16/20\n",
      "227/227 [==============================] - 2s 7ms/step - loss: 0.6226 - accuracy: 0.6421 - val_loss: 0.6291 - val_accuracy: 0.6333\n",
      "Epoch 17/20\n",
      "227/227 [==============================] - 2s 7ms/step - loss: 0.6222 - accuracy: 0.6430 - val_loss: 0.6281 - val_accuracy: 0.6346\n",
      "Epoch 18/20\n",
      "227/227 [==============================] - 2s 8ms/step - loss: 0.6217 - accuracy: 0.6435 - val_loss: 0.6282 - val_accuracy: 0.6347\n",
      "Epoch 19/20\n",
      "227/227 [==============================] - 2s 8ms/step - loss: 0.6213 - accuracy: 0.6441 - val_loss: 0.6280 - val_accuracy: 0.6352\n",
      "Epoch 20/20\n",
      "227/227 [==============================] - 2s 7ms/step - loss: 0.6209 - accuracy: 0.6449 - val_loss: 0.6264 - val_accuracy: 0.6393\n"
     ]
    }
   ],
   "source": [
    "mc2 = ModelCheckpoint(\"mecablstm.h5\", monitor='val_accuracy',save_best_only=True)\n",
    "\n",
    "model2.compile(optimizer='adam', loss='binary_crossentropy', metrics=['accuracy'])\n",
    "history_mecab = model2.fit(mecab_xtrain, mecab_ytrain, epochs=20, batch_size=512, validation_split=0.2, verbose=1, callbacks=[mc2])"
   ]
  },
  {
   "cell_type": "code",
   "execution_count": 71,
   "id": "0577210f",
   "metadata": {},
   "outputs": [
    {
     "name": "stdout",
     "output_type": "stream",
     "text": [
      "1525/1525 - 3s - loss: 0.7294 - accuracy: 0.6086\n"
     ]
    }
   ],
   "source": [
    "model2 = load_model('mecablstm.h5')\n",
    "results_mecab = model2.evaluate(mecab_xtest,  mecab_ytest, verbose=2)"
   ]
  },
  {
   "cell_type": "markdown",
   "id": "0623f7a9",
   "metadata": {},
   "source": [
    "### SentencePiece 성능 개선하기\n",
    "다른 조건은 위의 SentencePiece 과정과 동일하나, LSTM 모델을 양방향 LSTM으로 변경하였다."
   ]
  },
  {
   "cell_type": "code",
   "execution_count": 72,
   "id": "72c3acfc",
   "metadata": {},
   "outputs": [
    {
     "name": "stdout",
     "output_type": "stream",
     "text": [
      "Model: \"sequential_2\"\n",
      "_________________________________________________________________\n",
      "Layer (type)                 Output Shape              Param #   \n",
      "=================================================================\n",
      "embedding_2 (Embedding)      (None, None, 16)          128000    \n",
      "_________________________________________________________________\n",
      "bidirectional (Bidirectional (None, 16)                1600      \n",
      "_________________________________________________________________\n",
      "dense_4 (Dense)              (None, 8)                 136       \n",
      "_________________________________________________________________\n",
      "dense_5 (Dense)              (None, 1)                 9         \n",
      "=================================================================\n",
      "Total params: 129,745\n",
      "Trainable params: 129,745\n",
      "Non-trainable params: 0\n",
      "_________________________________________________________________\n"
     ]
    }
   ],
   "source": [
    "word_vector_dim = 16\n",
    "\n",
    "model3 = keras.Sequential([\n",
    "    keras.layers.Embedding(vocab_size, word_vector_dim, input_shape=(None,)),\n",
    "    keras.layers.Bidirectional(keras.layers.LSTM(8)), # 양방향 LSTM 사용\n",
    "    keras.layers.Dense(8, activation='relu'),\n",
    "    keras.layers.Dense(1, activation='sigmoid')\n",
    "])\n",
    "\n",
    "model3.summary()"
   ]
  },
  {
   "cell_type": "code",
   "execution_count": 73,
   "id": "e0c18dc9",
   "metadata": {},
   "outputs": [
    {
     "name": "stdout",
     "output_type": "stream",
     "text": [
      "Epoch 1/20\n",
      "212/212 [==============================] - 5s 11ms/step - loss: 0.5348 - accuracy: 0.7424 - val_loss: 0.3944 - val_accuracy: 0.8280\n",
      "Epoch 2/20\n",
      "212/212 [==============================] - 2s 8ms/step - loss: 0.3487 - accuracy: 0.8525 - val_loss: 0.3585 - val_accuracy: 0.8448\n",
      "Epoch 3/20\n",
      "212/212 [==============================] - 2s 8ms/step - loss: 0.3230 - accuracy: 0.8639 - val_loss: 0.3572 - val_accuracy: 0.8442\n",
      "Epoch 4/20\n",
      "212/212 [==============================] - 2s 8ms/step - loss: 0.3126 - accuracy: 0.8684 - val_loss: 0.3566 - val_accuracy: 0.8455\n",
      "Epoch 5/20\n",
      "212/212 [==============================] - 2s 8ms/step - loss: 0.3051 - accuracy: 0.8718 - val_loss: 0.3619 - val_accuracy: 0.8422\n",
      "Epoch 6/20\n",
      "212/212 [==============================] - 2s 8ms/step - loss: 0.3000 - accuracy: 0.8734 - val_loss: 0.3565 - val_accuracy: 0.8448\n",
      "Epoch 7/20\n",
      "212/212 [==============================] - 2s 8ms/step - loss: 0.2924 - accuracy: 0.8769 - val_loss: 0.3597 - val_accuracy: 0.8447\n",
      "Epoch 8/20\n",
      "212/212 [==============================] - 2s 8ms/step - loss: 0.2852 - accuracy: 0.8801 - val_loss: 0.3550 - val_accuracy: 0.8463\n",
      "Epoch 9/20\n",
      "212/212 [==============================] - 2s 8ms/step - loss: 0.2785 - accuracy: 0.8822 - val_loss: 0.3609 - val_accuracy: 0.8462\n",
      "Epoch 10/20\n",
      "212/212 [==============================] - 2s 8ms/step - loss: 0.2689 - accuracy: 0.8868 - val_loss: 0.3628 - val_accuracy: 0.8449\n",
      "Epoch 11/20\n",
      "212/212 [==============================] - 2s 8ms/step - loss: 0.2585 - accuracy: 0.8907 - val_loss: 0.3676 - val_accuracy: 0.8437\n",
      "Epoch 12/20\n",
      "212/212 [==============================] - 2s 8ms/step - loss: 0.2483 - accuracy: 0.8953 - val_loss: 0.3756 - val_accuracy: 0.8422\n",
      "Epoch 13/20\n",
      "212/212 [==============================] - 2s 8ms/step - loss: 0.2381 - accuracy: 0.9004 - val_loss: 0.3887 - val_accuracy: 0.8400\n",
      "Epoch 14/20\n",
      "212/212 [==============================] - 2s 8ms/step - loss: 0.2281 - accuracy: 0.9046 - val_loss: 0.3938 - val_accuracy: 0.8387\n",
      "Epoch 15/20\n",
      "212/212 [==============================] - 2s 8ms/step - loss: 0.2203 - accuracy: 0.9089 - val_loss: 0.4132 - val_accuracy: 0.8365\n",
      "Epoch 16/20\n",
      "212/212 [==============================] - 2s 8ms/step - loss: 0.2117 - accuracy: 0.9122 - val_loss: 0.4281 - val_accuracy: 0.8370\n",
      "Epoch 17/20\n",
      "212/212 [==============================] - 2s 8ms/step - loss: 0.2042 - accuracy: 0.9163 - val_loss: 0.4371 - val_accuracy: 0.8327\n",
      "Epoch 18/20\n",
      "212/212 [==============================] - 2s 8ms/step - loss: 0.1976 - accuracy: 0.9195 - val_loss: 0.4580 - val_accuracy: 0.8326\n",
      "Epoch 19/20\n",
      "212/212 [==============================] - 2s 8ms/step - loss: 0.1913 - accuracy: 0.9212 - val_loss: 0.4685 - val_accuracy: 0.8305\n",
      "Epoch 20/20\n",
      "212/212 [==============================] - 2s 8ms/step - loss: 0.1852 - accuracy: 0.9250 - val_loss: 0.4781 - val_accuracy: 0.8299\n"
     ]
    }
   ],
   "source": [
    "mc3 = ModelCheckpoint(\"spbdlstm.h5\", monitor='val_accuracy',save_best_only=True)\n",
    "\n",
    "model3.compile(optimizer='adam',\n",
    "             loss='binary_crossentropy',\n",
    "             metrics=['accuracy'])\n",
    "\n",
    "history = model3.fit(x_train, y_train, epochs=20, batch_size=512, validation_split=0.2, verbose=1, callbacks=[mc3])"
   ]
  },
  {
   "cell_type": "code",
   "execution_count": 74,
   "id": "e55924d1",
   "metadata": {},
   "outputs": [
    {
     "name": "stdout",
     "output_type": "stream",
     "text": [
      "1525/1525 - 6s - loss: 0.3662 - accuracy: 0.8418\n"
     ]
    }
   ],
   "source": [
    "model3 = load_model('spbdlstm.h5')\n",
    "results3 = model3.evaluate(x_test, y_test, verbose=2)"
   ]
  },
  {
   "cell_type": "markdown",
   "id": "2e412dbc",
   "metadata": {},
   "source": [
    "## 결론"
   ]
  },
  {
   "cell_type": "markdown",
   "id": "c7cfe518",
   "metadata": {},
   "source": [
    "### 루브릭\n",
    "|평가문항|상세기준|\n",
    "|:---|:---|\n",
    "|1. SentencePiece를 이용하여 모델을 만들기까지의 과정이 정상적으로 진행되었는가?|코퍼스 분석, 전처리, SentencePiece 적용, 토크나이저 구현 및 동작이 빠짐없이 진행되었는가?|\n",
    "|2. SentencePiece를 통해 만든 Tokenizer가 자연어처리 모델과 결합하여 동작하는가?|SentencePiece 토크나이저가 적용된 Text Classifier 모델이 정상적으로 수렴하여 80% 이상의 test accuracy가 확인되었다.|\n",
    "|3. SentencePiece의 성능을 다각도로 비교분석하였는가?|SentencePiece 토크나이저를 활용했을 때의 성능을 다른 토크나이저 혹은 SentencePiece의 다른 옵션과 비교하여 분석을 체계적으로 진행하였다.|"
   ]
  },
  {
   "cell_type": "markdown",
   "id": "3b005d1d",
   "metadata": {},
   "source": [
    "### 고찰\n",
    "|name|tokenizer|모델|test accuracy|\n",
    "|:---:|:---:|:---:|:---:|\n",
    "|splstm|SentencePiece|LSTM|0.8305|\n",
    "|mecablstm|mecab|LSTM|0.6086|\n",
    "|spbdlstm|SentencePiece|양방향 LSTM|**0.8418**|  \n",
    "\n",
    "Tokenizer 부분에서는 KoNLPy mecab 형태소 분석기에 비해 SentencePiece가 같은 모델 기준 0.2정도 크게 증가하였다. SentencePiece 토크나이저로는 LSTM, 양방향 LSTM 두 모델을 훈련시켰는데 일반 LSTM에 비해 양방향 LSTM이 정확도가 0.01정도 높았다.  \n",
    "\n",
    "### 회고\n",
    "|kpt|내용|\n",
    "|:---|:---|\n",
    "|**Keep**|SentencePiece를 이용한 모델을 성공적으로 구현했다.|\n",
    "|**Problem**|많은 조건에 대해 실험해보지 못했다.|\n",
    "|**Try**|성능을 더 높일 수 있는 다른 조건(다른 모델, vocab size 등)에 대해 시도해본다.|"
   ]
  },
  {
   "cell_type": "code",
   "execution_count": null,
   "id": "5235efb8",
   "metadata": {},
   "outputs": [],
   "source": []
  }
 ],
 "metadata": {
  "kernelspec": {
   "display_name": "Python 3 (ipykernel)",
   "language": "python",
   "name": "python3"
  },
  "language_info": {
   "codemirror_mode": {
    "name": "ipython",
    "version": 3
   },
   "file_extension": ".py",
   "mimetype": "text/x-python",
   "name": "python",
   "nbconvert_exporter": "python",
   "pygments_lexer": "ipython3",
   "version": "3.9.7"
  }
 },
 "nbformat": 4,
 "nbformat_minor": 5
}
