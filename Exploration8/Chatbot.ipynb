{
 "cells": [
  {
   "cell_type": "markdown",
   "metadata": {},
   "source": [
    "# 프로젝트: 한국어 데이터로 챗봇 만들기"
   ]
  },
  {
   "cell_type": "code",
   "execution_count": 1,
   "metadata": {},
   "outputs": [],
   "source": [
    "import tensorflow as tf\n",
    "import os\n",
    "import re\n",
    "import numpy as np\n",
    "import matplotlib.pyplot as plt\n",
    "import pandas as pd"
   ]
  },
  {
   "cell_type": "markdown",
   "metadata": {},
   "source": [
    "## Step 1. 데이터 수집하기\n",
    "- 송영숙님이 공개한 챗봇 데이터 사용\n",
    "- [songys/Chatbot_data](https://github.com/songys/Chatbot_data/blob/master/ChatbotData.csv)\n",
    "- 다음카페 \"사랑보다 아름다운 실연\"에서 자주 나오는 이야기로 제작\n",
    "- 트레이닝용 데이터 11,876개\n",
    "- 일상다반사 0, 이별(부정) 1, 사랑(긍정) 2로 레이블링"
   ]
  },
  {
   "cell_type": "code",
   "execution_count": 2,
   "metadata": {},
   "outputs": [
    {
     "data": {
      "text/html": [
       "<div>\n",
       "<style scoped>\n",
       "    .dataframe tbody tr th:only-of-type {\n",
       "        vertical-align: middle;\n",
       "    }\n",
       "\n",
       "    .dataframe tbody tr th {\n",
       "        vertical-align: top;\n",
       "    }\n",
       "\n",
       "    .dataframe thead th {\n",
       "        text-align: right;\n",
       "    }\n",
       "</style>\n",
       "<table border=\"1\" class=\"dataframe\">\n",
       "  <thead>\n",
       "    <tr style=\"text-align: right;\">\n",
       "      <th></th>\n",
       "      <th>Q</th>\n",
       "      <th>A</th>\n",
       "      <th>label</th>\n",
       "    </tr>\n",
       "  </thead>\n",
       "  <tbody>\n",
       "    <tr>\n",
       "      <th>0</th>\n",
       "      <td>12시 땡!</td>\n",
       "      <td>하루가 또 가네요.</td>\n",
       "      <td>0</td>\n",
       "    </tr>\n",
       "    <tr>\n",
       "      <th>1</th>\n",
       "      <td>1지망 학교 떨어졌어</td>\n",
       "      <td>위로해 드립니다.</td>\n",
       "      <td>0</td>\n",
       "    </tr>\n",
       "    <tr>\n",
       "      <th>2</th>\n",
       "      <td>3박4일 놀러가고 싶다</td>\n",
       "      <td>여행은 언제나 좋죠.</td>\n",
       "      <td>0</td>\n",
       "    </tr>\n",
       "    <tr>\n",
       "      <th>3</th>\n",
       "      <td>3박4일 정도 놀러가고 싶다</td>\n",
       "      <td>여행은 언제나 좋죠.</td>\n",
       "      <td>0</td>\n",
       "    </tr>\n",
       "    <tr>\n",
       "      <th>4</th>\n",
       "      <td>PPL 심하네</td>\n",
       "      <td>눈살이 찌푸려지죠.</td>\n",
       "      <td>0</td>\n",
       "    </tr>\n",
       "  </tbody>\n",
       "</table>\n",
       "</div>"
      ],
      "text/plain": [
       "                 Q            A  label\n",
       "0           12시 땡!   하루가 또 가네요.      0\n",
       "1      1지망 학교 떨어졌어    위로해 드립니다.      0\n",
       "2     3박4일 놀러가고 싶다  여행은 언제나 좋죠.      0\n",
       "3  3박4일 정도 놀러가고 싶다  여행은 언제나 좋죠.      0\n",
       "4          PPL 심하네   눈살이 찌푸려지죠.      0"
      ]
     },
     "execution_count": 2,
     "metadata": {},
     "output_type": "execute_result"
    }
   ],
   "source": [
    "data = pd.read_csv('./data/ChatbotData .csv', encoding='utf-8')\n",
    "data.head()"
   ]
  },
  {
   "cell_type": "code",
   "execution_count": 3,
   "metadata": {},
   "outputs": [
    {
     "data": {
      "text/plain": [
       "label\n",
       "0    5290\n",
       "1    3570\n",
       "2    2963\n",
       "Name: count, dtype: int64"
      ]
     },
     "execution_count": 3,
     "metadata": {},
     "output_type": "execute_result"
    }
   ],
   "source": [
    "data['label'].value_counts() # 라벨 개수 확인"
   ]
  },
  {
   "cell_type": "code",
   "execution_count": 4,
   "metadata": {},
   "outputs": [
    {
     "data": {
      "text/plain": [
       "(11823, 3)"
      ]
     },
     "execution_count": 4,
     "metadata": {},
     "output_type": "execute_result"
    }
   ],
   "source": [
    "data.shape # shape 확인"
   ]
  },
  {
   "cell_type": "code",
   "execution_count": 5,
   "metadata": {},
   "outputs": [
    {
     "data": {
      "text/plain": [
       "Q        0\n",
       "A        0\n",
       "label    0\n",
       "dtype: int64"
      ]
     },
     "execution_count": 5,
     "metadata": {},
     "output_type": "execute_result"
    }
   ],
   "source": [
    "data.isna().sum() # 결측치 확인. 없음"
   ]
  },
  {
   "cell_type": "markdown",
   "metadata": {},
   "source": [
    "## Step 2. 데이터 전처리하기"
   ]
  },
  {
   "cell_type": "code",
   "execution_count": 6,
   "metadata": {},
   "outputs": [],
   "source": [
    "def preprocess_sentence(sentence):\n",
    "    # 단어와 온점 사이 거리 만들기\n",
    "    sentence = re.sub(r\"([?.!,])\", r\" \\1 \", sentence)\n",
    "    sentence = re.sub(r'[\" \"]+', \" \", sentence)\n",
    "    sentence = sentence.strip()\n",
    "\n",
    "    return sentence"
   ]
  },
  {
   "cell_type": "code",
   "execution_count": 7,
   "metadata": {},
   "outputs": [],
   "source": [
    "questions = [] # quesions 준비\n",
    "for sentence in data['Q']:\n",
    "    questions.append(preprocess_sentence(sentence))"
   ]
  },
  {
   "cell_type": "code",
   "execution_count": 8,
   "metadata": {},
   "outputs": [],
   "source": [
    "answers = [] # answers 준비\n",
    "for sentence in data['A']:\n",
    "    answers.append(preprocess_sentence(sentence))"
   ]
  },
  {
   "cell_type": "code",
   "execution_count": 9,
   "metadata": {},
   "outputs": [
    {
     "name": "stdout",
     "output_type": "stream",
     "text": [
      "questions, answers: 11823, 11823\n",
      "question: 12시 땡 !\n",
      "answer: 하루가 또 가네요 .\n"
     ]
    }
   ],
   "source": [
    "print(f'questions, answers: {len(questions)}, {len(answers)}')\n",
    "print(f'question: {questions[0]}\\nanswer: {answers[0]}')"
   ]
  },
  {
   "cell_type": "markdown",
   "metadata": {},
   "source": [
    "## Step 3. SubwordTextEncoder 사용하기\n",
    "이번 프로젝트에서는 형태소 분석기가 아닌 내부 단어 토크나이저인 SubwordTextEncoder를 사용한다."
   ]
  },
  {
   "cell_type": "code",
   "execution_count": 10,
   "metadata": {},
   "outputs": [
    {
     "name": "stderr",
     "output_type": "stream",
     "text": [
      "c:\\ProgramData\\Anaconda3\\envs\\tf\\lib\\site-packages\\tqdm\\auto.py:21: TqdmWarning: IProgress not found. Please update jupyter and ipywidgets. See https://ipywidgets.readthedocs.io/en/stable/user_install.html\n",
      "  from .autonotebook import tqdm as notebook_tqdm\n"
     ]
    }
   ],
   "source": [
    "import tensorflow_datasets as tfds\n",
    "\n",
    "# 단어 집합 생성\n",
    "tokenizer = tfds.deprecated.text.SubwordTextEncoder.build_from_corpus(questions + answers,\n",
    "                                                                      target_vocab_size=2**13)"
   ]
  },
  {
   "cell_type": "code",
   "execution_count": 11,
   "metadata": {},
   "outputs": [
    {
     "name": "stdout",
     "output_type": "stream",
     "text": [
      "시작: [8173], 끝: [8174], 단어 집합 크기: 8175\n"
     ]
    }
   ],
   "source": [
    "# 시작 토큰과 종료 토큰에 정수 부여\n",
    "START_TOKEN, END_TOKEN = [tokenizer.vocab_size], [tokenizer.vocab_size + 1]\n",
    "\n",
    "# 단어 집합 크기 +2\n",
    "VOCAB_SIZE = tokenizer.vocab_size + 2\n",
    "print(f'시작: {START_TOKEN}, 끝: {END_TOKEN}, 단어 집합 크기: {VOCAB_SIZE}')"
   ]
  },
  {
   "cell_type": "code",
   "execution_count": 12,
   "metadata": {},
   "outputs": [
    {
     "name": "stdout",
     "output_type": "stream",
     "text": [
      "encode: [5777, 483, 195, 2980, 45, 3815]\n",
      "decode: SNS보면 나만 빼고 다 행복해보여\n"
     ]
    }
   ],
   "source": [
    "# 임의 선택한 10번 샘플로 encode/decode 진행\n",
    "sample_str = questions[10]\n",
    "\n",
    "# encode\n",
    "tokenized_str = tokenizer.encode(sample_str)\n",
    "print(f'encode: {tokenized_str}')\n",
    "\n",
    "# decode\n",
    "original_str = tokenizer.decode(tokenized_str)\n",
    "print(f'decode: {original_str}')\n",
    "\n",
    "# 6개 정수, 5개 어절"
   ]
  },
  {
   "cell_type": "code",
   "execution_count": 13,
   "metadata": {},
   "outputs": [
    {
     "name": "stdout",
     "output_type": "stream",
     "text": [
      "5777 -> SNS\n",
      "483 -> 보면 \n",
      "195 -> 나만 \n",
      "2980 -> 빼고 \n",
      "45 -> 다 \n",
      "3815 -> 행복해보여\n"
     ]
    }
   ],
   "source": [
    "# mapping 확인\n",
    "for ts in tokenized_str:\n",
    "    print(f'{ts} -> {tokenizer.decode([ts])}')"
   ]
  },
  {
   "cell_type": "code",
   "execution_count": 14,
   "metadata": {},
   "outputs": [
    {
     "name": "stdout",
     "output_type": "stream",
     "text": [
      "min question: 1\n",
      "max question: 15\n",
      "question mean: 3.587414361837097\n",
      "min answer: 1\n",
      "max answer: 21\n",
      "answer mean: 3.6936479742874058\n"
     ]
    },
    {
     "data": {
      "image/png": "[encoded data removed]",
      "text/plain": [
       "<Figure size 640x480 with 2 Axes>"
      ]
     },
     "metadata": {},
     "output_type": "display_data"
    }
   ],
   "source": [
    "# max length 결정\n",
    "question_len = [len(s.split()) for s in data['Q']]\n",
    "answer_len = [len(s.split()) for s in data['A']]\n",
    "\n",
    "print(f'min question: {np.min(question_len)}')\n",
    "print(f'max question: {np.max(question_len)}')\n",
    "print(f'question mean: {np.mean(question_len)}')\n",
    "print(f'min answer: {np.min(answer_len)}')\n",
    "print(f'max answer: {np.max(answer_len)}')\n",
    "print(f'answer mean: {np.mean(answer_len)}')\n",
    "\n",
    "plt.subplot(1,2,1)\n",
    "plt.title('Question')\n",
    "plt.hist(question_len, bins=40)\n",
    "plt.subplot(1,2,2)\n",
    "plt.title('Answer')\n",
    "plt.hist(answer_len, bins=40)\n",
    "plt.show()"
   ]
  },
  {
   "cell_type": "code",
   "execution_count": 15,
   "metadata": {},
   "outputs": [
    {
     "name": "stdout",
     "output_type": "stream",
     "text": [
      "전체 샘플 중 길이가 10 이하인 샘플 비율: 0.9984775437706166\n",
      "전체 샘플 중 길이가 10 이하인 샘플 비율: 0.9934872705743043\n"
     ]
    }
   ],
   "source": [
    "max_len = 10\n",
    "\n",
    "def below_threshold_len(max_len, nested_list):\n",
    "    cnt = 0\n",
    "    for s in nested_list:\n",
    "        if(len(s.split()) <= max_len):\n",
    "            cnt = cnt + 1\n",
    "\n",
    "    print(f'전체 샘플 중 길이가 {max_len} 이하인 샘플 비율: {cnt/len(nested_list)}')\n",
    "\n",
    "below_threshold_len(max_len, data['Q'])\n",
    "below_threshold_len(max_len, data['A'])"
   ]
  },
  {
   "cell_type": "code",
   "execution_count": 16,
   "metadata": {},
   "outputs": [],
   "source": [
    "def tokenize_and_filter(inputs, outputs):\n",
    "  tokenized_inputs, tokenized_outputs = [], []\n",
    "  \n",
    "  for (sentence1, sentence2) in zip(inputs, outputs):\n",
    "    # 시작 토큰, 종료 토큰을 추가\n",
    "    sentence1 = START_TOKEN + tokenizer.encode(sentence1) + END_TOKEN\n",
    "    sentence2 = START_TOKEN + tokenizer.encode(sentence2) + END_TOKEN\n",
    "\n",
    "    # 최대 길이 이하인 데이터만 허용\n",
    "    if len(sentence1) <= max_len and len(sentence2) <= max_len:\n",
    "      tokenized_inputs.append(sentence1)\n",
    "      tokenized_outputs.append(sentence2)\n",
    "  \n",
    "  # padding\n",
    "  tokenized_inputs = tf.keras.preprocessing.sequence.pad_sequences(\n",
    "      tokenized_inputs, maxlen=max_len, padding='post')\n",
    "  tokenized_outputs = tf.keras.preprocessing.sequence.pad_sequences(\n",
    "      tokenized_outputs, maxlen=max_len, padding='post')\n",
    "  \n",
    "  return tokenized_inputs, tokenized_outputs"
   ]
  },
  {
   "cell_type": "code",
   "execution_count": 17,
   "metadata": {},
   "outputs": [
    {
     "name": "stdout",
     "output_type": "stream",
     "text": [
      "vocab size: 8175\n",
      "questions: 9098\n",
      "answers: 9098\n"
     ]
    }
   ],
   "source": [
    "questions, answers = tokenize_and_filter(questions, answers)\n",
    "print(f'vocab size: {VOCAB_SIZE}')\n",
    "print(f'questions: {len(questions)}')\n",
    "print(f'answers: {len(answers)}')"
   ]
  },
  {
   "cell_type": "code",
   "execution_count": 18,
   "metadata": {},
   "outputs": [],
   "source": [
    "# Teacher forcing\n",
    "BATCH_SIZE = 64\n",
    "BUFFER_SIZE = 20000\n",
    "\n",
    "dataset = tf.data.Dataset.from_tensor_slices((\n",
    "    {\n",
    "        'inputs': questions,\n",
    "        'dec_inputs': answers[:, :-1] # decoder input, 마지막 패딩 토큰 제거\n",
    "    },\n",
    "    {\n",
    "        'outputs': answers[:, 1:] # 시작 토큰 제거\n",
    "    }\n",
    "))\n",
    "\n",
    "dataset = dataset.cache()\n",
    "dataset = dataset.shuffle(BUFFER_SIZE)\n",
    "dataset = dataset.batch(BATCH_SIZE)\n",
    "dataset = dataset.prefetch(tf.data.experimental.AUTOTUNE)"
   ]
  },
  {
   "cell_type": "markdown",
   "metadata": {},
   "source": [
    "## Step 4. 모델 구성하기"
   ]
  },
  {
   "cell_type": "code",
   "execution_count": 19,
   "metadata": {},
   "outputs": [],
   "source": [
    "# positional encoding layer\n",
    "class PositionalEncoding(tf.keras.layers.Layer):\n",
    "\n",
    "  def __init__(self, position, d_model):\n",
    "    super(PositionalEncoding, self).__init__()\n",
    "    self.pos_encoding = self.positional_encoding(position, d_model)\n",
    "\n",
    "  def get_angles(self, position, i, d_model):\n",
    "    angles = 1 / tf.pow(10000, (2 * (i // 2)) / tf.cast(d_model, tf.float32))\n",
    "    return position * angles\n",
    "\n",
    "  def positional_encoding(self, position, d_model):\n",
    "    # 각도 배열 생성\n",
    "    angle_rads = self.get_angles(\n",
    "        position=tf.range(position, dtype=tf.float32)[:, tf.newaxis],\n",
    "        i=tf.range(d_model, dtype=tf.float32)[tf.newaxis, :],\n",
    "        d_model=d_model)\n",
    "\n",
    "    # 배열의 짝수 인덱스에는 sin 함수 적용\n",
    "    sines = tf.math.sin(angle_rads[:, 0::2])\n",
    "    # 배열의 홀수 인덱스에는 cosine 함수 적용\n",
    "    cosines = tf.math.cos(angle_rads[:, 1::2])\n",
    "\n",
    "    # sin과 cosine이 교차되도록 재배열\n",
    "    pos_encoding = tf.stack([sines, cosines], axis=0)\n",
    "    pos_encoding = tf.transpose(pos_encoding,[1, 2, 0]) \n",
    "    pos_encoding = tf.reshape(pos_encoding, [position, d_model])\n",
    "\n",
    "    pos_encoding = pos_encoding[tf.newaxis, ...]\n",
    "    return tf.cast(pos_encoding, tf.float32)\n",
    "\n",
    "  def call(self, inputs):\n",
    "    return inputs + self.pos_encoding[:, :tf.shape(inputs)[1], :]"
   ]
  },
  {
   "cell_type": "code",
   "execution_count": 20,
   "metadata": {},
   "outputs": [],
   "source": [
    "# scaled dot product attention\n",
    "def scaled_dot_product_attention(query, key, value, mask):\n",
    "  # 어텐션 가중치는 Q와 K의 닷 프로덕트\n",
    "  matmul_qk = tf.matmul(query, key, transpose_b=True)\n",
    "\n",
    "  # 가중치를 정규화\n",
    "  depth = tf.cast(tf.shape(key)[-1], tf.float32)\n",
    "  logits = matmul_qk / tf.math.sqrt(depth)\n",
    "\n",
    "  # 패딩에 마스크 추가\n",
    "  if mask is not None:\n",
    "    logits += (mask * -1e9)\n",
    "\n",
    "  # softmax적용\n",
    "  attention_weights = tf.nn.softmax(logits, axis=-1)\n",
    "\n",
    "  # 최종 어텐션은 가중치와 V의 닷 프로덕트\n",
    "  output = tf.matmul(attention_weights, value)\n",
    "  return output"
   ]
  },
  {
   "cell_type": "code",
   "execution_count": 21,
   "metadata": {},
   "outputs": [],
   "source": [
    "# multi head attention\n",
    "class MultiHeadAttention(tf.keras.layers.Layer):\n",
    "\n",
    "  def __init__(self, d_model, num_heads, name=\"multi_head_attention\"):\n",
    "    super(MultiHeadAttention, self).__init__(name=name)\n",
    "    self.num_heads = num_heads\n",
    "    self.d_model = d_model\n",
    "\n",
    "    assert d_model % self.num_heads == 0\n",
    "\n",
    "    self.depth = d_model // self.num_heads\n",
    "\n",
    "    self.query_dense = tf.keras.layers.Dense(units=d_model)\n",
    "    self.key_dense = tf.keras.layers.Dense(units=d_model)\n",
    "    self.value_dense = tf.keras.layers.Dense(units=d_model)\n",
    "\n",
    "    self.dense = tf.keras.layers.Dense(units=d_model)\n",
    "\n",
    "  def split_heads(self, inputs, batch_size):\n",
    "    inputs = tf.reshape(\n",
    "        inputs, shape=(batch_size, -1, self.num_heads, self.depth))\n",
    "    return tf.transpose(inputs, perm=[0, 2, 1, 3])\n",
    "\n",
    "  def call(self, inputs):\n",
    "    query, key, value, mask = inputs['query'], inputs['key'], inputs[\n",
    "        'value'], inputs['mask']\n",
    "    batch_size = tf.shape(query)[0]\n",
    "\n",
    "    # Q, K, V에 각각 Dense를 적용합니다\n",
    "    query = self.query_dense(query)\n",
    "    key = self.key_dense(key)\n",
    "    value = self.value_dense(value)\n",
    "\n",
    "    # 병렬 연산을 위한 머리를 여러 개 만듭니다\n",
    "    query = self.split_heads(query, batch_size)\n",
    "    key = self.split_heads(key, batch_size)\n",
    "    value = self.split_heads(value, batch_size)\n",
    "\n",
    "    # 스케일드 닷 프로덕트 어텐션 함수\n",
    "    scaled_attention = scaled_dot_product_attention(query, key, value, mask)\n",
    "\n",
    "    scaled_attention = tf.transpose(scaled_attention, perm=[0, 2, 1, 3])\n",
    "\n",
    "    # 어텐션 연산 후에 각 결과를 다시 연결(concatenate)합니다\n",
    "    concat_attention = tf.reshape(scaled_attention,\n",
    "                                  (batch_size, -1, self.d_model))\n",
    "\n",
    "    # 최종 결과에도 Dense를 한 번 더 적용합니다\n",
    "    outputs = self.dense(concat_attention)\n",
    "\n",
    "    return outputs"
   ]
  },
  {
   "cell_type": "code",
   "execution_count": 22,
   "metadata": {},
   "outputs": [],
   "source": [
    "# padding masking\n",
    "def create_padding_mask(x):\n",
    "  mask = tf.cast(tf.math.equal(x, 0), tf.float32)\n",
    "  # (batch_size, 1, 1, sequence length)\n",
    "  return mask[:, tf.newaxis, tf.newaxis, :]\n",
    "\n",
    "# look ahead masking\n",
    "def create_look_ahead_mask(x):\n",
    "  seq_len = tf.shape(x)[1]\n",
    "  look_ahead_mask = 1 - tf.linalg.band_part(tf.ones((seq_len, seq_len)), -1, 0)\n",
    "  padding_mask = create_padding_mask(x)\n",
    "  return tf.maximum(look_ahead_mask, padding_mask)"
   ]
  },
  {
   "cell_type": "code",
   "execution_count": 23,
   "metadata": {},
   "outputs": [],
   "source": [
    "# encoding layer\n",
    "def encoder_layer(units, d_model, num_heads, dropout, name=\"encoder_layer\"):\n",
    "  inputs = tf.keras.Input(shape=(None, d_model), name=\"inputs\")\n",
    "\n",
    "  # 패딩 마스크 사용\n",
    "  padding_mask = tf.keras.Input(shape=(1, 1, None), name=\"padding_mask\")\n",
    "\n",
    "  # 첫 번째 서브 레이어 : 멀티 헤드 어텐션 수행 (셀프 어텐션)\n",
    "  attention = MultiHeadAttention(\n",
    "      d_model, num_heads, name=\"attention\")({\n",
    "          'query': inputs,\n",
    "          'key': inputs,\n",
    "          'value': inputs,\n",
    "          'mask': padding_mask\n",
    "      })\n",
    "\n",
    "  # 어텐션의 결과는 Dropout과 Layer Normalization이라는 훈련을 돕는 테크닉을 수행\n",
    "  attention = tf.keras.layers.Dropout(rate=dropout)(attention)\n",
    "  attention = tf.keras.layers.LayerNormalization(\n",
    "      epsilon=1e-6)(inputs + attention)\n",
    "\n",
    "  # 두 번째 서브 레이어 : 2개의 완전연결층\n",
    "  outputs = tf.keras.layers.Dense(units=units, activation='relu')(attention)\n",
    "  outputs = tf.keras.layers.Dense(units=d_model)(outputs)\n",
    "\n",
    "  # 완전연결층의 결과는 Dropout과 LayerNormalization이라는 훈련을 돕는 테크닉을 수행\n",
    "  outputs = tf.keras.layers.Dropout(rate=dropout)(outputs)\n",
    "  outputs = tf.keras.layers.LayerNormalization(\n",
    "      epsilon=1e-6)(attention + outputs)\n",
    "\n",
    "  return tf.keras.Model(\n",
    "      inputs=[inputs, padding_mask], outputs=outputs, name=name)\n",
    "\n",
    "\n",
    "# encoder\n",
    "def encoder(vocab_size,\n",
    "            num_layers,\n",
    "            units,\n",
    "            d_model,\n",
    "            num_heads,\n",
    "            dropout,\n",
    "            name=\"encoder\"):\n",
    "  inputs = tf.keras.Input(shape=(None,), name=\"inputs\")\n",
    "\n",
    "  # 패딩 마스크 사용\n",
    "  padding_mask = tf.keras.Input(shape=(1, 1, None), name=\"padding_mask\")\n",
    "\n",
    "  # 임베딩 레이어\n",
    "  embeddings = tf.keras.layers.Embedding(vocab_size, d_model)(inputs)\n",
    "  embeddings *= tf.math.sqrt(tf.cast(d_model, tf.float32))\n",
    "\n",
    "  # 포지셔널 인코딩\n",
    "  embeddings = PositionalEncoding(vocab_size, d_model)(embeddings)\n",
    "\n",
    "  outputs = tf.keras.layers.Dropout(rate=dropout)(embeddings)\n",
    "\n",
    "  # num_layers만큼 쌓아올린 인코더의 층.\n",
    "  for i in range(num_layers):\n",
    "    outputs = encoder_layer(\n",
    "        units=units,\n",
    "        d_model=d_model,\n",
    "        num_heads=num_heads,\n",
    "        dropout=dropout,\n",
    "        name=\"encoder_layer_{}\".format(i),\n",
    "    )([outputs, padding_mask])\n",
    "\n",
    "  return tf.keras.Model(\n",
    "      inputs=[inputs, padding_mask], outputs=outputs, name=name)"
   ]
  },
  {
   "cell_type": "code",
   "execution_count": 24,
   "metadata": {},
   "outputs": [],
   "source": [
    "# decoding layer\n",
    "def decoder_layer(units, d_model, num_heads, dropout, name=\"decoder_layer\"):\n",
    "  inputs = tf.keras.Input(shape=(None, d_model), name=\"inputs\")\n",
    "  enc_outputs = tf.keras.Input(shape=(None, d_model), name=\"encoder_outputs\")\n",
    "  look_ahead_mask = tf.keras.Input(\n",
    "      shape=(1, None, None), name=\"look_ahead_mask\")\n",
    "  padding_mask = tf.keras.Input(shape=(1, 1, None), name='padding_mask')\n",
    "\n",
    "  # 첫 번째 서브 레이어 : 멀티 헤드 어텐션 수행 (셀프 어텐션)\n",
    "  attention1 = MultiHeadAttention(\n",
    "      d_model, num_heads, name=\"attention_1\")(inputs={\n",
    "          'query': inputs,\n",
    "          'key': inputs,\n",
    "          'value': inputs,\n",
    "          'mask': look_ahead_mask\n",
    "      })\n",
    "\n",
    "  # 멀티 헤드 어텐션의 결과는 LayerNormalization이라는 훈련을 돕는 테크닉을 수행\n",
    "  attention1 = tf.keras.layers.LayerNormalization(\n",
    "      epsilon=1e-6)(attention1 + inputs)\n",
    "\n",
    "  # 두 번째 서브 레이어 : 마스크드 멀티 헤드 어텐션 수행 (인코더-디코더 어텐션)\n",
    "  attention2 = MultiHeadAttention(\n",
    "      d_model, num_heads, name=\"attention_2\")(inputs={\n",
    "          'query': attention1,\n",
    "          'key': enc_outputs,\n",
    "          'value': enc_outputs,\n",
    "          'mask': padding_mask\n",
    "      })\n",
    "\n",
    "  # 마스크드 멀티 헤드 어텐션의 결과는\n",
    "  # Dropout과 LayerNormalization이라는 훈련을 돕는 테크닉을 수행\n",
    "  attention2 = tf.keras.layers.Dropout(rate=dropout)(attention2)\n",
    "  attention2 = tf.keras.layers.LayerNormalization(\n",
    "      epsilon=1e-6)(attention2 + attention1)\n",
    "\n",
    "  # 세 번째 서브 레이어 : 2개의 완전연결층\n",
    "  outputs = tf.keras.layers.Dense(units=units, activation='relu')(attention2)\n",
    "  outputs = tf.keras.layers.Dense(units=d_model)(outputs)\n",
    "\n",
    "  # 완전연결층의 결과는 Dropout과 LayerNormalization 수행\n",
    "  outputs = tf.keras.layers.Dropout(rate=dropout)(outputs)\n",
    "  outputs = tf.keras.layers.LayerNormalization(\n",
    "      epsilon=1e-6)(outputs + attention2)\n",
    "\n",
    "  return tf.keras.Model(\n",
    "      inputs=[inputs, enc_outputs, look_ahead_mask, padding_mask],\n",
    "      outputs=outputs,\n",
    "      name=name)\n",
    "\n",
    "\n",
    "#decoder\n",
    "def decoder(vocab_size,\n",
    "            num_layers,\n",
    "            units,\n",
    "            d_model,\n",
    "            num_heads,\n",
    "            dropout,\n",
    "            name='decoder'):\n",
    "  inputs = tf.keras.Input(shape=(None,), name='inputs')\n",
    "  enc_outputs = tf.keras.Input(shape=(None, d_model), name='encoder_outputs')\n",
    "  look_ahead_mask = tf.keras.Input(\n",
    "      shape=(1, None, None), name='look_ahead_mask')\n",
    "\n",
    "  # 패딩 마스크\n",
    "  padding_mask = tf.keras.Input(shape=(1, 1, None), name='padding_mask')\n",
    "  \n",
    "  # 임베딩 레이어\n",
    "  embeddings = tf.keras.layers.Embedding(vocab_size, d_model)(inputs)\n",
    "  embeddings *= tf.math.sqrt(tf.cast(d_model, tf.float32))\n",
    "\n",
    "  # 포지셔널 인코딩\n",
    "  embeddings = PositionalEncoding(vocab_size, d_model)(embeddings)\n",
    "\n",
    "  # Dropout이라는 훈련을 돕는 테크닉을 수행\n",
    "  outputs = tf.keras.layers.Dropout(rate=dropout)(embeddings)\n",
    "\n",
    "  for i in range(num_layers):\n",
    "    outputs = decoder_layer(\n",
    "        units=units,\n",
    "        d_model=d_model,\n",
    "        num_heads=num_heads,\n",
    "        dropout=dropout,\n",
    "        name='decoder_layer_{}'.format(i),\n",
    "    )(inputs=[outputs, enc_outputs, look_ahead_mask, padding_mask])\n",
    "\n",
    "  return tf.keras.Model(\n",
    "      inputs=[inputs, enc_outputs, look_ahead_mask, padding_mask],\n",
    "      outputs=outputs,\n",
    "      name=name)"
   ]
  },
  {
   "cell_type": "code",
   "execution_count": 25,
   "metadata": {},
   "outputs": [],
   "source": [
    "# transformer\n",
    "def transformer(vocab_size,\n",
    "                num_layers,\n",
    "                units,\n",
    "                d_model,\n",
    "                num_heads,\n",
    "                dropout,\n",
    "                name=\"transformer\"):\n",
    "  inputs = tf.keras.Input(shape=(None,), name=\"inputs\")\n",
    "  dec_inputs = tf.keras.Input(shape=(None,), name=\"dec_inputs\")\n",
    "\n",
    "  # 인코더에서 패딩을 위한 마스크\n",
    "  enc_padding_mask = tf.keras.layers.Lambda(\n",
    "      create_padding_mask, output_shape=(1, 1, None),\n",
    "      name='enc_padding_mask')(inputs)\n",
    "\n",
    "  # 디코더에서 미래의 토큰을 마스크 하기 위해서 사용합니다.\n",
    "  # 내부적으로 패딩 마스크도 포함되어져 있습니다.\n",
    "  look_ahead_mask = tf.keras.layers.Lambda(\n",
    "      create_look_ahead_mask,\n",
    "      output_shape=(1, None, None),\n",
    "      name='look_ahead_mask')(dec_inputs)\n",
    "\n",
    "  # 두 번째 어텐션 블록에서 인코더의 벡터들을 마스킹\n",
    "  # 디코더에서 패딩을 위한 마스크\n",
    "  dec_padding_mask = tf.keras.layers.Lambda(\n",
    "      create_padding_mask, output_shape=(1, 1, None),\n",
    "      name='dec_padding_mask')(inputs)\n",
    "\n",
    "  # 인코더\n",
    "  enc_outputs = encoder(\n",
    "      vocab_size=vocab_size,\n",
    "      num_layers=num_layers,\n",
    "      units=units,\n",
    "      d_model=d_model,\n",
    "      num_heads=num_heads,\n",
    "      dropout=dropout,\n",
    "  )(inputs=[inputs, enc_padding_mask])\n",
    "\n",
    "  # 디코더\n",
    "  dec_outputs = decoder(\n",
    "      vocab_size=vocab_size,\n",
    "      num_layers=num_layers,\n",
    "      units=units,\n",
    "      d_model=d_model,\n",
    "      num_heads=num_heads,\n",
    "      dropout=dropout,\n",
    "  )(inputs=[dec_inputs, enc_outputs, look_ahead_mask, dec_padding_mask])\n",
    "\n",
    "  # 완전연결층\n",
    "  outputs = tf.keras.layers.Dense(units=vocab_size, name=\"outputs\")(dec_outputs)\n",
    "\n",
    "  return tf.keras.Model(inputs=[inputs, dec_inputs], outputs=outputs, name=name)"
   ]
  },
  {
   "cell_type": "code",
   "execution_count": 26,
   "metadata": {},
   "outputs": [
    {
     "name": "stdout",
     "output_type": "stream",
     "text": [
      "Model: \"transformer\"\n",
      "__________________________________________________________________________________________________\n",
      " Layer (type)                   Output Shape         Param #     Connected to                     \n",
      "==================================================================================================\n",
      " inputs (InputLayer)            [(None, None)]       0           []                               \n",
      "                                                                                                  \n",
      " dec_inputs (InputLayer)        [(None, None)]       0           []                               \n",
      "                                                                                                  \n",
      " enc_padding_mask (Lambda)      (None, 1, 1, None)   0           ['inputs[0][0]']                 \n",
      "                                                                                                  \n",
      " encoder (Functional)           (None, None, 256)    3147008     ['inputs[0][0]',                 \n",
      "                                                                  'enc_padding_mask[0][0]']       \n",
      "                                                                                                  \n",
      " look_ahead_mask (Lambda)       (None, 1, None, Non  0           ['dec_inputs[0][0]']             \n",
      "                                e)                                                                \n",
      "                                                                                                  \n",
      " dec_padding_mask (Lambda)      (None, 1, 1, None)   0           ['inputs[0][0]']                 \n",
      "                                                                                                  \n",
      " decoder (Functional)           (None, None, 256)    3674368     ['dec_inputs[0][0]',             \n",
      "                                                                  'encoder[0][0]',                \n",
      "                                                                  'look_ahead_mask[0][0]',        \n",
      "                                                                  'dec_padding_mask[0][0]']       \n",
      "                                                                                                  \n",
      " outputs (Dense)                (None, None, 8175)   2100975     ['decoder[0][0]']                \n",
      "                                                                                                  \n",
      "==================================================================================================\n",
      "Total params: 8,922,351\n",
      "Trainable params: 8,922,351\n",
      "Non-trainable params: 0\n",
      "__________________________________________________________________________________________________\n"
     ]
    }
   ],
   "source": [
    "tf.keras.backend.clear_session()\n",
    "\n",
    "# 하이퍼파라미터\n",
    "NUM_LAYERS = 2 # 인코더와 디코더의 층의 개수\n",
    "D_MODEL = 256 # 인코더와 디코더 내부의 입, 출력의 고정 차원\n",
    "NUM_HEADS = 8 # 멀티 헤드 어텐션에서의 헤드 수 \n",
    "UNITS = 512 # 피드 포워드 신경망의 은닉층의 크기\n",
    "DROPOUT = 0.1 # 드롭아웃의 비율\n",
    "\n",
    "model = transformer(\n",
    "    vocab_size=VOCAB_SIZE,\n",
    "    num_layers=NUM_LAYERS,\n",
    "    units=UNITS,\n",
    "    d_model=D_MODEL,\n",
    "    num_heads=NUM_HEADS,\n",
    "    dropout=DROPOUT)\n",
    "\n",
    "model.summary()"
   ]
  },
  {
   "cell_type": "code",
   "execution_count": 27,
   "metadata": {},
   "outputs": [],
   "source": [
    "# 손실함수\n",
    "def loss_function(y_true, y_pred):\n",
    "  y_true = tf.reshape(y_true, shape=(-1, max_len - 1))\n",
    "  \n",
    "  loss = tf.keras.losses.SparseCategoricalCrossentropy(\n",
    "      from_logits=True, reduction='none')(y_true, y_pred)\n",
    "\n",
    "  mask = tf.cast(tf.not_equal(y_true, 0), tf.float32)\n",
    "  loss = tf.multiply(loss, mask)\n",
    "\n",
    "  return tf.reduce_mean(loss)"
   ]
  },
  {
   "cell_type": "code",
   "execution_count": 28,
   "metadata": {},
   "outputs": [],
   "source": [
    "# custom learning rate\n",
    "class CustomSchedule(tf.keras.optimizers.schedules.LearningRateSchedule):\n",
    "\n",
    "  def __init__(self, d_model, warmup_steps=4000):\n",
    "    super(CustomSchedule, self).__init__()\n",
    "\n",
    "    self.d_model = d_model\n",
    "    self.d_model = tf.cast(self.d_model, tf.float32)\n",
    "\n",
    "    self.warmup_steps = warmup_steps\n",
    "\n",
    "  def __call__(self, step): \n",
    "    arg1 = tf.math.rsqrt(step)\n",
    "    arg2 = step * (self.warmup_steps**-1.5)\n",
    "\n",
    "    return tf.math.rsqrt(self.d_model) * tf.math.minimum(arg1, arg2)"
   ]
  },
  {
   "cell_type": "code",
   "execution_count": 29,
   "metadata": {},
   "outputs": [
    {
     "data": {
      "text/plain": [
       "Text(0.5, 0, 'Train Step')"
      ]
     },
     "execution_count": 29,
     "metadata": {},
     "output_type": "execute_result"
    },
    {
     "data": {
      "image/png": "[encoded data removed]",
      "text/plain": [
       "<Figure size 640x480 with 1 Axes>"
      ]
     },
     "metadata": {},
     "output_type": "display_data"
    }
   ],
   "source": [
    "sample_learning_rate = CustomSchedule(d_model=128)\n",
    "\n",
    "plt.plot(sample_learning_rate(tf.range(200000, dtype=tf.float32)))\n",
    "plt.ylabel(\"Learning Rate\")\n",
    "plt.xlabel(\"Train Step\")"
   ]
  },
  {
   "cell_type": "code",
   "execution_count": 30,
   "metadata": {},
   "outputs": [],
   "source": [
    "learning_rate = CustomSchedule(D_MODEL)\n",
    "\n",
    "optimizer = tf.keras.optimizers.Adam(learning_rate, \n",
    "                                     beta_1=0.9, \n",
    "                                     beta_2=0.98, \n",
    "                                     epsilon=1e-9)\n",
    "\n",
    "def accuracy(y_true, y_pred):\n",
    "  y_true = tf.reshape(y_true, shape=(-1, max_len - 1))\n",
    "  return tf.keras.metrics.sparse_categorical_accuracy(y_true, y_pred)\n",
    "\n",
    "model.compile(optimizer=optimizer, loss=loss_function, metrics=[accuracy])"
   ]
  },
  {
   "cell_type": "code",
   "execution_count": 32,
   "metadata": {},
   "outputs": [
    {
     "name": "stdout",
     "output_type": "stream",
     "text": [
      "Epoch 1/50\n",
      "143/143 [==============================] - 11s 38ms/step - loss: 5.6440 - accuracy: 0.0798\n",
      "Epoch 2/50\n",
      "143/143 [==============================] - 5s 38ms/step - loss: 4.7534 - accuracy: 0.2009\n",
      "Epoch 3/50\n",
      "143/143 [==============================] - 5s 37ms/step - loss: 3.9363 - accuracy: 0.2151\n",
      "Epoch 4/50\n",
      "143/143 [==============================] - 5s 37ms/step - loss: 3.5058 - accuracy: 0.2202\n",
      "Epoch 5/50\n",
      "143/143 [==============================] - 5s 37ms/step - loss: 3.2794 - accuracy: 0.2321\n",
      "Epoch 6/50\n",
      "143/143 [==============================] - 5s 37ms/step - loss: 3.0861 - accuracy: 0.2432\n",
      "Epoch 7/50\n",
      "143/143 [==============================] - 5s 37ms/step - loss: 2.8881 - accuracy: 0.2595\n",
      "Epoch 8/50\n",
      "143/143 [==============================] - 5s 37ms/step - loss: 2.6717 - accuracy: 0.2806\n",
      "Epoch 9/50\n",
      "143/143 [==============================] - 5s 37ms/step - loss: 2.4368 - accuracy: 0.3096\n",
      "Epoch 10/50\n",
      "143/143 [==============================] - 5s 37ms/step - loss: 2.1773 - accuracy: 0.3413\n",
      "Epoch 11/50\n",
      "143/143 [==============================] - 5s 37ms/step - loss: 1.9025 - accuracy: 0.3726\n",
      "Epoch 12/50\n",
      "143/143 [==============================] - 5s 37ms/step - loss: 1.6196 - accuracy: 0.4097\n",
      "Epoch 13/50\n",
      "143/143 [==============================] - 5s 37ms/step - loss: 1.3405 - accuracy: 0.4474\n",
      "Epoch 14/50\n",
      "143/143 [==============================] - 5s 37ms/step - loss: 1.0774 - accuracy: 0.4848\n",
      "Epoch 15/50\n",
      "143/143 [==============================] - 5s 37ms/step - loss: 0.8383 - accuracy: 0.5216\n",
      "Epoch 16/50\n",
      "143/143 [==============================] - 5s 37ms/step - loss: 0.6317 - accuracy: 0.5552\n",
      "Epoch 17/50\n",
      "143/143 [==============================] - 5s 37ms/step - loss: 0.4607 - accuracy: 0.5842\n",
      "Epoch 18/50\n",
      "143/143 [==============================] - 5s 37ms/step - loss: 0.3289 - accuracy: 0.6080\n",
      "Epoch 19/50\n",
      "143/143 [==============================] - 5s 37ms/step - loss: 0.2301 - accuracy: 0.6260\n",
      "Epoch 20/50\n",
      "143/143 [==============================] - 5s 38ms/step - loss: 0.1717 - accuracy: 0.6355\n",
      "Epoch 21/50\n",
      "143/143 [==============================] - 5s 37ms/step - loss: 0.1355 - accuracy: 0.6401\n",
      "Epoch 22/50\n",
      "143/143 [==============================] - 5s 37ms/step - loss: 0.1139 - accuracy: 0.6434\n",
      "Epoch 23/50\n",
      "143/143 [==============================] - 5s 37ms/step - loss: 0.1022 - accuracy: 0.6448\n",
      "Epoch 24/50\n",
      "143/143 [==============================] - 5s 37ms/step - loss: 0.0922 - accuracy: 0.6460\n",
      "Epoch 25/50\n",
      "143/143 [==============================] - 5s 37ms/step - loss: 0.0943 - accuracy: 0.6450\n",
      "Epoch 26/50\n",
      "143/143 [==============================] - 5s 37ms/step - loss: 0.0913 - accuracy: 0.6450\n",
      "Epoch 27/50\n",
      "143/143 [==============================] - 5s 37ms/step - loss: 0.0866 - accuracy: 0.6457\n",
      "Epoch 28/50\n",
      "143/143 [==============================] - 5s 37ms/step - loss: 0.0853 - accuracy: 0.6462\n",
      "Epoch 29/50\n",
      "143/143 [==============================] - 5s 37ms/step - loss: 0.0849 - accuracy: 0.6463\n",
      "Epoch 30/50\n",
      "143/143 [==============================] - 5s 37ms/step - loss: 0.0755 - accuracy: 0.6479\n",
      "Epoch 31/50\n",
      "143/143 [==============================] - 5s 37ms/step - loss: 0.0661 - accuracy: 0.6505\n",
      "Epoch 32/50\n",
      "143/143 [==============================] - 5s 37ms/step - loss: 0.0601 - accuracy: 0.6517\n",
      "Epoch 33/50\n",
      "143/143 [==============================] - 5s 37ms/step - loss: 0.0573 - accuracy: 0.6530\n",
      "Epoch 34/50\n",
      "143/143 [==============================] - 5s 37ms/step - loss: 0.0525 - accuracy: 0.6535\n",
      "Epoch 35/50\n",
      "143/143 [==============================] - 5s 37ms/step - loss: 0.0471 - accuracy: 0.6546\n",
      "Epoch 36/50\n",
      "143/143 [==============================] - 5s 37ms/step - loss: 0.0441 - accuracy: 0.6557\n",
      "Epoch 37/50\n",
      "143/143 [==============================] - 5s 37ms/step - loss: 0.0423 - accuracy: 0.6566\n",
      "Epoch 38/50\n",
      "143/143 [==============================] - 5s 37ms/step - loss: 0.0374 - accuracy: 0.6573\n",
      "Epoch 39/50\n",
      "143/143 [==============================] - 5s 37ms/step - loss: 0.0363 - accuracy: 0.6580\n",
      "Epoch 40/50\n",
      "143/143 [==============================] - 5s 37ms/step - loss: 0.0347 - accuracy: 0.6583\n",
      "Epoch 41/50\n",
      "143/143 [==============================] - 5s 37ms/step - loss: 0.0308 - accuracy: 0.6591\n",
      "Epoch 42/50\n",
      "143/143 [==============================] - 5s 37ms/step - loss: 0.0324 - accuracy: 0.6588\n",
      "Epoch 43/50\n",
      "143/143 [==============================] - 5s 37ms/step - loss: 0.0277 - accuracy: 0.6596\n",
      "Epoch 44/50\n",
      "143/143 [==============================] - 5s 37ms/step - loss: 0.0254 - accuracy: 0.6603\n",
      "Epoch 45/50\n",
      "143/143 [==============================] - 5s 37ms/step - loss: 0.0264 - accuracy: 0.6602\n",
      "Epoch 46/50\n",
      "143/143 [==============================] - 5s 37ms/step - loss: 0.0249 - accuracy: 0.6605\n",
      "Epoch 47/50\n",
      "143/143 [==============================] - 5s 37ms/step - loss: 0.0243 - accuracy: 0.6606\n",
      "Epoch 48/50\n",
      "143/143 [==============================] - 5s 37ms/step - loss: 0.0214 - accuracy: 0.6614\n",
      "Epoch 49/50\n",
      "143/143 [==============================] - 5s 37ms/step - loss: 0.0231 - accuracy: 0.6611\n",
      "Epoch 50/50\n",
      "143/143 [==============================] - 5s 37ms/step - loss: 0.0200 - accuracy: 0.6618\n"
     ]
    },
    {
     "data": {
      "text/plain": [
       "<keras.callbacks.History at 0x21a8b39d8b0>"
      ]
     },
     "execution_count": 32,
     "metadata": {},
     "output_type": "execute_result"
    }
   ],
   "source": [
    "EPOCHS = 50\n",
    "model.fit(dataset, epochs=EPOCHS, verbose=1)"
   ]
  },
  {
   "cell_type": "markdown",
   "metadata": {},
   "source": [
    "## Step 5. 모델 평가하기"
   ]
  },
  {
   "cell_type": "code",
   "execution_count": 33,
   "metadata": {},
   "outputs": [],
   "source": [
    "def decoder_inference(sentence):\n",
    "  sentence = preprocess_sentence(sentence)\n",
    "\n",
    "  # 입력된 문장을 정수 인코딩 후, 시작 토큰과 종료 토큰을 앞뒤로 추가.\n",
    "  # ex) Where have you been? → [[8331   86   30    5 1059    7 8332]]\n",
    "  sentence = tf.expand_dims(\n",
    "      START_TOKEN + tokenizer.encode(sentence) + END_TOKEN, axis=0)\n",
    "\n",
    "  # 디코더의 현재까지의 예측한 출력 시퀀스가 지속적으로 저장되는 변수.\n",
    "  # 처음에는 예측한 내용이 없음으로 시작 토큰만 별도 저장. ex) 8331\n",
    "  output_sequence = tf.expand_dims(START_TOKEN, 0)\n",
    "\n",
    "  # 디코더의 인퍼런스 단계\n",
    "  for i in range(max_len):\n",
    "    # 디코더는 최대 MAX_LENGTH의 길이만큼 다음 단어 예측을 반복합니다.\n",
    "    predictions = model(inputs=[sentence, output_sequence], training=False)\n",
    "    predictions = predictions[:, -1:, :]\n",
    "\n",
    "    # 현재 예측한 단어의 정수\n",
    "    predicted_id = tf.cast(tf.argmax(predictions, axis=-1), tf.int32)\n",
    "\n",
    "    # 만약 현재 예측한 단어가 종료 토큰이라면 for문을 종료\n",
    "    if tf.equal(predicted_id, END_TOKEN[0]):\n",
    "      break\n",
    "\n",
    "    # 예측한 단어들은 지속적으로 output_sequence에 추가됩니다.\n",
    "    # 이 output_sequence는 다시 디코더의 입력이 됩니다.\n",
    "    output_sequence = tf.concat([output_sequence, predicted_id], axis=-1)\n",
    "\n",
    "  return tf.squeeze(output_sequence, axis=0)"
   ]
  },
  {
   "cell_type": "code",
   "execution_count": 34,
   "metadata": {},
   "outputs": [],
   "source": [
    "def sentence_generation(sentence):\n",
    "  # 입력 문장에 대해서 디코더를 동작 시켜 예측된 정수 시퀀스를 리턴받습니다.\n",
    "  prediction = decoder_inference(sentence)\n",
    "\n",
    "  # 정수 시퀀스를 다시 텍스트 시퀀스로 변환합니다.\n",
    "  predicted_sentence = tokenizer.decode(\n",
    "      [i for i in prediction if i < tokenizer.vocab_size])\n",
    "\n",
    "  print('입력 : {}'.format(sentence))\n",
    "  print('출력 : {}'.format(predicted_sentence))\n",
    "\n",
    "  return predicted_sentence"
   ]
  },
  {
   "cell_type": "code",
   "execution_count": 35,
   "metadata": {},
   "outputs": [],
   "source": [
    "my_question = ['반가워', '오늘 너무 피곤해', '사랑해', '졸려', '약속 있어?', '오늘 뭐해?']"
   ]
  },
  {
   "cell_type": "markdown",
   "metadata": {},
   "source": [
    "### max_len = 10"
   ]
  },
  {
   "cell_type": "markdown",
   "metadata": {},
   "source": [
    "#### 10 epochs(accuracy 0.3394)"
   ]
  },
  {
   "cell_type": "code",
   "execution_count": 38,
   "metadata": {},
   "outputs": [
    {
     "name": "stdout",
     "output_type": "stream",
     "text": [
      "입력 : 반가워\n",
      "출력 : 저도 좀 더 공부해서 자신감을 가져보세요 .\n",
      "입력 : 오늘 너무 피곤해\n",
      "출력 : 그 사람도 그럴 때가 있어요 .\n",
      "입력 : 사랑해\n",
      "출력 : 다른 곳에 쓰려고 운을 세요 .\n",
      "입력 : 졸려\n",
      "출력 : 제가 있잖아요 .\n",
      "입력 : 약속 있어?\n",
      "출력 : 저도 좀 더 공부해서 자신감을 가져보세요 .\n",
      "입력 : 오늘 뭐해?\n",
      "출력 : 저도 좋아해요 .\n"
     ]
    }
   ],
   "source": [
    "for q in my_question:\n",
    "    sentence_generation(q)"
   ]
  },
  {
   "cell_type": "markdown",
   "metadata": {},
   "source": [
    "#### 30 epochs(accuracy 0.6484)"
   ]
  },
  {
   "cell_type": "code",
   "execution_count": 35,
   "metadata": {},
   "outputs": [
    {
     "name": "stdout",
     "output_type": "stream",
     "text": [
      "입력 : 반가워\n",
      "출력 : 반갑습니다 .\n",
      "입력 : 오늘 너무 피곤해\n",
      "출력 : 푹 쉬세요 .\n",
      "입력 : 사랑해\n",
      "출력 : 하늘 만큼 땅 만큼 사랑해요 .\n",
      "입력 : 졸려\n",
      "출력 : 낮잠을 잠깐 자도 괜찮아요 .\n",
      "입력 : 약속 있어?\n",
      "출력 : 재미있게 놀다 오세요 .\n",
      "입력 : 오늘 뭐해?\n",
      "출력 : 냉장고 파먹기 해보세요 .\n"
     ]
    }
   ],
   "source": [
    "for q in my_question:\n",
    "    sentence_generation(q)"
   ]
  },
  {
   "cell_type": "markdown",
   "metadata": {},
   "source": [
    "#### 50 epochs(accuracy 0.6620)"
   ]
  },
  {
   "cell_type": "code",
   "execution_count": 36,
   "metadata": {},
   "outputs": [
    {
     "name": "stdout",
     "output_type": "stream",
     "text": [
      "입력 : 반가워\n",
      "출력 : 저도 반가워요 .\n",
      "입력 : 오늘 너무 피곤해\n",
      "출력 : 푹 쉬세요 .\n",
      "입력 : 사랑해\n",
      "출력 : 하늘 만큼 땅 만큼 사랑해요 .\n",
      "입력 : 졸려\n",
      "출력 : 오늘 일찍 주무세요 .\n",
      "입력 : 약속 있어?\n",
      "출력 : 직접 물어보세요 .\n",
      "입력 : 오늘 뭐해?\n",
      "출력 : 실내 데이트요 .\n"
     ]
    }
   ],
   "source": [
    "for q in my_question:\n",
    "    sentence_generation(q)"
   ]
  },
  {
   "cell_type": "markdown",
   "metadata": {},
   "source": [
    "### 100 epochs(accuracy 0.6639)"
   ]
  },
  {
   "cell_type": "code",
   "execution_count": 35,
   "metadata": {},
   "outputs": [
    {
     "name": "stdout",
     "output_type": "stream",
     "text": [
      "입력 : 반가워\n",
      "출력 : 저도 반가워요 .\n",
      "입력 : 오늘 너무 피곤해\n",
      "출력 : 푹 쉬세요 .\n",
      "입력 : 사랑해\n",
      "출력 : 하늘 만큼 땅 만큼 사랑해요 .\n",
      "입력 : 졸려\n",
      "출력 : 오늘 일찍 주무세요 .\n",
      "입력 : 약속 있어?\n",
      "출력 : 네 말씀하세요 .\n",
      "입력 : 오늘 뭐해?\n",
      "출력 : 실내 데이트요 .\n"
     ]
    }
   ],
   "source": [
    "for q in my_question:\n",
    "    sentence_generation(q)"
   ]
  },
  {
   "cell_type": "markdown",
   "metadata": {},
   "source": [
    "### max len = 22(제거 안 함)"
   ]
  },
  {
   "cell_type": "markdown",
   "metadata": {},
   "source": [
    "#### 30 epochs(accuracy 0.3163)"
   ]
  },
  {
   "cell_type": "code",
   "execution_count": 35,
   "metadata": {},
   "outputs": [
    {
     "name": "stdout",
     "output_type": "stream",
     "text": [
      "입력 : 반가워\n",
      "출력 : 반갑습니다 .\n",
      "입력 : 오늘 너무 피곤해\n",
      "출력 : 좀 더 일찍 잠자리에 들어보세요 .\n",
      "입력 : 사랑해\n",
      "출력 : 하늘  만큼 땅 만큼 사랑해요 .\n",
      "입력 : 졸려\n",
      "출력 : 오늘 일찍 주무세요 .\n",
      "입력 : 약속 있어?\n",
      "출력 : 그럴 수 있어요 .\n",
      "입력 : 오늘 뭐해?\n",
      "출력 : 냉장고 파먹기 해보세요 .\n"
     ]
    }
   ],
   "source": [
    "for q in my_question:\n",
    "    sentence_generation(q)"
   ]
  },
  {
   "cell_type": "markdown",
   "metadata": {},
   "source": [
    "#### 50 epochs(accuracy 0.3212)"
   ]
  },
  {
   "cell_type": "code",
   "execution_count": 35,
   "metadata": {},
   "outputs": [
    {
     "name": "stdout",
     "output_type": "stream",
     "text": [
      "입력 : 반가워\n",
      "출력 : 반갑습니다 .\n",
      "입력 : 오늘 너무 피곤해\n",
      "출력 : 푹 쉬세요 .\n",
      "입력 : 사랑해\n",
      "출력 : 하늘 만큼 땅 만큼 사랑해요 .\n",
      "입력 : 졸려\n",
      "출력 : 오늘 일찍 주무세요 .\n",
      "입력 : 약속 있어?\n",
      "출력 : 마음에 따라 얼마든지 바뀔 수 있어요 .\n",
      "입력 : 오늘 뭐해?\n",
      "출력 : 냉장고 파먹기 해보세요 .\n"
     ]
    }
   ],
   "source": [
    "for q in my_question:\n",
    "    sentence_generation(q)"
   ]
  },
  {
   "cell_type": "markdown",
   "metadata": {},
   "source": [
    "### 100 epochs(accuracy 0.3226)"
   ]
  },
  {
   "cell_type": "code",
   "execution_count": 35,
   "metadata": {},
   "outputs": [
    {
     "name": "stdout",
     "output_type": "stream",
     "text": [
      "입력 : 반가워\n",
      "출력 : 저도 반가워요 .\n",
      "입력 : 오늘 너무 피곤해\n",
      "출력 : 푹 쉬세요 .\n",
      "입력 : 사랑해\n",
      "출력 : 상대방에게 전해보세요 .\n",
      "입력 : 졸려\n",
      "출력 : 오늘 일찍 주무세요 .\n",
      "입력 : 약속 있어?\n",
      "출력 : 그런 사람 만나세요 .\n",
      "입력 : 오늘 뭐해?\n",
      "출력 : 냉장고 파먹기 해보세요 .\n"
     ]
    }
   ],
   "source": [
    "for q in my_question:\n",
    "    sentence_generation(q)"
   ]
  },
  {
   "cell_type": "markdown",
   "metadata": {},
   "source": [
    "### max len = 7"
   ]
  },
  {
   "cell_type": "markdown",
   "metadata": {},
   "source": [
    "#### 30 epochs(accuracy 0.8042)"
   ]
  },
  {
   "cell_type": "code",
   "execution_count": 35,
   "metadata": {},
   "outputs": [
    {
     "name": "stdout",
     "output_type": "stream",
     "text": [
      "입력 : 반가워\n",
      "출력 : 저도 반가워요 .\n",
      "입력 : 오늘 너무 피곤해\n",
      "출력 : 푹 쉬세요 .\n",
      "입력 : 사랑해\n",
      "출력 : 달콤한 말이네요 .\n",
      "입력 : 졸려\n",
      "출력 : 오늘 일찍 주무세요 .\n",
      "입력 : 약속 있어?\n",
      "출력 : 재미있게 놀다 오세요 .\n",
      "입력 : 오늘 뭐해?\n",
      "출력 : 냉장고 파먹기 해보세요 .\n"
     ]
    }
   ],
   "source": [
    "for q in my_question:\n",
    "    sentence_generation(q)"
   ]
  },
  {
   "cell_type": "markdown",
   "metadata": {},
   "source": [
    "#### 50 epochs(accuracy 0.8144)"
   ]
  },
  {
   "cell_type": "code",
   "execution_count": 35,
   "metadata": {},
   "outputs": [
    {
     "name": "stdout",
     "output_type": "stream",
     "text": [
      "입력 : 반가워\n",
      "출력 : 저도 반가워요 .\n",
      "입력 : 오늘 너무 피곤해\n",
      "출력 : 푹 쉬세요 .\n",
      "입력 : 사랑해\n",
      "출력 : 상대방에게 전해보세요 .\n",
      "입력 : 졸려\n",
      "출력 : 오늘 일찍 주무세요 .\n",
      "입력 : 약속 있어?\n",
      "출력 : 재미있게 놀다 오세요 .\n",
      "입력 : 오늘 뭐해?\n",
      "출력 : 냉장고 파먹기 해보세요 .\n"
     ]
    }
   ],
   "source": [
    "for q in my_question:\n",
    "    sentence_generation(q)"
   ]
  },
  {
   "cell_type": "markdown",
   "metadata": {},
   "source": [
    "max_len=10, 50 epoch에서 결과가 가장 잘 나온 것 같아 더 많은 질문에 대해 테스트해보기로 했다."
   ]
  },
  {
   "cell_type": "code",
   "execution_count": 55,
   "metadata": {},
   "outputs": [
    {
     "name": "stdout",
     "output_type": "stream",
     "text": [
      "입력 : 반가워\n",
      "출력 : 저도 반가워요 .\n",
      "입력 : 노래 듣는 거 좋아하세요?\n",
      "출력 : 썸 탈 때 듣기 딱이죠 .\n",
      "입력 : 날씨 어때요?\n",
      "출력 : 날씨 어플에 물어보세요 .\n",
      "입력 : 어떤 사람을 좋아해요?\n",
      "출력 : 먼저 고백해 보세요 .\n",
      "입력 : 어떤 사람을 좋아해요\n",
      "출력 : 먼저 고백해 보세요 .\n",
      "입력 : 취미가 있나요?\n",
      "출력 : 사람마다 다를 것 같아요 .\n",
      "입력 : 밥 먹었어?\n",
      "출력 : 저는 배터리가 밥이예요 .\n",
      "입력 : 식사 하셨나요?\n",
      "출력 : 생각보다 힘든 일도 많을 것 같아요 .\n",
      "입력 : 더워\n",
      "출력 : 여름이네요 .\n",
      "입력 : 이름이 뭐야?\n",
      "출력 : 위로봇이요 .\n"
     ]
    }
   ],
   "source": [
    "my_questions = ['반가워', '노래 듣는 거 좋아하세요?', '날씨 어때요?', '어떤 사람을 좋아해요?','어떤 사람을 좋아해요','취미가 있나요?',\n",
    "                '밥 먹었어?', '식사 하셨나요?', '더워', '이름이 뭐야?']\n",
    "for i in my_questions:\n",
    "    sentence_generation(i)"
   ]
  },
  {
   "cell_type": "markdown",
   "metadata": {},
   "source": [
    "## 결론"
   ]
  },
  {
   "cell_type": "markdown",
   "metadata": {},
   "source": [
    "### 고찰"
   ]
  },
  {
   "cell_type": "markdown",
   "metadata": {},
   "source": [
    "> 입력 : 날씨 어때요?  \n",
    ">출력 : 날씨 어플에 물어보세요 .\n",
    "\n",
    ">입력 : 어떤 사람을 좋아해요?  \n",
    ">출력 : 먼저 고백해 보세요 .  \n",
    ">입력 : 어떤 사람을 좋아해요  \n",
    ">출력 : 먼저 고백해 보세요 ."
   ]
  },
  {
   "cell_type": "markdown",
   "metadata": {},
   "source": [
    "위의 두 부분을 봤을 때, 물음표를 붙인 것만으로는 질문이라고 받아들이지 않는 것 같다. 날씨의 관한 질문의 경우 물음표가 없어도 \"날씨 어때요\" 로 의문문의 뉘앙스지만 아래의 \"어떤 사람을 좋아해요\"는 물음표가 없을 경우 화자가 어떤 사람을 좋아한다고 말하는 것처럼 들린다. 따라서 훈련한 챗봇이 물음표보다는 어미의 형태로 의문문을 구별하는 것이라고 추정할 수 있겠다."
   ]
  },
  {
   "cell_type": "markdown",
   "metadata": {},
   "source": [
    "> 입력 : 밥 먹었어?  \n",
    "> 출력 : 저는 배터리가 밥이예요 .  \n",
    "> 입력 : 식사 하셨나요?  \n",
    "> 출력 : 생각보다 힘든 일도 많을 것 같아요 ."
   ]
  },
  {
   "cell_type": "markdown",
   "metadata": {},
   "source": [
    "식사 여부를 묻는 두 질문에 대해 높임말을 쓰지 않았을 때에는 문맥상 맞는 대답을 했지만 높임말을 사용했을 때는 문맥에 어긋나는 대답을 했다. 이 케이스에서 훈련된 챗봇이 존댓말을 잘 인식하지 못한다고 예상할 수 있다."
   ]
  },
  {
   "cell_type": "markdown",
   "metadata": {},
   "source": [
    "반말/높임말의 문제를 해결하기 위해서는 단순하게 데이터셋을 늘린다거나 단어의 두 가지 형태를 직접 입력하는 방법 등으로 같은 의미의 형태가 다른 말을 학습시켜줄 필요가 있을 것 같다. 의문문의 경우는 입력을 넣을 때에 확실한 의문문의 형태를 취하면 적절한 답변이 나올 것 같은데, 물음표 자체를 하나의 의미로 인식할 수 있으면 좋을 것 같다. 해당 방법에 대해서는 더 공부해 볼 필요가 있을 것 같다.  \n",
    "또 이번 프로젝트에서는 토크나이징에 subwordtextencoder를 사용했는데, 기존에 알고 있었던 형태소 분석기를 사용하면 결과가 어떻게 달라지는지도 알아보고 싶다. 조정해보지 않은 하이퍼 파라미터에 대해서도 직접 해보거나 논문을 읽어보는 등의 시도를 통해 어떤 영향을 주는지 찾아봐야겠다."
   ]
  },
  {
   "cell_type": "markdown",
   "metadata": {},
   "source": [
    "### 회고"
   ]
  },
  {
   "cell_type": "markdown",
   "metadata": {},
   "source": [
    "|KPT|내용|\n",
    "|:---:|:---:|\n",
    "|Keep|+ 훈련시킨 챗봇에서, 입력에 대한 결과가 대부분 문맥에 맞았다<br>+ epoch 값과 max_len을 바꿔가며 여러 케이스에 대해 테스트했다|\n",
    "|Problem|+ 의문문과 높임말에 대한 대답을 잘 생성하지 못했다|\n",
    "|Try|+ 다양한 형태의 문장에 대응하게 할 수 있는 방법을 찾아본다<br>|"
   ]
  }
 ],
 "metadata": {
  "kernelspec": {
   "display_name": "Python 3.9.17 ('tf')",
   "language": "python",
   "name": "python3"
  },
  "language_info": {
   "codemirror_mode": {
    "name": "ipython",
    "version": 3
   },
   "file_extension": ".py",
   "mimetype": "text/x-python",
   "name": "python",
   "nbconvert_exporter": "python",
   "pygments_lexer": "ipython3",
   "version": "3.9.17"
  },
  "orig_nbformat": 4,
  "vscode": {
   "interpreter": {
    "hash": "78ddfc3686b8b7161f2836984651df038ec9a0366954334fc42499f59ad2b3c8"
   }
  }
 },
 "nbformat": 4,
 "nbformat_minor": 2
}
