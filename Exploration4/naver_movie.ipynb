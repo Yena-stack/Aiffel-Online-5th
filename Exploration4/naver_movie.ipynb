{
 "cells": [
  {
   "cell_type": "markdown",
   "id": "fb351839",
   "metadata": {},
   "source": [
    "# 네이버 영화리뷰 감성분석 도전하기"
   ]
  },
  {
   "cell_type": "code",
   "execution_count": 1,
   "id": "d4fcc510",
   "metadata": {},
   "outputs": [],
   "source": [
    "import pandas\n",
    "import konlpy\n",
    "import gensim"
   ]
  },
  {
   "cell_type": "markdown",
   "id": "20b5ec52",
   "metadata": {},
   "source": [
    "### 1) 데이터 준비와 확인"
   ]
  },
  {
   "cell_type": "code",
   "execution_count": 2,
   "id": "279eae05",
   "metadata": {},
   "outputs": [
    {
     "data": {
      "text/html": [
       "<div>\n",
       "<style scoped>\n",
       "    .dataframe tbody tr th:only-of-type {\n",
       "        vertical-align: middle;\n",
       "    }\n",
       "\n",
       "    .dataframe tbody tr th {\n",
       "        vertical-align: top;\n",
       "    }\n",
       "\n",
       "    .dataframe thead th {\n",
       "        text-align: right;\n",
       "    }\n",
       "</style>\n",
       "<table border=\"1\" class=\"dataframe\">\n",
       "  <thead>\n",
       "    <tr style=\"text-align: right;\">\n",
       "      <th></th>\n",
       "      <th>id</th>\n",
       "      <th>document</th>\n",
       "      <th>label</th>\n",
       "    </tr>\n",
       "  </thead>\n",
       "  <tbody>\n",
       "    <tr>\n",
       "      <th>0</th>\n",
       "      <td>9976970</td>\n",
       "      <td>아 더빙.. 진짜 짜증나네요 목소리</td>\n",
       "      <td>0</td>\n",
       "    </tr>\n",
       "    <tr>\n",
       "      <th>1</th>\n",
       "      <td>3819312</td>\n",
       "      <td>흠...포스터보고 초딩영화줄....오버연기조차 가볍지 않구나</td>\n",
       "      <td>1</td>\n",
       "    </tr>\n",
       "    <tr>\n",
       "      <th>2</th>\n",
       "      <td>10265843</td>\n",
       "      <td>너무재밓었다그래서보는것을추천한다</td>\n",
       "      <td>0</td>\n",
       "    </tr>\n",
       "    <tr>\n",
       "      <th>3</th>\n",
       "      <td>9045019</td>\n",
       "      <td>교도소 이야기구먼 ..솔직히 재미는 없다..평점 조정</td>\n",
       "      <td>0</td>\n",
       "    </tr>\n",
       "    <tr>\n",
       "      <th>4</th>\n",
       "      <td>6483659</td>\n",
       "      <td>사이몬페그의 익살스런 연기가 돋보였던 영화!스파이더맨에서 늙어보이기만 했던 커스틴 ...</td>\n",
       "      <td>1</td>\n",
       "    </tr>\n",
       "  </tbody>\n",
       "</table>\n",
       "</div>"
      ],
      "text/plain": [
       "         id                                           document  label\n",
       "0   9976970                                아 더빙.. 진짜 짜증나네요 목소리      0\n",
       "1   3819312                  흠...포스터보고 초딩영화줄....오버연기조차 가볍지 않구나      1\n",
       "2  10265843                                  너무재밓었다그래서보는것을추천한다      0\n",
       "3   9045019                      교도소 이야기구먼 ..솔직히 재미는 없다..평점 조정      0\n",
       "4   6483659  사이몬페그의 익살스런 연기가 돋보였던 영화!스파이더맨에서 늙어보이기만 했던 커스틴 ...      1"
      ]
     },
     "execution_count": 2,
     "metadata": {},
     "output_type": "execute_result"
    }
   ],
   "source": [
    "import pandas as pd\n",
    "\n",
    "# 분석할 데이터 준비\n",
    "train_data = pd.read_table('~/aiffel/sentiment_classification/data/ratings_train.txt')\n",
    "test_data = pd.read_table('~/aiffel/sentiment_classification/data/ratings_test.txt')\n",
    "\n",
    "train_data.head()"
   ]
  },
  {
   "cell_type": "markdown",
   "id": "fa809cc4",
   "metadata": {},
   "source": [
    "### 2) 데이터로더 구성"
   ]
  },
  {
   "cell_type": "code",
   "execution_count": 3,
   "id": "3bf8bcaa",
   "metadata": {},
   "outputs": [],
   "source": [
    "from konlpy.tag import Mecab\n",
    "import numpy as np\n",
    "from collections import Counter\n",
    "\n",
    "tokenizer = Mecab()\n",
    "stopwords = ['의','가','이','은','들','는','좀','잘','걍','과','도','를','으로','자','에','와','한','하다']\n",
    "\n",
    "def load_data(train_data, test_data, num_words=10000): # 데이터 전처리 후 반환하는 함수\n",
    "    train_data.drop_duplicates(subset=['document'], inplace=True)\n",
    "    train_data = train_data.dropna(how='any')\n",
    "    test_data.drop_duplicates(subset=['document'], inplace=True)\n",
    "    test_data = test_data.dropna(how='any')\n",
    "\n",
    "    X_train= []\n",
    "    for sentence in train_data['document']:\n",
    "        temp_X = tokenizer.morphs(sentence)\n",
    "        temp_X = [word for word in temp_X if not word in stopwords]\n",
    "        X_train.append(temp_X)\n",
    "\n",
    "    X_test = []\n",
    "    for sentence in test_data['document']:\n",
    "        temp_X = tokenizer.morphs(sentence)\n",
    "        temp_X = [word for word in temp_X if not word in stopwords]\n",
    "        X_test.append(temp_X)\n",
    "\n",
    "    words = np.concatenate(X_train).tolist()\n",
    "    counter = Counter(words)\n",
    "    counter = counter.most_common(num_words-4)\n",
    "    vocab = ['<PAD>','<BOS>', '<UNK>', '<UNUSED>'] + [key for key, _ in counter]\n",
    "    word_to_index = {word:index for index, word in enumerate(vocab)}\n",
    "\n",
    "    def wordlist_to_indexlist(wordlist):\n",
    "        return [word_to_index[word] if word in word_to_index else word_to_index['<UNK>'] for word in wordlist]\n",
    "        \n",
    "    X_train = list(map(wordlist_to_indexlist, X_train))\n",
    "    X_test = list(map(wordlist_to_indexlist, X_test))\n",
    "        \n",
    "    return X_train, np.array(list(train_data['label'])), X_test, np.array(list(test_data['label'])), word_to_index\n",
    "    \n",
    "X_train, y_train, X_test, y_test, word_to_index = load_data(train_data, test_data) # 데이터 준비 완료"
   ]
  },
  {
   "cell_type": "code",
   "execution_count": 4,
   "id": "b04f6402",
   "metadata": {},
   "outputs": [],
   "source": [
    "index_to_word = {index:word for word, index in word_to_index.items()}"
   ]
  },
  {
   "cell_type": "code",
   "execution_count": 5,
   "id": "a1fa5d55",
   "metadata": {},
   "outputs": [],
   "source": [
    "# 문장 1개를 단어 인덱스 리스트 벡터로 반환함\n",
    "def get_encoded_sentence(sentence, word_to_index):\n",
    "    return [word_to_index['<BOS>']]+[word_to_index[word] if word in word_to_index else word_to_index['<UNK>'] for word in sentence.split()]\n",
    "\n",
    "# 여러 개의 문장 리스트를 단어 인덱스 리스트 벡터로 encode \n",
    "def get_encoded_sentences(sentences, word_to_index):\n",
    "    return [get_encoded_sentence(sentence, word_to_index) for sentence in sentences]\n",
    "\n",
    "# 숫자 벡터로 encode된 문장을 원래대로 decode\n",
    "def get_decoded_sentence(encoded_sentence, index_to_word):\n",
    "    return ' '.join(index_to_word[index] if index in index_to_word else '<UNK>' for index in encoded_sentence[1:])  #[1:]를 통해 <BOS>를 제외\n",
    "\n",
    "# 여러 개의 숫자 벡터로 encode된 문장들을 decode\n",
    "def get_decoded_sentences(encoded_sentences, index_to_word):\n",
    "    return [get_decoded_sentence(encoded_sentence, index_to_word) for encoded_sentence in encoded_sentences]"
   ]
  },
  {
   "cell_type": "markdown",
   "id": "de9a0a7b",
   "metadata": {},
   "source": [
    "### 3) 모델 구성을 위한 데이터 분석 및 가공"
   ]
  },
  {
   "cell_type": "code",
   "execution_count": 6,
   "id": "edefe2dc",
   "metadata": {},
   "outputs": [
    {
     "name": "stdout",
     "output_type": "stream",
     "text": [
      "max len:  116\n",
      "mean len:  15.98170773419436\n"
     ]
    },
    {
     "data": {
      "image/png": "[encoded data removed]",
      "text/plain": [
       "<Figure size 432x288 with 1 Axes>"
      ]
     },
     "metadata": {
      "needs_background": "light"
     },
     "output_type": "display_data"
    }
   ],
   "source": [
    "import matplotlib.pyplot as plt\n",
    "\n",
    "print('max len: ', max(len(review) for review in X_train)) # 데이터셋 내 최대 문장 길이\n",
    "print('mean len: ', sum(map(len, X_train))/len(X_train)) # 데이터셋 문장 길이 평균\n",
    "plt.hist([len(review) for review in X_train], bins=50)\n",
    "plt.show() # 문장 길이 분포 확인"
   ]
  },
  {
   "cell_type": "code",
   "execution_count": 7,
   "id": "2b47530a",
   "metadata": {},
   "outputs": [],
   "source": [
    "def below_threshold_len(max_len, nested_list):\n",
    "    count = 0\n",
    "    for sentence in nested_list:\n",
    "        if(len(sentence) <= max_len):\n",
    "            count += 1\n",
    "    print(f'최대 길이: {max_len}, 커버 가능한 샘플 비율: {(count/len(nested_list))*100}')"
   ]
  },
  {
   "cell_type": "code",
   "execution_count": 8,
   "id": "b2462bff",
   "metadata": {},
   "outputs": [
    {
     "name": "stdout",
     "output_type": "stream",
     "text": [
      "최대 길이: 50, 커버 가능한 샘플 비율: 96.03439547960761\n"
     ]
    }
   ],
   "source": [
    "below_threshold_len(50, X_train) # 최대 길이 50일 때 96퍼센트의 샘플 커버 가능"
   ]
  },
  {
   "cell_type": "code",
   "execution_count": 9,
   "id": "5120605b",
   "metadata": {},
   "outputs": [],
   "source": [
    "import tensorflow as tf\n",
    "# 최대 문장 길이 50으로 결정\n",
    "# 패딩 추가\n",
    "X_train = tf.keras.preprocessing.sequence.pad_sequences(X_train, padding='pre',maxlen=50)\n",
    "X_test = tf.keras.preprocessing.sequence.pad_sequences(X_test, padding='pre',maxlen=50)"
   ]
  },
  {
   "cell_type": "markdown",
   "id": "8c4e4906",
   "metadata": {},
   "source": [
    "### 4) 모델 구성 및 validation set 구성"
   ]
  },
  {
   "cell_type": "markdown",
   "id": "1deec74c",
   "metadata": {},
   "source": [
    "#### (1) LSTM"
   ]
  },
  {
   "cell_type": "code",
   "execution_count": 45,
   "id": "1bd384ab",
   "metadata": {},
   "outputs": [
    {
     "name": "stdout",
     "output_type": "stream",
     "text": [
      "Model: \"sequential_5\"\n",
      "_________________________________________________________________\n",
      "Layer (type)                 Output Shape              Param #   \n",
      "=================================================================\n",
      "embedding_5 (Embedding)      (None, None, 50)          500000    \n",
      "_________________________________________________________________\n",
      "lstm_3 (LSTM)                (None, 30)                9720      \n",
      "_________________________________________________________________\n",
      "dense_6 (Dense)              (None, 1)                 31        \n",
      "=================================================================\n",
      "Total params: 509,751\n",
      "Trainable params: 509,751\n",
      "Non-trainable params: 0\n",
      "_________________________________________________________________\n"
     ]
    }
   ],
   "source": [
    "# LSTM 모델 준비\n",
    "from tensorflow.keras.layers import Embedding, Dense, LSTM\n",
    "from tensorflow.keras.models import Sequential\n",
    "from tensorflow.keras.callbacks import EarlyStopping\n",
    "\n",
    "vocab_size = 10000 \n",
    "word_vector_dim = 50\n",
    "hidden_units = 30\n",
    "\n",
    "model_lstm = Sequential()\n",
    "model_lstm.add(Embedding(vocab_size, word_vector_dim))\n",
    "model_lstm.add(LSTM(hidden_units))\n",
    "model_lstm.add(Dense(1, activation='sigmoid'))\n",
    "\n",
    "es = EarlyStopping(monitor='val_loss', mode='min', verbose=1, patience=4) # val_accuracy가 4번 떨어지면 학습 멈춤\n",
    "model_lstm.compile(optimizer='adam', loss='binary_crossentropy', metrics='accuracy')\n",
    "model_lstm.summary()"
   ]
  },
  {
   "cell_type": "markdown",
   "id": "eac78c74",
   "metadata": {},
   "source": [
    "#### (2) GRU"
   ]
  },
  {
   "cell_type": "code",
   "execution_count": 11,
   "id": "f086dba4",
   "metadata": {},
   "outputs": [
    {
     "name": "stdout",
     "output_type": "stream",
     "text": [
      "Model: \"sequential_1\"\n",
      "_________________________________________________________________\n",
      "Layer (type)                 Output Shape              Param #   \n",
      "=================================================================\n",
      "embedding_1 (Embedding)      (None, None, 50)          500000    \n",
      "_________________________________________________________________\n",
      "gru (GRU)                    (None, 30)                7380      \n",
      "_________________________________________________________________\n",
      "dense_1 (Dense)              (None, 1)                 31        \n",
      "=================================================================\n",
      "Total params: 507,411\n",
      "Trainable params: 507,411\n",
      "Non-trainable params: 0\n",
      "_________________________________________________________________\n"
     ]
    }
   ],
   "source": [
    "# GRU 모델 준비\n",
    "from tensorflow.keras.layers import Embedding, Dense, GRU\n",
    "from tensorflow.keras.models import Sequential\n",
    "from tensorflow.keras.callbacks import EarlyStopping\n",
    "\n",
    "vocab_size=10000\n",
    "word_vector_dim = 50\n",
    "hidden_units = 30\n",
    "\n",
    "model_gru = Sequential()\n",
    "model_gru.add(Embedding(vocab_size, word_vector_dim))\n",
    "model_gru.add(GRU(hidden_units))\n",
    "model_gru.add(Dense(1, activation='sigmoid'))\n",
    "\n",
    "es = EarlyStopping(monitor='val_loss', mode='min', verbose=1, patience=4)\n",
    "model_gru.compile(optimizer='adam', loss='binary_crossentropy', metrics='accuracy')\n",
    "model_gru.summary()"
   ]
  },
  {
   "cell_type": "markdown",
   "id": "c4181ba1",
   "metadata": {},
   "source": [
    "#### (3) 1D CNN"
   ]
  },
  {
   "cell_type": "code",
   "execution_count": 12,
   "id": "3f4d095e",
   "metadata": {},
   "outputs": [
    {
     "name": "stdout",
     "output_type": "stream",
     "text": [
      "Model: \"sequential_2\"\n",
      "_________________________________________________________________\n",
      "Layer (type)                 Output Shape              Param #   \n",
      "=================================================================\n",
      "embedding_2 (Embedding)      (None, None, 16)          160000    \n",
      "_________________________________________________________________\n",
      "conv1d (Conv1D)              (None, None, 16)          1808      \n",
      "_________________________________________________________________\n",
      "max_pooling1d (MaxPooling1D) (None, None, 16)          0         \n",
      "_________________________________________________________________\n",
      "conv1d_1 (Conv1D)            (None, None, 16)          1808      \n",
      "_________________________________________________________________\n",
      "global_max_pooling1d (Global (None, 16)                0         \n",
      "_________________________________________________________________\n",
      "dense_2 (Dense)              (None, 8)                 136       \n",
      "_________________________________________________________________\n",
      "dense_3 (Dense)              (None, 1)                 9         \n",
      "=================================================================\n",
      "Total params: 163,761\n",
      "Trainable params: 163,761\n",
      "Non-trainable params: 0\n",
      "_________________________________________________________________\n"
     ]
    }
   ],
   "source": [
    "# 1D CNN 모델 준비\n",
    "from tensorflow.keras.layers import Embedding, Dense, Conv1D, MaxPooling1D, GlobalMaxPooling1D\n",
    "from tensorflow.keras.models import Sequential\n",
    "from tensorflow.keras.callbacks import EarlyStopping\n",
    "\n",
    "vocab_size = 10000\n",
    "word_vector_dim_cnn = 16\n",
    "\n",
    "model_cnn = Sequential()\n",
    "model_cnn.add(Embedding(vocab_size, word_vector_dim_cnn))\n",
    "model_cnn.add(Conv1D(16, 7, activation='relu'))\n",
    "model_cnn.add(MaxPooling1D(5))\n",
    "model_cnn.add(Conv1D(16, 7, activation='relu'))\n",
    "model_cnn.add(GlobalMaxPooling1D())\n",
    "model_cnn.add(Dense(8, activation='relu'))\n",
    "model_cnn.add(Dense(1, activation='sigmoid'))\n",
    "\n",
    "es = EarlyStopping(monitor='val_loss', mode='min', verbose=1, patience=4)\n",
    "model_cnn.compile(optimizer='adam', loss='binary_crossentropy', metrics='accuracy')\n",
    "model_cnn.summary()"
   ]
  },
  {
   "cell_type": "code",
   "execution_count": 13,
   "id": "60543b48",
   "metadata": {},
   "outputs": [],
   "source": [
    "from sklearn.model_selection import train_test_split\n",
    "\n",
    "X_train, X_val, y_train, y_val = train_test_split(X_train, y_train, test_size=0.4, shuffle=True,\\\n",
    "                                                 stratify=y_train, random_state=1234)"
   ]
  },
  {
   "cell_type": "markdown",
   "id": "c54c0967",
   "metadata": {},
   "source": [
    "### 5) 모델 훈련 개시"
   ]
  },
  {
   "cell_type": "markdown",
   "id": "dc54bd1f",
   "metadata": {},
   "source": [
    "#### (1) LSTM"
   ]
  },
  {
   "cell_type": "code",
   "execution_count": 43,
   "id": "54e27503",
   "metadata": {},
   "outputs": [
    {
     "name": "stdout",
     "output_type": "stream",
     "text": [
      "Epoch 1/15\n",
      "172/172 [==============================] - 3s 10ms/step - loss: 0.5282 - accuracy: 0.7529 - val_loss: 0.3991 - val_accuracy: 0.8284\n",
      "Epoch 2/15\n",
      "172/172 [==============================] - 1s 7ms/step - loss: 0.3558 - accuracy: 0.8483 - val_loss: 0.3616 - val_accuracy: 0.8430\n",
      "Epoch 3/15\n",
      "172/172 [==============================] - 1s 7ms/step - loss: 0.3205 - accuracy: 0.8651 - val_loss: 0.3558 - val_accuracy: 0.8457\n",
      "Epoch 4/15\n",
      "172/172 [==============================] - 1s 7ms/step - loss: 0.3020 - accuracy: 0.8754 - val_loss: 0.3577 - val_accuracy: 0.8457\n",
      "Epoch 5/15\n",
      "172/172 [==============================] - 1s 7ms/step - loss: 0.2904 - accuracy: 0.8807 - val_loss: 0.3566 - val_accuracy: 0.8454\n",
      "Epoch 6/15\n",
      "172/172 [==============================] - 1s 7ms/step - loss: 0.2793 - accuracy: 0.8853 - val_loss: 0.3667 - val_accuracy: 0.8444\n",
      "Epoch 7/15\n",
      "172/172 [==============================] - 1s 7ms/step - loss: 0.2657 - accuracy: 0.8927 - val_loss: 0.3683 - val_accuracy: 0.8447\n",
      "Epoch 00007: early stopping\n"
     ]
    }
   ],
   "source": [
    "history_lstm = model_lstm.fit(X_train, y_train, epochs=15, callbacks=es, batch_size=512,\\\n",
    "                    validation_data=(X_val, y_val), verbose=1) # LSTM 훈련"
   ]
  },
  {
   "cell_type": "code",
   "execution_count": 44,
   "id": "f7755238",
   "metadata": {},
   "outputs": [
    {
     "name": "stdout",
     "output_type": "stream",
     "text": [
      "1537/1537 - 3s - loss: 0.3699 - accuracy: 0.8438\n",
      "[0.3698976933956146, 0.8438065648078918]\n"
     ]
    }
   ],
   "source": [
    "result_lstm = model_lstm.evaluate(X_test, y_test, verbose=2)\n",
    "print(result_lstm) # LSTM 결과"
   ]
  },
  {
   "cell_type": "markdown",
   "id": "2c276fa0",
   "metadata": {},
   "source": [
    "#### (2) GRU"
   ]
  },
  {
   "cell_type": "code",
   "execution_count": 16,
   "id": "8673a0db",
   "metadata": {},
   "outputs": [
    {
     "name": "stdout",
     "output_type": "stream",
     "text": [
      "Epoch 1/15\n",
      "172/172 [==============================] - 3s 10ms/step - loss: 0.4683 - accuracy: 0.7794 - val_loss: 0.3697 - val_accuracy: 0.8367\n",
      "Epoch 2/15\n",
      "172/172 [==============================] - 1s 8ms/step - loss: 0.3311 - accuracy: 0.8593 - val_loss: 0.3582 - val_accuracy: 0.8461\n",
      "Epoch 3/15\n",
      "172/172 [==============================] - 1s 7ms/step - loss: 0.3061 - accuracy: 0.8715 - val_loss: 0.3599 - val_accuracy: 0.8453\n",
      "Epoch 4/15\n",
      "172/172 [==============================] - 1s 7ms/step - loss: 0.2904 - accuracy: 0.8785 - val_loss: 0.3690 - val_accuracy: 0.8453\n",
      "Epoch 5/15\n",
      "172/172 [==============================] - 1s 7ms/step - loss: 0.2765 - accuracy: 0.8850 - val_loss: 0.3702 - val_accuracy: 0.8444\n",
      "Epoch 6/15\n",
      "172/172 [==============================] - 1s 7ms/step - loss: 0.2613 - accuracy: 0.8923 - val_loss: 0.3716 - val_accuracy: 0.8468\n",
      "Epoch 00006: early stopping\n"
     ]
    }
   ],
   "source": [
    "history_gru = model_gru.fit(X_train, y_train, epochs=15, callbacks=es, batch_size=512, \\\n",
    "                        validation_data=(X_val, y_val), verbose=1) # GRU 훈련"
   ]
  },
  {
   "cell_type": "code",
   "execution_count": 17,
   "id": "9bcf01fa",
   "metadata": {},
   "outputs": [
    {
     "name": "stdout",
     "output_type": "stream",
     "text": [
      "1537/1537 - 3s - loss: 0.3731 - accuracy: 0.8439\n",
      "[0.3731251060962677, 0.8438675999641418]\n"
     ]
    }
   ],
   "source": [
    "result_gru = model_gru.evaluate(X_test, y_test, verbose=2)\n",
    "print(result_gru) # GRU 결과"
   ]
  },
  {
   "cell_type": "markdown",
   "id": "db1b8873",
   "metadata": {},
   "source": [
    "#### (3) 1D CNN"
   ]
  },
  {
   "cell_type": "code",
   "execution_count": 18,
   "id": "adc9251b",
   "metadata": {},
   "outputs": [
    {
     "name": "stdout",
     "output_type": "stream",
     "text": [
      "Epoch 1/15\n",
      "172/172 [==============================] - 3s 8ms/step - loss: 0.6326 - accuracy: 0.6444 - val_loss: 0.5632 - val_accuracy: 0.7494\n",
      "Epoch 2/15\n",
      "172/172 [==============================] - 1s 6ms/step - loss: 0.5297 - accuracy: 0.7728 - val_loss: 0.5372 - val_accuracy: 0.7580\n",
      "Epoch 3/15\n",
      "172/172 [==============================] - 1s 6ms/step - loss: 0.4863 - accuracy: 0.7946 - val_loss: 0.5274 - val_accuracy: 0.7556\n",
      "Epoch 4/15\n",
      "172/172 [==============================] - 1s 6ms/step - loss: 0.4509 - accuracy: 0.8114 - val_loss: 0.5309 - val_accuracy: 0.7606\n",
      "Epoch 5/15\n",
      "172/172 [==============================] - 1s 7ms/step - loss: 0.4187 - accuracy: 0.8273 - val_loss: 0.5364 - val_accuracy: 0.7574\n",
      "Epoch 6/15\n",
      "172/172 [==============================] - 1s 7ms/step - loss: 0.3887 - accuracy: 0.8413 - val_loss: 0.5486 - val_accuracy: 0.7578\n",
      "Epoch 7/15\n",
      "172/172 [==============================] - 1s 6ms/step - loss: 0.3619 - accuracy: 0.8520 - val_loss: 0.5658 - val_accuracy: 0.7534\n",
      "Epoch 00007: early stopping\n"
     ]
    }
   ],
   "source": [
    "history_cnn = model_cnn.fit(X_train, y_train, epochs=15, callbacks=es, batch_size=512, \\\n",
    "                        validation_data=(X_val, y_val), verbose=1) # 1D CNN 훈련"
   ]
  },
  {
   "cell_type": "code",
   "execution_count": 19,
   "id": "5a868a4e",
   "metadata": {},
   "outputs": [
    {
     "name": "stdout",
     "output_type": "stream",
     "text": [
      "1537/1537 - 3s - loss: 0.5682 - accuracy: 0.7473\n",
      "[0.568163275718689, 0.7473198175430298]\n"
     ]
    }
   ],
   "source": [
    "result_cnn = model_cnn.evaluate(X_test, y_test, verbose=2)\n",
    "print(result_cnn) #1D CNN 결과"
   ]
  },
  {
   "cell_type": "markdown",
   "id": "4e8ae46b",
   "metadata": {},
   "source": [
    "### 6) Loss, Accuracy 그래프 시각화"
   ]
  },
  {
   "cell_type": "code",
   "execution_count": 20,
   "id": "e46c5172",
   "metadata": {},
   "outputs": [],
   "source": [
    "def show_loss_acc(history_model, show): # epoch에 따라 증감하는 accuracy, loss 시각화\n",
    "    history_dict = history_model.history\n",
    "    acc = history_dict['accuracy']\n",
    "    val_acc = history_dict['val_accuracy']\n",
    "    loss = history_dict['loss']\n",
    "    val_loss = history_dict['val_loss']\n",
    "    \n",
    "    epochs = range(1, len(acc) + 1)\n",
    "    \n",
    "    if show == 'acc':\n",
    "        plt.plot(epochs, acc, 'bo', label='Training acc')\n",
    "        plt.plot(epochs, val_acc, 'b', label='Validation acc')\n",
    "        plt.title('Training and validation acc')\n",
    "        plt.xlabel('Epochs')\n",
    "        plt.ylabel('Acc')\n",
    "        plt.legend()\n",
    "    else:\n",
    "        plt.plot(epochs, loss, 'bo', label='Training loss')\n",
    "        plt.plot(epochs, val_loss, 'b', label='Validation loss')\n",
    "        plt.title('Training and validation loss')\n",
    "        plt.xlabel('Epochs')\n",
    "        plt.ylabel('Loss')\n",
    "        plt.legend()\n",
    "    \n",
    "    plt.show()"
   ]
  },
  {
   "cell_type": "markdown",
   "id": "161e839c",
   "metadata": {},
   "source": [
    "#### (1) LSTM"
   ]
  },
  {
   "cell_type": "code",
   "execution_count": 21,
   "id": "6144ef93",
   "metadata": {},
   "outputs": [
    {
     "data": {
      "image/png": "[encoded data removed]",
      "text/plain": [
       "<Figure size 432x288 with 1 Axes>"
      ]
     },
     "metadata": {
      "needs_background": "light"
     },
     "output_type": "display_data"
    }
   ],
   "source": [
    "show_loss_acc(history_lstm, 'acc') # show LSTM accuracy"
   ]
  },
  {
   "cell_type": "code",
   "execution_count": 22,
   "id": "b7703bfd",
   "metadata": {},
   "outputs": [
    {
     "data": {
      "image/png": "[encoded data removed]",
      "text/plain": [
       "<Figure size 432x288 with 1 Axes>"
      ]
     },
     "metadata": {
      "needs_background": "light"
     },
     "output_type": "display_data"
    }
   ],
   "source": [
    "show_loss_acc(history_lstm, 'loss') # show LSTM loss"
   ]
  },
  {
   "cell_type": "markdown",
   "id": "22bdee0c",
   "metadata": {},
   "source": [
    "#### (2) GRU"
   ]
  },
  {
   "cell_type": "code",
   "execution_count": 23,
   "id": "d2a43dfa",
   "metadata": {},
   "outputs": [
    {
     "data": {
      "image/png": "[encoded data removed]",
      "text/plain": [
       "<Figure size 432x288 with 1 Axes>"
      ]
     },
     "metadata": {
      "needs_background": "light"
     },
     "output_type": "display_data"
    }
   ],
   "source": [
    "show_loss_acc(history_gru, 'acc') # show GRU accuracy"
   ]
  },
  {
   "cell_type": "code",
   "execution_count": 24,
   "id": "5e177261",
   "metadata": {},
   "outputs": [
    {
     "data": {
      "image/png": "[encoded data removed]",
      "text/plain": [
       "<Figure size 432x288 with 1 Axes>"
      ]
     },
     "metadata": {
      "needs_background": "light"
     },
     "output_type": "display_data"
    }
   ],
   "source": [
    "show_loss_acc(history_gru, 'loss') # show GRU loss"
   ]
  },
  {
   "cell_type": "markdown",
   "id": "9dc7d95a",
   "metadata": {},
   "source": [
    "#### (3) CNN"
   ]
  },
  {
   "cell_type": "code",
   "execution_count": 25,
   "id": "b5c8e747",
   "metadata": {},
   "outputs": [
    {
     "data": {
      "image/png": "[encoded data removed]",
      "text/plain": [
       "<Figure size 432x288 with 1 Axes>"
      ]
     },
     "metadata": {
      "needs_background": "light"
     },
     "output_type": "display_data"
    }
   ],
   "source": [
    "show_loss_acc(history_cnn, 'acc') # show CNN accuracy"
   ]
  },
  {
   "cell_type": "code",
   "execution_count": 26,
   "id": "67158b4a",
   "metadata": {},
   "outputs": [
    {
     "data": {
      "image/png": "[encoded data removed]",
      "text/plain": [
       "<Figure size 432x288 with 1 Axes>"
      ]
     },
     "metadata": {
      "needs_background": "light"
     },
     "output_type": "display_data"
    }
   ],
   "source": [
    "show_loss_acc(history_cnn, 'loss') # show CNN loss"
   ]
  },
  {
   "cell_type": "markdown",
   "id": "64e1beb6",
   "metadata": {},
   "source": [
    "### 7) 학습된 Embedding 레이어 분석"
   ]
  },
  {
   "cell_type": "markdown",
   "id": "3b0e5d99",
   "metadata": {},
   "source": [
    "#### (1) LSTM"
   ]
  },
  {
   "cell_type": "code",
   "execution_count": 27,
   "id": "0bac82a0",
   "metadata": {},
   "outputs": [
    {
     "name": "stdout",
     "output_type": "stream",
     "text": [
      "(10000, 50)\n"
     ]
    }
   ],
   "source": [
    "import os \n",
    "from gensim.models.keyedvectors import Word2VecKeyedVectors\n",
    "\n",
    "embedding_layer = model_lstm.layers[0]\n",
    "weights = embedding_layer.get_weights()[0]\n",
    "print(weights.shape) \n",
    "\n",
    "word2vec_file_path_lstm = os.getenv('HOME')+'/aiffel/sentiment_classification/data/word2vec_lstm.txt'\n",
    "f = open(word2vec_file_path_lstm, 'w')\n",
    "f.write('{} {}\\n'.format(vocab_size-4, word_vector_dim)) \n",
    "\n",
    "vectors = model_lstm.get_weights()[0]\n",
    "for i in range(4,vocab_size):\n",
    "    f.write('{} {}\\n'.format(index_to_word[i], ' '.join(map(str, list(vectors[i, :])))))\n",
    "f.close()"
   ]
  },
  {
   "cell_type": "code",
   "execution_count": 28,
   "id": "a6c75332",
   "metadata": {},
   "outputs": [
    {
     "data": {
      "text/plain": [
       "array([ 0.02250217,  0.01817851,  0.06397052, -0.08029215,  0.12298011,\n",
       "        0.13297799, -0.03351348,  0.06336   ,  0.12414656,  0.15220393,\n",
       "        0.03310877, -0.09537593, -0.10961172, -0.07338115,  0.0509093 ,\n",
       "       -0.12811579, -0.0630388 , -0.1451203 , -0.041053  , -0.11238141,\n",
       "       -0.07456219,  0.0528366 , -0.14087129, -0.01531045, -0.02333298,\n",
       "        0.07516896,  0.11475593, -0.11065506, -0.11377668, -0.13321857,\n",
       "       -0.06473805,  0.13018511, -0.09452048, -0.08179506, -0.09643644,\n",
       "       -0.15718602, -0.04832184,  0.04066693, -0.00737425, -0.07759224,\n",
       "       -0.0199709 , -0.05869842, -0.0499011 ,  0.07844366,  0.12353416,\n",
       "        0.05803116, -0.10619482, -0.07942841, -0.06097802,  0.09490562],\n",
       "      dtype=float32)"
      ]
     },
     "execution_count": 28,
     "metadata": {},
     "output_type": "execute_result"
    }
   ],
   "source": [
    "# 학습시킨 LSTM 임베딩 기준 분석\n",
    "word_vectors = Word2VecKeyedVectors.load_word2vec_format(word2vec_file_path_lstm, binary=False)\n",
    "vector = word_vectors['눈물']\n",
    "vector"
   ]
  },
  {
   "cell_type": "code",
   "execution_count": 29,
   "id": "ffa14024",
   "metadata": {},
   "outputs": [
    {
     "data": {
      "text/plain": [
       "[('해학', 0.9156970977783203),\n",
       " ('물결', 0.9121577143669128),\n",
       " ('울림', 0.9120380878448486),\n",
       " ('어깨', 0.9107088446617126),\n",
       " ('집니다', 0.909222424030304),\n",
       " ('류덕환', 0.9088531136512756),\n",
       " ('이제야', 0.9084336757659912),\n",
       " ('단연', 0.9069399833679199),\n",
       " ('여사', 0.9068281650543213),\n",
       " ('아자니', 0.9067018032073975)]"
      ]
     },
     "execution_count": 29,
     "metadata": {},
     "output_type": "execute_result"
    }
   ],
   "source": [
    "word_vectors.similar_by_word('눈물') # '눈물'과 유사도가 높은 단어"
   ]
  },
  {
   "cell_type": "markdown",
   "id": "de290904",
   "metadata": {},
   "source": [
    "#### (2) GRU"
   ]
  },
  {
   "cell_type": "code",
   "execution_count": 30,
   "id": "31b7132e",
   "metadata": {},
   "outputs": [
    {
     "name": "stdout",
     "output_type": "stream",
     "text": [
      "(10000, 50)\n"
     ]
    }
   ],
   "source": [
    "import os \n",
    "from gensim.models.keyedvectors import Word2VecKeyedVectors\n",
    "\n",
    "embedding_layer = model_gru.layers[0]\n",
    "weights = embedding_layer.get_weights()[0]\n",
    "print(weights.shape) \n",
    "\n",
    "word2vec_file_path_gru = os.getenv('HOME')+'/aiffel/sentiment_classification/data/word2vec_gru.txt'\n",
    "f = open(word2vec_file_path_gru, 'w')\n",
    "f.write('{} {}\\n'.format(vocab_size-4, word_vector_dim)) \n",
    "\n",
    "vectors = model_gru.get_weights()[0]\n",
    "for i in range(4,vocab_size):\n",
    "    f.write('{} {}\\n'.format(index_to_word[i], ' '.join(map(str, list(vectors[i, :])))))\n",
    "f.close()"
   ]
  },
  {
   "cell_type": "code",
   "execution_count": 31,
   "id": "8b97d315",
   "metadata": {},
   "outputs": [
    {
     "data": {
      "text/plain": [
       "array([ 0.0701882 , -0.06856277, -0.03365883, -0.04853345,  0.12975   ,\n",
       "        0.05597989, -0.09366162, -0.09051331,  0.10847683,  0.00962175,\n",
       "        0.12341167, -0.05942428, -0.0512224 , -0.08249143,  0.0896984 ,\n",
       "        0.0986124 ,  0.0330268 , -0.10550837, -0.12303093,  0.10580874,\n",
       "       -0.04264084, -0.0627771 ,  0.08039362, -0.00389892, -0.09637341,\n",
       "       -0.10166103,  0.03801138,  0.07186882, -0.03946818, -0.07801242,\n",
       "       -0.11010101, -0.0637517 , -0.14087151, -0.05307387, -0.04045544,\n",
       "        0.12196989,  0.05502674, -0.04417375, -0.05052267,  0.05477139,\n",
       "        0.05095189, -0.02042729, -0.03372885,  0.09398637, -0.06961951,\n",
       "        0.10747238,  0.08140624, -0.01423742, -0.08240912, -0.09975064],\n",
       "      dtype=float32)"
      ]
     },
     "execution_count": 31,
     "metadata": {},
     "output_type": "execute_result"
    }
   ],
   "source": [
    "# 학습시킨 GRU 임베딩 기준 분석\n",
    "word_vectors = Word2VecKeyedVectors.load_word2vec_format(word2vec_file_path_gru, binary=False)\n",
    "vector = word_vectors['눈물']\n",
    "vector"
   ]
  },
  {
   "cell_type": "code",
   "execution_count": 32,
   "id": "ec0a36ed",
   "metadata": {},
   "outputs": [
    {
     "data": {
      "text/plain": [
       "[('귀여움', 0.9238154888153076),\n",
       " ('이만', 0.9183204770088196),\n",
       " ('명화', 0.9115661978721619),\n",
       " ('재판', 0.9071007370948792),\n",
       " ('써요', 0.9058616161346436),\n",
       " ('올라가', 0.9052035808563232),\n",
       " ('울림', 0.9047932624816895),\n",
       " ('다섯', 0.9037443995475769),\n",
       " ('센', 0.901559591293335),\n",
       " ('퍼스', 0.8997529745101929)]"
      ]
     },
     "execution_count": 32,
     "metadata": {},
     "output_type": "execute_result"
    }
   ],
   "source": [
    "word_vectors.similar_by_word('눈물') # '눈물'과 유사도가 높은 단어"
   ]
  },
  {
   "cell_type": "markdown",
   "id": "14c5fc0d",
   "metadata": {},
   "source": [
    "#### (3) 1D CNN"
   ]
  },
  {
   "cell_type": "code",
   "execution_count": 33,
   "id": "a30f8f66",
   "metadata": {},
   "outputs": [
    {
     "name": "stdout",
     "output_type": "stream",
     "text": [
      "(10000, 16)\n"
     ]
    }
   ],
   "source": [
    "import os \n",
    "from gensim.models.keyedvectors import Word2VecKeyedVectors\n",
    "\n",
    "embedding_layer = model_cnn.layers[0]\n",
    "weights = embedding_layer.get_weights()[0]\n",
    "print(weights.shape) \n",
    "\n",
    "word2vec_file_path_cnn = os.getenv('HOME')+'/aiffel/sentiment_classification/data/word2vec_cnn.txt'\n",
    "f = open(word2vec_file_path_cnn, 'w')\n",
    "f.write('{} {}\\n'.format(vocab_size-4, word_vector_dim_cnn)) \n",
    "\n",
    "vectors = model_cnn.get_weights()[0]\n",
    "for i in range(4,vocab_size):\n",
    "    f.write('{} {}\\n'.format(index_to_word[i], ' '.join(map(str, list(vectors[i, :])))))\n",
    "f.close()"
   ]
  },
  {
   "cell_type": "code",
   "execution_count": 34,
   "id": "216085d4",
   "metadata": {},
   "outputs": [
    {
     "data": {
      "text/plain": [
       "array([-0.14062169, -0.12870356, -0.07418597, -0.03013569,  0.0485132 ,\n",
       "        0.05274144, -0.07858249, -0.0440316 , -0.03591715, -0.14807397,\n",
       "       -0.07575764, -0.02486651, -0.02688406,  0.12838389, -0.02487549,\n",
       "       -0.10751256], dtype=float32)"
      ]
     },
     "execution_count": 34,
     "metadata": {},
     "output_type": "execute_result"
    }
   ],
   "source": [
    "# 학습시킨 CNN 임베딩 기준 분석\n",
    "word_vectors = Word2VecKeyedVectors.load_word2vec_format(word2vec_file_path_cnn, binary=False)\n",
    "vector = word_vectors['눈물']\n",
    "vector"
   ]
  },
  {
   "cell_type": "code",
   "execution_count": 35,
   "id": "23219e2b",
   "metadata": {},
   "outputs": [
    {
     "data": {
      "text/plain": [
       "[('느껴져', 0.9496310353279114),\n",
       " ('이제야', 0.9197431802749634),\n",
       " ('진하', 0.9046112895011902),\n",
       " ('곱씹', 0.9037601947784424),\n",
       " ('투캅스', 0.9033419489860535),\n",
       " ('어렷', 0.8990650177001953),\n",
       " ('울림', 0.8984838128089905),\n",
       " ('계신', 0.8977344036102295),\n",
       " ('아쉬웠', 0.8950778841972351),\n",
       " ('재발견', 0.8946875929832458)]"
      ]
     },
     "execution_count": 35,
     "metadata": {},
     "output_type": "execute_result"
    }
   ],
   "source": [
    "word_vectors.similar_by_word('눈물') # '눈물'과 유사도가 높은 단어"
   ]
  },
  {
   "cell_type": "markdown",
   "id": "3d450895",
   "metadata": {},
   "source": [
    "### 8) 한국어 Word2Vec 임베딩 활용하여 성능 개선"
   ]
  },
  {
   "cell_type": "code",
   "execution_count": 36,
   "id": "648f472f",
   "metadata": {},
   "outputs": [
    {
     "data": {
      "text/plain": [
       "array([ 4.4374938e+00, -1.7032225e+00, -1.6537160e+00,  1.3416935e+00,\n",
       "        9.4176412e-01, -1.1971127e+00,  1.6244729e+00, -1.8392246e+00,\n",
       "        7.9721516e-01,  8.0024487e-01,  1.6623759e-01, -7.3732167e-01,\n",
       "       -7.9332733e-01, -2.1084888e+00,  3.7857047e-01, -8.7108022e-01,\n",
       "       -1.4241999e-01,  7.9976755e-01,  2.3714764e+00, -3.3825223e+00,\n",
       "       -1.9354525e+00,  2.8776672e+00,  2.5670559e+00, -7.5363797e-01,\n",
       "        2.9734168e+00,  6.2005687e-01, -1.3553896e+00,  2.2069915e-01,\n",
       "       -5.3355489e-02, -5.3975735e+00, -4.3731409e-01,  7.8842950e-01,\n",
       "       -8.5420680e-01,  1.5157185e+00, -4.8801342e-01,  1.5634551e+00,\n",
       "       -1.0215125e+00, -7.4927783e-01, -4.4310506e-02,  2.2635355e+00,\n",
       "       -2.5876187e-02,  7.4778032e-01,  1.9505405e+00,  3.1145375e+00,\n",
       "       -1.3103136e+00, -4.0422589e-01,  2.2826233e+00, -3.3591056e+00,\n",
       "        2.8697922e+00, -2.7999628e+00, -1.7109917e+00,  7.7499753e-01,\n",
       "        2.2487674e+00, -3.8421981e+00, -2.7603438e+00, -2.1950996e-01,\n",
       "        1.3510251e+00, -7.6711994e-01,  2.2813735e+00, -2.4709780e+00,\n",
       "       -3.3202267e-01, -1.1731856e+00, -7.3336273e-02, -3.5567000e+00,\n",
       "       -1.7776117e+00, -2.6140780e+00, -3.0894446e+00,  1.1717136e+00,\n",
       "       -8.4744221e-01,  1.0747718e-02,  5.1745731e-01,  1.4570700e+00,\n",
       "        2.4547207e+00,  1.9060236e+00, -2.4955530e+00,  1.6990608e+00,\n",
       "       -2.5266016e-01, -4.9551606e+00,  1.5448341e+00, -2.7115610e+00,\n",
       "        1.3579110e+00, -3.1448140e+00, -2.8672357e+00,  6.6104096e-01,\n",
       "        2.0149276e+00, -2.8315384e+00, -3.4911933e-03,  3.9166772e+00,\n",
       "        1.4721851e+00, -5.0707831e+00, -2.6586244e+00, -4.3608527e+00,\n",
       "       -4.1698515e-01, -1.1681120e-01, -1.6302227e+00, -1.0705440e+00,\n",
       "       -5.9256756e-01,  2.1571076e+00, -1.4390898e-02, -2.8177745e+00],\n",
       "      dtype=float32)"
      ]
     },
     "execution_count": 36,
     "metadata": {},
     "output_type": "execute_result"
    }
   ],
   "source": [
    "from gensim.models.keyedvectors import Word2VecKeyedVectors\n",
    "\n",
    "word2vec_path =os.getenv('HOME')+'/aiffel/sentiment_classification/data/word2vec_ko.model'\n",
    "word2vec = Word2VecKeyedVectors.load(word2vec_path)\n",
    "vector = word2vec.wv['눈물']\n",
    "vector"
   ]
  },
  {
   "cell_type": "code",
   "execution_count": 37,
   "id": "7fbb77ec",
   "metadata": {},
   "outputs": [
    {
     "data": {
      "text/plain": [
       "[('웃음', 0.7543492317199707),\n",
       " ('슬픔', 0.7267216444015503),\n",
       " ('한숨', 0.7182712554931641),\n",
       " ('피눈물', 0.7141152024269104),\n",
       " ('땀', 0.7121106386184692),\n",
       " ('이별', 0.695806622505188),\n",
       " ('가슴', 0.6698150038719177),\n",
       " ('기쁨', 0.657920241355896),\n",
       " ('머리카락', 0.6576725840568542),\n",
       " ('꿈', 0.6558417677879333)]"
      ]
     },
     "execution_count": 37,
     "metadata": {},
     "output_type": "execute_result"
    }
   ],
   "source": [
    "word2vec.wv.similar_by_word('눈물') # Word2Vec의 임베딩 기반 '눈물'과 유사도가 높은 단어"
   ]
  },
  {
   "cell_type": "code",
   "execution_count": 60,
   "id": "daeadddf",
   "metadata": {},
   "outputs": [
    {
     "name": "stdout",
     "output_type": "stream",
     "text": [
      "Model: \"sequential_11\"\n",
      "_________________________________________________________________\n",
      "Layer (type)                 Output Shape              Param #   \n",
      "=================================================================\n",
      "embedding_11 (Embedding)     (None, 50, 100)           1000000   \n",
      "_________________________________________________________________\n",
      "lstm_7 (LSTM)                (None, 200)               240800    \n",
      "_________________________________________________________________\n",
      "dense_12 (Dense)             (None, 1)                 201       \n",
      "=================================================================\n",
      "Total params: 1,241,001\n",
      "Trainable params: 1,241,001\n",
      "Non-trainable params: 0\n",
      "_________________________________________________________________\n"
     ]
    }
   ],
   "source": [
    "vocab_size = 10000\n",
    "word_vector_dim = 100\n",
    "embedding_matrix = np.random.rand(vocab_size, word_vector_dim)\n",
    "\n",
    "for i in range(4,vocab_size):\n",
    "    if index_to_word[i] in word2vec.wv:\n",
    "        embedding_matrix[i] = word2vec.wv[index_to_word[i]]\n",
    "        \n",
    "from tensorflow.keras.initializers import Constant\n",
    "\n",
    "vocab_size = 10000\n",
    "word_vector_dim = 100\n",
    "hidden_units = 200\n",
    "\n",
    "model = Sequential()\n",
    "model.add(Embedding(vocab_size, \n",
    "                         word_vector_dim, \n",
    "                         embeddings_initializer=Constant(embedding_matrix), # 위의 임베딩 사용\n",
    "                         input_length=50,\n",
    "                         trainable=True))\n",
    "model.add(LSTM(hidden_units)) # LSTM 선택\n",
    "model.add(Dense(1, activation='sigmoid'))\n",
    "\n",
    "es = EarlyStopping(monitor='val_loss', mode='min', verbose=1, patience=4)\n",
    "model.compile(optimizer='adam', loss='binary_crossentropy', metrics='accuracy')\n",
    "model.summary()\n"
   ]
  },
  {
   "cell_type": "code",
   "execution_count": 61,
   "id": "01fe0c0a",
   "metadata": {},
   "outputs": [
    {
     "name": "stdout",
     "output_type": "stream",
     "text": [
      "Epoch 1/20\n",
      "172/172 [==============================] - 7s 30ms/step - loss: 0.4966 - accuracy: 0.7531 - val_loss: 0.4173 - val_accuracy: 0.8105\n",
      "Epoch 2/20\n",
      "172/172 [==============================] - 5s 28ms/step - loss: 0.3638 - accuracy: 0.8394 - val_loss: 0.3568 - val_accuracy: 0.8424\n",
      "Epoch 3/20\n",
      "172/172 [==============================] - 5s 28ms/step - loss: 0.3057 - accuracy: 0.8682 - val_loss: 0.3351 - val_accuracy: 0.8551\n",
      "Epoch 4/20\n",
      "172/172 [==============================] - 5s 28ms/step - loss: 0.2656 - accuracy: 0.8885 - val_loss: 0.3495 - val_accuracy: 0.8492\n",
      "Epoch 5/20\n",
      "172/172 [==============================] - 5s 28ms/step - loss: 0.2318 - accuracy: 0.9054 - val_loss: 0.3383 - val_accuracy: 0.8594\n",
      "Epoch 6/20\n",
      "172/172 [==============================] - 5s 29ms/step - loss: 0.1992 - accuracy: 0.9208 - val_loss: 0.3529 - val_accuracy: 0.8598\n",
      "Epoch 7/20\n",
      "172/172 [==============================] - 5s 29ms/step - loss: 0.1714 - accuracy: 0.9336 - val_loss: 0.3799 - val_accuracy: 0.8588\n",
      "Epoch 00007: early stopping\n"
     ]
    }
   ],
   "source": [
    "history = model.fit(X_train, y_train, epochs=20, callbacks=es, batch_size=512,\\\n",
    "                    validation_data=(X_val, y_val), verbose=1)"
   ]
  },
  {
   "cell_type": "code",
   "execution_count": 62,
   "id": "fec20887",
   "metadata": {},
   "outputs": [
    {
     "name": "stdout",
     "output_type": "stream",
     "text": [
      "1537/1537 - 4s - loss: 0.3837 - accuracy: 0.8562\n"
     ]
    }
   ],
   "source": [
    "results = model.evaluate(X_test,  y_test, verbose=2) # 성능이 약간 높아짐"
   ]
  },
  {
   "cell_type": "code",
   "execution_count": null,
   "id": "5ab2d59a",
   "metadata": {},
   "outputs": [],
   "source": []
  }
 ],
 "metadata": {
  "kernelspec": {
   "display_name": "Python 3 (ipykernel)",
   "language": "python",
   "name": "python3"
  },
  "language_info": {
   "codemirror_mode": {
    "name": "ipython",
    "version": 3
   },
   "file_extension": ".py",
   "mimetype": "text/x-python",
   "name": "python",
   "nbconvert_exporter": "python",
   "pygments_lexer": "ipython3",
   "version": "3.9.7"
  }
 },
 "nbformat": 4,
 "nbformat_minor": 5
}
