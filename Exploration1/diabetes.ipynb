{
 "cells": [
  {
   "cell_type": "code",
   "execution_count": 1,
   "metadata": {},
   "outputs": [
    {
     "name": "stdout",
     "output_type": "stream",
     "text": [
      "(442, 10)\n",
      "(442,)\n"
     ]
    }
   ],
   "source": [
    "# (1)데이터 가져오기\n",
    "\n",
    "from sklearn.datasets import load_diabetes\n",
    "diabetes=load_diabetes() # diabetes 데이터 가져오기\n",
    "df_X = diabetes.data # diabetes.data df_X에 저장\n",
    "df_y = diabetes.target # diabetes.target df_y에 저장\n",
    "print(df_X.shape)\n",
    "print(df_y.shape)"
   ]
  },
  {
   "cell_type": "code",
   "execution_count": 2,
   "metadata": {},
   "outputs": [],
   "source": [
    "import numpy as np"
   ]
  },
  {
   "cell_type": "code",
   "execution_count": 3,
   "metadata": {},
   "outputs": [
    {
     "name": "stdout",
     "output_type": "stream",
     "text": [
      "<class 'numpy.ndarray'> <class 'numpy.ndarray'>\n"
     ]
    }
   ],
   "source": [
    "# (2)모델에 입력할 데이터 X 준비하기\n",
    "# (3)모델에 예측할 데이터 y 준비하기\n",
    "\n",
    "X = np.array(df_X) # df_X값 X에 numpy array로 저장\n",
    "y = np.array(df_y) # df_y값 y에 numpy array로 저장\n",
    "print(type(X), type(y)) # 타입 확인"
   ]
  },
  {
   "cell_type": "code",
   "execution_count": 4,
   "metadata": {},
   "outputs": [],
   "source": [
    "# (4) train 데이터와 test 데이터로 분리하기\n",
    "\n",
    "from sklearn.model_selection import train_test_split\n",
    "\n",
    "x_train, x_test, y_train, y_test = train_test_split(X, y, test_size=0.25, random_state=1) "
   ]
  },
  {
   "cell_type": "code",
   "execution_count": 5,
   "metadata": {},
   "outputs": [],
   "source": [
    "# (5) 모델 준비하기\n",
    "# 가중치 준비\n",
    "W = np.random.rand(10)\n",
    "b = np.random.rand()"
   ]
  },
  {
   "cell_type": "code",
   "execution_count": 6,
   "metadata": {},
   "outputs": [],
   "source": [
    "# model 함수 구현\n",
    "def model(X, W, b):\n",
    "    pred = 0\n",
    "    for i in range(10):\n",
    "        pred += X[:, i]*W[i]\n",
    "    pred += b\n",
    "    return pred"
   ]
  },
  {
   "cell_type": "code",
   "execution_count": 7,
   "metadata": {},
   "outputs": [],
   "source": [
    "# (6) 손실함수 loss 정의하기\n",
    "\n",
    "def MSE(a, b):\n",
    "    mse = ((a-b)**2).mean()\n",
    "    return mse\n",
    "\n",
    "def loss(X, W, b, y):\n",
    "    pred = model(X, W ,b)\n",
    "    L = MSE(pred, y)\n",
    "    return L"
   ]
  },
  {
   "cell_type": "code",
   "execution_count": 8,
   "metadata": {},
   "outputs": [],
   "source": [
    "# (7) 기울기를 구하는 gradient 함수 구현하기\n",
    "def gradient(X, W, b, y):\n",
    "    N = len(y)\n",
    "    y_pred = model(X, W, b)\n",
    "    dW = 1/N * 2 * X.T.dot(y_pred - y)\n",
    "    db = 2 * (y_pred - y).mean()\n",
    "    return dW, db"
   ]
  },
  {
   "cell_type": "code",
   "execution_count": 9,
   "metadata": {},
   "outputs": [],
   "source": [
    "# (8) 하이퍼 파라미터인 학습률 설정하기\n",
    "LEARNIG_RATE = 0.3"
   ]
  },
  {
   "cell_type": "code",
   "execution_count": 10,
   "metadata": {},
   "outputs": [
    {
     "name": "stdout",
     "output_type": "stream",
     "text": [
      "Iteration 10 : Loss 5899.2968\n",
      "Iteration 20 : Loss 5674.4655\n",
      "Iteration 30 : Loss 5470.5511\n",
      "Iteration 40 : Loss 5285.4399\n",
      "Iteration 50 : Loss 5117.2375\n",
      "Iteration 60 : Loss 4964.2462\n",
      "Iteration 70 : Loss 4824.9436\n",
      "Iteration 80 : Loss 4697.9649\n",
      "Iteration 90 : Loss 4582.0865\n",
      "Iteration 100 : Loss 4476.2106\n",
      "Iteration 110 : Loss 4379.3527\n",
      "Iteration 120 : Loss 4290.6296\n",
      "Iteration 130 : Loss 4209.2486\n",
      "Iteration 140 : Loss 4134.4985\n",
      "Iteration 150 : Loss 4065.7405\n",
      "Iteration 160 : Loss 4002.4015\n",
      "Iteration 170 : Loss 3943.9663\n",
      "Iteration 180 : Loss 3889.9725\n",
      "Iteration 190 : Loss 3840.0043\n",
      "Iteration 200 : Loss 3793.6880\n",
      "Iteration 210 : Loss 3750.6878\n",
      "Iteration 220 : Loss 3710.7012\n",
      "Iteration 230 : Loss 3673.4565\n",
      "Iteration 240 : Loss 3638.7087\n",
      "Iteration 250 : Loss 3606.2376\n",
      "Iteration 260 : Loss 3575.8443\n",
      "Iteration 270 : Loss 3547.3500\n",
      "Iteration 280 : Loss 3520.5932\n",
      "Iteration 290 : Loss 3495.4280\n",
      "Iteration 300 : Loss 3471.7231\n",
      "Iteration 310 : Loss 3449.3596\n",
      "Iteration 320 : Loss 3428.2299\n",
      "Iteration 330 : Loss 3408.2370\n",
      "Iteration 340 : Loss 3389.2928\n",
      "Iteration 350 : Loss 3371.3175\n",
      "Iteration 360 : Loss 3354.2390\n",
      "Iteration 370 : Loss 3337.9916\n",
      "Iteration 380 : Loss 3322.5156\n",
      "Iteration 390 : Loss 3307.7569\n",
      "Iteration 400 : Loss 3293.6662\n",
      "Iteration 410 : Loss 3280.1986\n",
      "Iteration 420 : Loss 3267.3129\n",
      "Iteration 430 : Loss 3254.9719\n",
      "Iteration 440 : Loss 3243.1412\n",
      "Iteration 450 : Loss 3231.7897\n",
      "Iteration 460 : Loss 3220.8884\n",
      "Iteration 470 : Loss 3210.4112\n",
      "Iteration 480 : Loss 3200.3337\n",
      "Iteration 490 : Loss 3190.6338\n",
      "Iteration 500 : Loss 3181.2909\n",
      "Iteration 510 : Loss 3172.2859\n",
      "Iteration 520 : Loss 3163.6015\n",
      "Iteration 530 : Loss 3155.2214\n",
      "Iteration 540 : Loss 3147.1306\n",
      "Iteration 550 : Loss 3139.3150\n",
      "Iteration 560 : Loss 3131.7618\n",
      "Iteration 570 : Loss 3124.4589\n",
      "Iteration 580 : Loss 3117.3949\n",
      "Iteration 590 : Loss 3110.5594\n",
      "Iteration 600 : Loss 3103.9425\n",
      "Iteration 610 : Loss 3097.5349\n",
      "Iteration 620 : Loss 3091.3280\n",
      "Iteration 630 : Loss 3085.3137\n",
      "Iteration 640 : Loss 3079.4842\n",
      "Iteration 650 : Loss 3073.8324\n",
      "Iteration 660 : Loss 3068.3513\n",
      "Iteration 670 : Loss 3063.0347\n",
      "Iteration 680 : Loss 3057.8762\n",
      "Iteration 690 : Loss 3052.8703\n",
      "Iteration 700 : Loss 3048.0113\n",
      "Iteration 710 : Loss 3043.2941\n",
      "Iteration 720 : Loss 3038.7136\n",
      "Iteration 730 : Loss 3034.2652\n",
      "Iteration 740 : Loss 3029.9444\n",
      "Iteration 750 : Loss 3025.7468\n",
      "Iteration 760 : Loss 3021.6683\n",
      "Iteration 770 : Loss 3017.7051\n",
      "Iteration 780 : Loss 3013.8533\n",
      "Iteration 790 : Loss 3010.1094\n",
      "Iteration 800 : Loss 3006.4698\n",
      "Iteration 810 : Loss 3002.9313\n",
      "Iteration 820 : Loss 2999.4907\n",
      "Iteration 830 : Loss 2996.1450\n",
      "Iteration 840 : Loss 2992.8911\n",
      "Iteration 850 : Loss 2989.7263\n",
      "Iteration 860 : Loss 2986.6479\n",
      "Iteration 870 : Loss 2983.6532\n",
      "Iteration 880 : Loss 2980.7397\n",
      "Iteration 890 : Loss 2977.9049\n",
      "Iteration 900 : Loss 2975.1466\n",
      "Iteration 910 : Loss 2972.4625\n",
      "Iteration 920 : Loss 2969.8503\n",
      "Iteration 930 : Loss 2967.3079\n",
      "Iteration 940 : Loss 2964.8334\n",
      "Iteration 950 : Loss 2962.4247\n",
      "Iteration 960 : Loss 2960.0799\n",
      "Iteration 970 : Loss 2957.7972\n",
      "Iteration 980 : Loss 2955.5749\n",
      "Iteration 990 : Loss 2953.4110\n",
      "Iteration 1000 : Loss 2951.3041\n"
     ]
    }
   ],
   "source": [
    "# (9) 모델 학습하기\n",
    "losses = []\n",
    "\n",
    "for i in range(1, 1001):\n",
    "    dW, db = gradient(x_train, W, b, y_train)\n",
    "    W -= LEARNIG_RATE * dW\n",
    "    b -= LEARNIG_RATE * db\n",
    "    L = loss(x_train, W, b, y_train)\n",
    "    losses.append(L)\n",
    "    if i % 10 == 0:\n",
    "        print(f'Iteration {i} : Loss {L:.4f}')"
   ]
  },
  {
   "cell_type": "code",
   "execution_count": 11,
   "metadata": {},
   "outputs": [
    {
     "data": {
      "image/png": "[encoded data removed]",
      "text/plain": [
       "<Figure size 640x480 with 1 Axes>"
      ]
     },
     "metadata": {},
     "output_type": "display_data"
    }
   ],
   "source": [
    "import matplotlib.pyplot as plt\n",
    "plt.plot(losses)\n",
    "plt.show()"
   ]
  },
  {
   "cell_type": "code",
   "execution_count": 12,
   "metadata": {},
   "outputs": [
    {
     "data": {
      "text/plain": [
       "2968.4517024655543"
      ]
     },
     "execution_count": 12,
     "metadata": {},
     "output_type": "execute_result"
    }
   ],
   "source": [
    "# (10) test 데이터에 대한 성능 확인하기\n",
    "pred = model(x_test, W, b)\n",
    "mse = loss(x_test, W, b, y_test)\n",
    "mse"
   ]
  },
  {
   "cell_type": "code",
   "execution_count": 13,
   "metadata": {},
   "outputs": [
    {
     "data": {
      "image/png": "[encoded data removed]",
      "text/plain": [
       "<Figure size 640x480 with 1 Axes>"
      ]
     },
     "metadata": {},
     "output_type": "display_data"
    }
   ],
   "source": [
    "# (11) 정답 데이터와 예측한 데이터 시각화하기\n",
    "\n",
    "plt.scatter(x_test[:,0], y_test)\n",
    "plt.scatter(x_test[:,0], pred)\n",
    "title = plt.title('diabetes regression')\n",
    "plt.show()"
   ]
  },
  {
   "cell_type": "code",
   "execution_count": null,
   "metadata": {},
   "outputs": [],
   "source": []
  }
 ],
 "metadata": {
  "kernelspec": {
   "display_name": "Python 3",
   "language": "python",
   "name": "python3"
  },
  "language_info": {
   "codemirror_mode": {
    "name": "ipython",
    "version": 3
   },
   "file_extension": ".py",
   "mimetype": "text/x-python",
   "name": "python",
   "nbconvert_exporter": "python",
   "pygments_lexer": "ipython3",
   "version": "3.9.6"
  },
  "orig_nbformat": 4
 },
 "nbformat": 4,
 "nbformat_minor": 2
}
